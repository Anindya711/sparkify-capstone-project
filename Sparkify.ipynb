{
 "cells": [
  {
   "cell_type": "markdown",
   "metadata": {},
   "source": [
    "# Sparkify Project Workspace\n",
    "This workspace contains a tiny subset (128MB) of the full dataset available (12GB). Feel free to use this workspace to build your project, or to explore a smaller subset with Spark before deploying your cluster on the cloud. Instructions for setting up your Spark cluster is included in the last lesson of the Extracurricular Spark Course content.\n",
    "\n",
    "You can follow the steps below to guide your data analysis and model building portion of this project."
   ]
  },
  {
   "cell_type": "code",
   "execution_count": 1,
   "metadata": {},
   "outputs": [],
   "source": [
    "# import libraries\n",
    "\n",
    "from pyspark.sql import SparkSession\n",
    "import pyspark.sql.functions as F\n",
    "from pyspark.sql.functions import avg, col, desc, lit, min, max, split, udf, sum, when\n",
    "from pyspark.sql.types import *\n",
    "from datetime import datetime \n",
    "import time\n",
    "import warnings\n",
    "warnings.filterwarnings('ignore')\n",
    "import datetime\n",
    "import numpy as np\n",
    "import pandas as pd\n",
    "import matplotlib.pyplot as plt\n",
    "%matplotlib inline\n",
    "import seaborn as sns\n",
    "\n",
    "from sklearn.metrics import roc_curve, auc\n",
    "from pyspark.ml import Pipeline\n",
    "from pyspark.ml.classification import LogisticRegression, RandomForestClassifier, DecisionTreeClassifier, GBTClassifier\n",
    "from pyspark.mllib.tree import DecisionTree\n",
    "\n",
    "from pyspark.ml.linalg import Vectors\n",
    "from pyspark.ml.evaluation import BinaryClassificationEvaluator\n",
    "from pyspark.mllib.evaluation import BinaryClassificationMetrics as metric\n",
    "from pyspark.ml.feature import VectorAssembler, Normalizer, StandardScaler\n",
    "\n",
    "from pyspark.ml.tuning import CrossValidator, ParamGridBuilder\n"
   ]
  },
  {
   "cell_type": "code",
   "execution_count": 2,
   "metadata": {},
   "outputs": [],
   "source": [
    "# create a Spark session\n",
    "spark = SparkSession \\\n",
    "        .builder \\\n",
    "        .appName(\"Predicting churn using Pyspark ML\") \\\n",
    "        .getOrCreate()"
   ]
  },
  {
   "cell_type": "markdown",
   "metadata": {},
   "source": [
    "# Load and Clean Dataset\n",
    "In this workspace, the mini-dataset file is `mini_sparkify_event_data.json`. Load and clean the dataset, checking for invalid or missing data - for example, records without userids or sessionids. "
   ]
  },
  {
   "cell_type": "code",
   "execution_count": 3,
   "metadata": {},
   "outputs": [],
   "source": [
    "events = spark.read.json('mini_sparkify_event_data.json')"
   ]
  },
  {
   "cell_type": "code",
   "execution_count": 4,
   "metadata": {},
   "outputs": [
    {
     "data": {
      "text/html": [
       "<div>\n",
       "<style scoped>\n",
       "    .dataframe tbody tr th:only-of-type {\n",
       "        vertical-align: middle;\n",
       "    }\n",
       "\n",
       "    .dataframe tbody tr th {\n",
       "        vertical-align: top;\n",
       "    }\n",
       "\n",
       "    .dataframe thead th {\n",
       "        text-align: right;\n",
       "    }\n",
       "</style>\n",
       "<table border=\"1\" class=\"dataframe\">\n",
       "  <thead>\n",
       "    <tr style=\"text-align: right;\">\n",
       "      <th></th>\n",
       "      <th>0</th>\n",
       "      <th>1</th>\n",
       "      <th>2</th>\n",
       "      <th>3</th>\n",
       "      <th>4</th>\n",
       "    </tr>\n",
       "  </thead>\n",
       "  <tbody>\n",
       "    <tr>\n",
       "      <th>artist</th>\n",
       "      <td>Martha Tilston</td>\n",
       "      <td>Five Iron Frenzy</td>\n",
       "      <td>Adam Lambert</td>\n",
       "      <td>Enigma</td>\n",
       "      <td>Daft Punk</td>\n",
       "    </tr>\n",
       "    <tr>\n",
       "      <th>auth</th>\n",
       "      <td>Logged In</td>\n",
       "      <td>Logged In</td>\n",
       "      <td>Logged In</td>\n",
       "      <td>Logged In</td>\n",
       "      <td>Logged In</td>\n",
       "    </tr>\n",
       "    <tr>\n",
       "      <th>firstName</th>\n",
       "      <td>Colin</td>\n",
       "      <td>Micah</td>\n",
       "      <td>Colin</td>\n",
       "      <td>Micah</td>\n",
       "      <td>Colin</td>\n",
       "    </tr>\n",
       "    <tr>\n",
       "      <th>gender</th>\n",
       "      <td>M</td>\n",
       "      <td>M</td>\n",
       "      <td>M</td>\n",
       "      <td>M</td>\n",
       "      <td>M</td>\n",
       "    </tr>\n",
       "    <tr>\n",
       "      <th>itemInSession</th>\n",
       "      <td>50</td>\n",
       "      <td>79</td>\n",
       "      <td>51</td>\n",
       "      <td>80</td>\n",
       "      <td>52</td>\n",
       "    </tr>\n",
       "    <tr>\n",
       "      <th>lastName</th>\n",
       "      <td>Freeman</td>\n",
       "      <td>Long</td>\n",
       "      <td>Freeman</td>\n",
       "      <td>Long</td>\n",
       "      <td>Freeman</td>\n",
       "    </tr>\n",
       "    <tr>\n",
       "      <th>length</th>\n",
       "      <td>277.89</td>\n",
       "      <td>236.094</td>\n",
       "      <td>282.827</td>\n",
       "      <td>262.713</td>\n",
       "      <td>223.608</td>\n",
       "    </tr>\n",
       "    <tr>\n",
       "      <th>level</th>\n",
       "      <td>paid</td>\n",
       "      <td>free</td>\n",
       "      <td>paid</td>\n",
       "      <td>free</td>\n",
       "      <td>paid</td>\n",
       "    </tr>\n",
       "    <tr>\n",
       "      <th>location</th>\n",
       "      <td>Bakersfield, CA</td>\n",
       "      <td>Boston-Cambridge-Newton, MA-NH</td>\n",
       "      <td>Bakersfield, CA</td>\n",
       "      <td>Boston-Cambridge-Newton, MA-NH</td>\n",
       "      <td>Bakersfield, CA</td>\n",
       "    </tr>\n",
       "    <tr>\n",
       "      <th>method</th>\n",
       "      <td>PUT</td>\n",
       "      <td>PUT</td>\n",
       "      <td>PUT</td>\n",
       "      <td>PUT</td>\n",
       "      <td>PUT</td>\n",
       "    </tr>\n",
       "    <tr>\n",
       "      <th>page</th>\n",
       "      <td>NextSong</td>\n",
       "      <td>NextSong</td>\n",
       "      <td>NextSong</td>\n",
       "      <td>NextSong</td>\n",
       "      <td>NextSong</td>\n",
       "    </tr>\n",
       "    <tr>\n",
       "      <th>registration</th>\n",
       "      <td>1538173362000</td>\n",
       "      <td>1538331630000</td>\n",
       "      <td>1538173362000</td>\n",
       "      <td>1538331630000</td>\n",
       "      <td>1538173362000</td>\n",
       "    </tr>\n",
       "    <tr>\n",
       "      <th>sessionId</th>\n",
       "      <td>29</td>\n",
       "      <td>8</td>\n",
       "      <td>29</td>\n",
       "      <td>8</td>\n",
       "      <td>29</td>\n",
       "    </tr>\n",
       "    <tr>\n",
       "      <th>song</th>\n",
       "      <td>Rockpools</td>\n",
       "      <td>Canada</td>\n",
       "      <td>Time For Miracles</td>\n",
       "      <td>Knocking On Forbidden Doors</td>\n",
       "      <td>Harder Better Faster Stronger</td>\n",
       "    </tr>\n",
       "    <tr>\n",
       "      <th>status</th>\n",
       "      <td>200</td>\n",
       "      <td>200</td>\n",
       "      <td>200</td>\n",
       "      <td>200</td>\n",
       "      <td>200</td>\n",
       "    </tr>\n",
       "    <tr>\n",
       "      <th>ts</th>\n",
       "      <td>1538352117000</td>\n",
       "      <td>1538352180000</td>\n",
       "      <td>1538352394000</td>\n",
       "      <td>1538352416000</td>\n",
       "      <td>1538352676000</td>\n",
       "    </tr>\n",
       "    <tr>\n",
       "      <th>userAgent</th>\n",
       "      <td>Mozilla/5.0 (Windows NT 6.1; WOW64; rv:31.0) G...</td>\n",
       "      <td>\"Mozilla/5.0 (Windows NT 6.1; WOW64) AppleWebK...</td>\n",
       "      <td>Mozilla/5.0 (Windows NT 6.1; WOW64; rv:31.0) G...</td>\n",
       "      <td>\"Mozilla/5.0 (Windows NT 6.1; WOW64) AppleWebK...</td>\n",
       "      <td>Mozilla/5.0 (Windows NT 6.1; WOW64; rv:31.0) G...</td>\n",
       "    </tr>\n",
       "    <tr>\n",
       "      <th>userId</th>\n",
       "      <td>30</td>\n",
       "      <td>9</td>\n",
       "      <td>30</td>\n",
       "      <td>9</td>\n",
       "      <td>30</td>\n",
       "    </tr>\n",
       "  </tbody>\n",
       "</table>\n",
       "</div>"
      ],
      "text/plain": [
       "                                                               0  \\\n",
       "artist                                            Martha Tilston   \n",
       "auth                                                   Logged In   \n",
       "firstName                                                  Colin   \n",
       "gender                                                         M   \n",
       "itemInSession                                                 50   \n",
       "lastName                                                 Freeman   \n",
       "length                                                    277.89   \n",
       "level                                                       paid   \n",
       "location                                         Bakersfield, CA   \n",
       "method                                                       PUT   \n",
       "page                                                    NextSong   \n",
       "registration                                       1538173362000   \n",
       "sessionId                                                     29   \n",
       "song                                                   Rockpools   \n",
       "status                                                       200   \n",
       "ts                                                 1538352117000   \n",
       "userAgent      Mozilla/5.0 (Windows NT 6.1; WOW64; rv:31.0) G...   \n",
       "userId                                                        30   \n",
       "\n",
       "                                                               1  \\\n",
       "artist                                          Five Iron Frenzy   \n",
       "auth                                                   Logged In   \n",
       "firstName                                                  Micah   \n",
       "gender                                                         M   \n",
       "itemInSession                                                 79   \n",
       "lastName                                                    Long   \n",
       "length                                                   236.094   \n",
       "level                                                       free   \n",
       "location                          Boston-Cambridge-Newton, MA-NH   \n",
       "method                                                       PUT   \n",
       "page                                                    NextSong   \n",
       "registration                                       1538331630000   \n",
       "sessionId                                                      8   \n",
       "song                                                      Canada   \n",
       "status                                                       200   \n",
       "ts                                                 1538352180000   \n",
       "userAgent      \"Mozilla/5.0 (Windows NT 6.1; WOW64) AppleWebK...   \n",
       "userId                                                         9   \n",
       "\n",
       "                                                               2  \\\n",
       "artist                                              Adam Lambert   \n",
       "auth                                                   Logged In   \n",
       "firstName                                                  Colin   \n",
       "gender                                                         M   \n",
       "itemInSession                                                 51   \n",
       "lastName                                                 Freeman   \n",
       "length                                                   282.827   \n",
       "level                                                       paid   \n",
       "location                                         Bakersfield, CA   \n",
       "method                                                       PUT   \n",
       "page                                                    NextSong   \n",
       "registration                                       1538173362000   \n",
       "sessionId                                                     29   \n",
       "song                                           Time For Miracles   \n",
       "status                                                       200   \n",
       "ts                                                 1538352394000   \n",
       "userAgent      Mozilla/5.0 (Windows NT 6.1; WOW64; rv:31.0) G...   \n",
       "userId                                                        30   \n",
       "\n",
       "                                                               3  \\\n",
       "artist                                                    Enigma   \n",
       "auth                                                   Logged In   \n",
       "firstName                                                  Micah   \n",
       "gender                                                         M   \n",
       "itemInSession                                                 80   \n",
       "lastName                                                    Long   \n",
       "length                                                   262.713   \n",
       "level                                                       free   \n",
       "location                          Boston-Cambridge-Newton, MA-NH   \n",
       "method                                                       PUT   \n",
       "page                                                    NextSong   \n",
       "registration                                       1538331630000   \n",
       "sessionId                                                      8   \n",
       "song                                 Knocking On Forbidden Doors   \n",
       "status                                                       200   \n",
       "ts                                                 1538352416000   \n",
       "userAgent      \"Mozilla/5.0 (Windows NT 6.1; WOW64) AppleWebK...   \n",
       "userId                                                         9   \n",
       "\n",
       "                                                               4  \n",
       "artist                                                 Daft Punk  \n",
       "auth                                                   Logged In  \n",
       "firstName                                                  Colin  \n",
       "gender                                                         M  \n",
       "itemInSession                                                 52  \n",
       "lastName                                                 Freeman  \n",
       "length                                                   223.608  \n",
       "level                                                       paid  \n",
       "location                                         Bakersfield, CA  \n",
       "method                                                       PUT  \n",
       "page                                                    NextSong  \n",
       "registration                                       1538173362000  \n",
       "sessionId                                                     29  \n",
       "song                               Harder Better Faster Stronger  \n",
       "status                                                       200  \n",
       "ts                                                 1538352676000  \n",
       "userAgent      Mozilla/5.0 (Windows NT 6.1; WOW64; rv:31.0) G...  \n",
       "userId                                                        30  "
      ]
     },
     "execution_count": 4,
     "metadata": {},
     "output_type": "execute_result"
    }
   ],
   "source": [
    "#checking the first 5 rows from the dataset\n",
    "#using pandas to print the dataframe in a more readable format\n",
    "pd.DataFrame(events.take(5), columns=events.columns).transpose()"
   ]
  },
  {
   "cell_type": "code",
   "execution_count": 5,
   "metadata": {},
   "outputs": [
    {
     "data": {
      "text/plain": [
       "1775"
      ]
     },
     "execution_count": 5,
     "metadata": {},
     "output_type": "execute_result"
    }
   ],
   "source": [
    "#checking count of rows for one user\n",
    "events.where(col(\"userId\") == 30).count()"
   ]
  },
  {
   "cell_type": "code",
   "execution_count": 6,
   "metadata": {},
   "outputs": [
    {
     "name": "stdout",
     "output_type": "stream",
     "text": [
      "+--------------------+---------+---------+------+-------------+--------+---------+-----+---------------+------+---------------+-------------+---------+--------------------+------+-------------+--------------------+------+\n",
      "|              artist|     auth|firstName|gender|itemInSession|lastName|   length|level|       location|method|           page| registration|sessionId|                song|status|           ts|           userAgent|userId|\n",
      "+--------------------+---------+---------+------+-------------+--------+---------+-----+---------------+------+---------------+-------------+---------+--------------------+------+-------------+--------------------+------+\n",
      "|      Martha Tilston|Logged In|    Colin|     M|           50| Freeman|277.89016| paid|Bakersfield, CA|   PUT|       NextSong|1538173362000|       29|           Rockpools|   200|1538352117000|Mozilla/5.0 (Wind...|    30|\n",
      "|        Adam Lambert|Logged In|    Colin|     M|           51| Freeman| 282.8273| paid|Bakersfield, CA|   PUT|       NextSong|1538173362000|       29|   Time For Miracles|   200|1538352394000|Mozilla/5.0 (Wind...|    30|\n",
      "|           Daft Punk|Logged In|    Colin|     M|           52| Freeman|223.60771| paid|Bakersfield, CA|   PUT|       NextSong|1538173362000|       29|Harder Better Fas...|   200|1538352676000|Mozilla/5.0 (Wind...|    30|\n",
      "|        Starflyer 59|Logged In|    Colin|     M|           53| Freeman|185.44281| paid|Bakersfield, CA|   PUT|       NextSong|1538173362000|       29|Passengers (Old A...|   200|1538352899000|Mozilla/5.0 (Wind...|    30|\n",
      "|                null|Logged In|    Colin|     M|           54| Freeman|     null| paid|Bakersfield, CA|   PUT|Add to Playlist|1538173362000|       29|                null|   200|1538352905000|Mozilla/5.0 (Wind...|    30|\n",
      "|            Frumpies|Logged In|    Colin|     M|           55| Freeman|134.47791| paid|Bakersfield, CA|   PUT|       NextSong|1538173362000|       29|          Fuck Kitty|   200|1538353084000|Mozilla/5.0 (Wind...|    30|\n",
      "|Edward Sharpe & T...|Logged In|    Colin|     M|           56| Freeman|223.58159| paid|Bakersfield, CA|   PUT|       NextSong|1538173362000|       29|                Jade|   200|1538353218000|Mozilla/5.0 (Wind...|    30|\n",
      "|         Stan Mosley|Logged In|    Colin|     M|           57| Freeman|246.69995| paid|Bakersfield, CA|   PUT|       NextSong|1538173362000|       29|   So-Called Friends|   200|1538353441000|Mozilla/5.0 (Wind...|    30|\n",
      "|             Orishas|Logged In|    Colin|     M|           58| Freeman|222.22322| paid|Bakersfield, CA|   PUT|       NextSong|1538173362000|       29|           Represent|   200|1538353687000|Mozilla/5.0 (Wind...|    30|\n",
      "|            Downhere|Logged In|    Colin|     M|           59| Freeman|223.92118| paid|Bakersfield, CA|   PUT|       NextSong|1538173362000|       29|           Here I Am|   200|1538353909000|Mozilla/5.0 (Wind...|    30|\n",
      "|             Skillet|Logged In|    Colin|     M|           60| Freeman|233.32526| paid|Bakersfield, CA|   PUT|       NextSong|1538173362000|       29|Rebirthing (Album...|   200|1538354132000|Mozilla/5.0 (Wind...|    30|\n",
      "|Florence + The Ma...|Logged In|    Colin|     M|           61| Freeman|219.66322| paid|Bakersfield, CA|   PUT|       NextSong|1538173362000|       29|Dog Days Are Over...|   200|1538354365000|Mozilla/5.0 (Wind...|    30|\n",
      "|          Nick Drake|Logged In|    Colin|     M|           62| Freeman|222.92853| paid|Bakersfield, CA|   PUT|       NextSong|1538173362000|       29|Tomorrow Is A Lon...|   200|1538354584000|Mozilla/5.0 (Wind...|    30|\n",
      "|Lambert_ Hendrick...|Logged In|    Colin|     M|           63| Freeman|139.04934| paid|Bakersfield, CA|   PUT|       NextSong|1538173362000|       29|    Halloween Spooks|   200|1538354806000|Mozilla/5.0 (Wind...|    30|\n",
      "|          Kanye West|Logged In|    Colin|     M|           64| Freeman|311.84934| paid|Bakersfield, CA|   PUT|       NextSong|1538173362000|       29|            Stronger|   200|1538354945000|Mozilla/5.0 (Wind...|    30|\n",
      "|  Redman / Ready Roc|Logged In|    Colin|     M|           65| Freeman|217.91302| paid|Bakersfield, CA|   PUT|       NextSong|1538173362000|       29|   Dis Iz Brick City|   200|1538355256000|Mozilla/5.0 (Wind...|    30|\n",
      "|The All-American ...|Logged In|    Colin|     M|           66| Freeman|238.86322| paid|Bakersfield, CA|   PUT|       NextSong|1538173362000|       29|          Move Along|   200|1538355473000|Mozilla/5.0 (Wind...|    30|\n",
      "|       Kings Of Leon|Logged In|    Colin|     M|           67| Freeman| 204.2771| paid|Bakersfield, CA|   PUT|       NextSong|1538173362000|       29|           Manhattan|   200|1538355711000|Mozilla/5.0 (Wind...|    30|\n",
      "|            BjÃÂ¶rk|Logged In|    Colin|     M|           68| Freeman|348.57751| paid|Bakersfield, CA|   PUT|       NextSong|1538173362000|       29|                Undo|   200|1538355915000|Mozilla/5.0 (Wind...|    30|\n",
      "|         The Prodigy|Logged In|    Colin|     M|           69| Freeman|260.07465| paid|Bakersfield, CA|   PUT|       NextSong|1538173362000|       29|     The Big Gundown|   200|1538356263000|Mozilla/5.0 (Wind...|    30|\n",
      "|    Evan Rachel Wood|Logged In|    Colin|     M|           70| Freeman|184.92036| paid|Bakersfield, CA|   PUT|       NextSong|1538173362000|       29|          Black Bird|   200|1538356523000|Mozilla/5.0 (Wind...|    30|\n",
      "|                null|Logged In|    Colin|     M|           71| Freeman|     null| paid|Bakersfield, CA|   PUT|    Thumbs Down|1538173362000|       29|                null|   307|1538356524000|Mozilla/5.0 (Wind...|    30|\n",
      "|   Ultra Vivid Scene|Logged In|    Colin|     M|           72| Freeman|196.93669| paid|Bakersfield, CA|   PUT|       NextSong|1538173362000|       29|              Nausea|   200|1538356707000|Mozilla/5.0 (Wind...|    30|\n",
      "|           Nevermore|Logged In|    Colin|     M|           73| Freeman|320.57424| paid|Bakersfield, CA|   PUT|       NextSong|1538173362000|       29|           Matricide|   200|1538356903000|Mozilla/5.0 (Wind...|    30|\n",
      "|       Amy Winehouse|Logged In|    Colin|     M|           74| Freeman|229.85098| paid|Bakersfield, CA|   PUT|       NextSong|1538173362000|       29|             Valerie|   200|1538357223000|Mozilla/5.0 (Wind...|    30|\n",
      "|  Traveling Wilburys|Logged In|    Colin|     M|           75| Freeman|196.51873| paid|Bakersfield, CA|   PUT|       NextSong|1538173362000|       29|           Margarita|   200|1538357452000|Mozilla/5.0 (Wind...|    30|\n",
      "|     Jacky Terrasson|Logged In|    Colin|     M|           76| Freeman| 342.7522| paid|Bakersfield, CA|   PUT|       NextSong|1538173362000|       29|   Le Jardin d'Hiver|   200|1538357648000|Mozilla/5.0 (Wind...|    30|\n",
      "|                null|Logged In|    Colin|     M|           77| Freeman|     null| paid|Bakersfield, CA|   PUT|      Thumbs Up|1538173362000|       29|                null|   307|1538357649000|Mozilla/5.0 (Wind...|    30|\n",
      "|         Faith Evans|Logged In|    Colin|     M|           78| Freeman|324.28363| paid|Bakersfield, CA|   PUT|       NextSong|1538173362000|       29|Soon As I Get Hom...|   200|1538357990000|Mozilla/5.0 (Wind...|    30|\n",
      "|                null|Logged In|    Colin|     M|           79| Freeman|     null| paid|Bakersfield, CA|   PUT|      Thumbs Up|1538173362000|       29|                null|   307|1538357991000|Mozilla/5.0 (Wind...|    30|\n",
      "|            Righeira|Logged In|    Colin|     M|           80| Freeman|218.53995| paid|Bakersfield, CA|   PUT|       NextSong|1538173362000|       29|    Vamos a la Playa|   200|1538358314000|Mozilla/5.0 (Wind...|    30|\n",
      "|            Miranda!|Logged In|    Colin|     M|           81| Freeman|229.82485| paid|Bakersfield, CA|   PUT|       NextSong|1538173362000|       29|            Perfecta|   200|1538358532000|Mozilla/5.0 (Wind...|    30|\n",
      "|             Trivium|Logged In|    Colin|     M|           82| Freeman|293.66812| paid|Bakersfield, CA|   PUT|       NextSong|1538173362000|       29|             Requiem|   200|1538358761000|Mozilla/5.0 (Wind...|    30|\n",
      "|      Foolish Things|Logged In|    Colin|     M|           83| Freeman|266.86649| paid|Bakersfield, CA|   PUT|       NextSong|1538173362000|       29|     Who Can Compare|   200|1538359054000|Mozilla/5.0 (Wind...|    30|\n",
      "|      The Black Keys|Logged In|    Colin|     M|           84| Freeman|1400.2673| paid|Bakersfield, CA|   PUT|       NextSong|1538173362000|       29|240 Years Before ...|   200|1538359320000|Mozilla/5.0 (Wind...|    30|\n",
      "|            Belanova|Logged In|    Colin|     M|           85| Freeman|185.88689| paid|Bakersfield, CA|   PUT|       NextSong|1538173362000|       29|         Rosa Pastel|   200|1538360720000|Mozilla/5.0 (Wind...|    30|\n",
      "|                null|Logged In|    Colin|     M|           86| Freeman|     null| paid|Bakersfield, CA|   GET|    Roll Advert|1538173362000|       29|                null|   200|1538360737000|Mozilla/5.0 (Wind...|    30|\n",
      "|              Cherie|Logged In|    Colin|     M|           87| Freeman|202.13506| paid|Bakersfield, CA|   PUT|       NextSong|1538173362000|       29|I'm Ready (Album ...|   200|1538360905000|Mozilla/5.0 (Wind...|    30|\n",
      "|           Starfield|Logged In|    Colin|     M|           88| Freeman| 265.7171| paid|Bakersfield, CA|   PUT|       NextSong|1538173362000|       29|    No Other Saviour|   200|1538361107000|Mozilla/5.0 (Wind...|    30|\n",
      "| JosÃÂ© GonzÃÂ¡lez|Logged In|    Colin|     M|           89| Freeman|168.98567| paid|Bakersfield, CA|   PUT|       NextSong|1538173362000|       29|               Hints|   200|1538361372000|Mozilla/5.0 (Wind...|    30|\n",
      "|            Coldplay|Logged In|    Colin|     M|           90| Freeman|268.38159| paid|Bakersfield, CA|   PUT|       NextSong|1538173362000|       29|              Yellow|   200|1538361540000|Mozilla/5.0 (Wind...|    30|\n",
      "|                null|Logged In|    Colin|     M|           91| Freeman|     null| paid|Bakersfield, CA|   PUT|Add to Playlist|1538173362000|       29|                null|   200|1538361575000|Mozilla/5.0 (Wind...|    30|\n",
      "|         The Wombats|Logged In|    Colin|     M|            0| Freeman|164.70159| paid|Bakersfield, CA|   PUT|       NextSong|1538173362000|      264|Kill The Director...|   200|1538810630000|Mozilla/5.0 (Wind...|    30|\n",
      "|                null|Logged In|    Colin|     M|            1| Freeman|     null| paid|Bakersfield, CA|   PUT|     Add Friend|1538173362000|      264|                null|   307|1538810631000|Mozilla/5.0 (Wind...|    30|\n",
      "|                null|Logged In|    Colin|     M|            0| Freeman|     null| paid|Bakersfield, CA|   GET|           Home|1538173362000|      532|                null|   200|1538948226000|Mozilla/5.0 (Wind...|    30|\n",
      "|          Unter Null|Logged In|    Colin|     M|            1| Freeman|351.81669| paid|Bakersfield, CA|   PUT|       NextSong|1538173362000|      532|         Third Party|   200|1538948240000|Mozilla/5.0 (Wind...|    30|\n",
      "|                MGMT|Logged In|    Colin|     M|            2| Freeman|  246.282| paid|Bakersfield, CA|   PUT|       NextSong|1538173362000|      532|        It's Working|   200|1538948591000|Mozilla/5.0 (Wind...|    30|\n",
      "|        June Christy|Logged In|    Colin|     M|            3| Freeman|197.92934| paid|Bakersfield, CA|   PUT|       NextSong|1538173362000|      532|I'll Remember Apr...|   200|1538948837000|Mozilla/5.0 (Wind...|    30|\n",
      "|        James Horner|Logged In|    Colin|     M|            4| Freeman|191.81669| paid|Bakersfield, CA|   PUT|       NextSong|1538173362000|      532|  Atmosphere Station|   200|1538949034000|Mozilla/5.0 (Wind...|    30|\n",
      "|           Radiohead|Logged In|    Colin|     M|            5| Freeman| 323.5522| paid|Bakersfield, CA|   PUT|       NextSong|1538173362000|      532|        There_ There|   200|1538949225000|Mozilla/5.0 (Wind...|    30|\n",
      "|            Slipknot|Logged In|    Colin|     M|            6| Freeman|345.70404| paid|Bakersfield, CA|   PUT|       NextSong|1538173362000|      532|'Til We Die (Albu...|   200|1538949548000|Mozilla/5.0 (Wind...|    30|\n",
      "|        Billy Talent|Logged In|    Colin|     M|            7| Freeman|179.09506| paid|Bakersfield, CA|   PUT|       NextSong|1538173362000|      532|Lies (Album Version)|   200|1538949893000|Mozilla/5.0 (Wind...|    30|\n",
      "|         The Killers|Logged In|    Colin|     M|            8| Freeman|230.39955| paid|Bakersfield, CA|   PUT|       NextSong|1538173362000|      532|The Ballad of Mic...|   200|1538950072000|Mozilla/5.0 (Wind...|    30|\n",
      "|         Future Rock|Logged In|    Colin|     M|            9| Freeman|239.90812| paid|Bakersfield, CA|   PUT|       NextSong|1538173362000|      532|               Gears|   200|1538950302000|Mozilla/5.0 (Wind...|    30|\n",
      "|          India.Arie|Logged In|    Colin|     M|           10| Freeman|271.35955| paid|Bakersfield, CA|   PUT|       NextSong|1538173362000|      532|          These Eyes|   200|1538950541000|Mozilla/5.0 (Wind...|    30|\n",
      "|                null|Logged In|    Colin|     M|           11| Freeman|     null| paid|Bakersfield, CA|   GET|           Help|1538173362000|      532|                null|   200|1538950549000|Mozilla/5.0 (Wind...|    30|\n",
      "|                null|Logged In|    Colin|     M|           12| Freeman|     null| paid|Bakersfield, CA|   GET|           Home|1538173362000|      532|                null|   200|1538950593000|Mozilla/5.0 (Wind...|    30|\n",
      "|          Kanye West|Logged In|    Colin|     M|           13| Freeman|311.92771| paid|Bakersfield, CA|   PUT|       NextSong|1538173362000|      532|            Stronger|   200|1538950812000|Mozilla/5.0 (Wind...|    30|\n",
      "|              Weezer|Logged In|    Colin|     M|           14| Freeman|204.40771| paid|Bakersfield, CA|   PUT|       NextSong|1538173362000|      532| This Is Such A Pity|   200|1538951123000|Mozilla/5.0 (Wind...|    30|\n",
      "|       Sheena Easton|Logged In|    Colin|     M|           15| Freeman|239.62077| paid|Bakersfield, CA|   PUT|       NextSong|1538173362000|      532|Strut (1993 Digit...|   200|1538951327000|Mozilla/5.0 (Wind...|    30|\n",
      "|     The Temper Trap|Logged In|    Colin|     M|           16| Freeman|192.67873| paid|Bakersfield, CA|   PUT|       NextSong|1538173362000|      532|               Fader|   200|1538951566000|Mozilla/5.0 (Wind...|    30|\n",
      "|             Shakira|Logged In|    Colin|     M|           17| Freeman|218.33098| paid|Bakersfield, CA|   PUT|       NextSong|1538173362000|      532|  Se Quiere_ Se Mata|   200|1538951758000|Mozilla/5.0 (Wind...|    30|\n",
      "|    Charlotte Church|Logged In|    Colin|     M|           18| Freeman|169.92608| paid|Bakersfield, CA|   PUT|       NextSong|1538173362000|      532|           Somewhere|   200|1538951976000|Mozilla/5.0 (Wind...|    30|\n",
      "|    Five Iron Frenzy|Logged In|    Colin|     M|           19| Freeman|236.09424| paid|Bakersfield, CA|   PUT|       NextSong|1538173362000|      532|              Canada|   200|1538952145000|Mozilla/5.0 (Wind...|    30|\n",
      "|The Brand New Hea...|Logged In|    Colin|     M|           20| Freeman| 240.8224| paid|Bakersfield, CA|   PUT|       NextSong|1538173362000|      532|    Dream On Dreamer|   200|1538952381000|Mozilla/5.0 (Wind...|    30|\n",
      "|              Mariza|Logged In|    Colin|     M|           21| Freeman|216.39791| paid|Bakersfield, CA|   PUT|       NextSong|1538173362000|      532|HÃÂ¡ Uma MÃÂºsi...|   200|1538952621000|Mozilla/5.0 (Wind...|    30|\n",
      "|Jermaine Dupri fe...|Logged In|    Colin|     M|           22| Freeman|254.30159| paid|Bakersfield, CA|   PUT|       NextSong|1538173362000|      532| Money Ain't A Thang|   200|1538952837000|Mozilla/5.0 (Wind...|    30|\n",
      "|      The Black Keys|Logged In|    Colin|     M|           23| Freeman|191.76444| paid|Bakersfield, CA|   PUT|       NextSong|1538173362000|      532|     Howlin\u0019 For You|   200|1538953091000|Mozilla/5.0 (Wind...|    30|\n",
      "|  Charttraxx Karaoke|Logged In|    Colin|     M|           24| Freeman|225.17506| paid|Bakersfield, CA|   PUT|       NextSong|1538173362000|      532|           Fireflies|   200|1538953282000|Mozilla/5.0 (Wind...|    30|\n",
      "|              Metric|Logged In|    Colin|     M|           25| Freeman|252.99546| paid|Bakersfield, CA|   PUT|       NextSong|1538173362000|      532|        Stadium Love|   200|1538953507000|Mozilla/5.0 (Wind...|    30|\n",
      "|                null|Logged In|    Colin|     M|           26| Freeman|     null| paid|Bakersfield, CA|   GET|      Downgrade|1538173362000|      532|                null|   200|1538953526000|Mozilla/5.0 (Wind...|    30|\n",
      "|the bird and the bee|Logged In|    Colin|     M|           27| Freeman|  165.642| paid|Bakersfield, CA|   PUT|       NextSong|1538173362000|      532|       Again & Again|   200|1538953759000|Mozilla/5.0 (Wind...|    30|\n",
      "|         Iron Maiden|Logged In|    Colin|     M|           28| Freeman|252.08118| paid|Bakersfield, CA|   PUT|       NextSong|1538173362000|      532|The Trooper (1998...|   200|1538953924000|Mozilla/5.0 (Wind...|    30|\n",
      "|          Kool Keith|Logged In|    Colin|     M|           29| Freeman|138.44853| paid|Bakersfield, CA|   PUT|       NextSong|1538173362000|      532| Get Off My Elevator|   200|1538954176000|Mozilla/5.0 (Wind...|    30|\n",
      "|       Elliott Smith|Logged In|    Colin|     M|           30| Freeman|181.41995| paid|Bakersfield, CA|   PUT|       NextSong|1538173362000|      532|        Speed Trials|   200|1538954314000|Mozilla/5.0 (Wind...|    30|\n",
      "|            Tub Ring|Logged In|    Colin|     M|           31| Freeman|233.69098| paid|Bakersfield, CA|   PUT|       NextSong|1538173362000|      532|             Invalid|   200|1538954495000|Mozilla/5.0 (Wind...|    30|\n",
      "|           Holy Fuck|Logged In|    Colin|     M|           32| Freeman|174.73261| paid|Bakersfield, CA|   PUT|       NextSong|1538173362000|      532|           Frenchy\u0019s|   200|1538954728000|Mozilla/5.0 (Wind...|    30|\n",
      "|Florence + The Ma...|Logged In|    Colin|     M|           33| Freeman|249.20771| paid|Bakersfield, CA|   PUT|       NextSong|1538173362000|      532|   Between Two Lungs|   200|1538954902000|Mozilla/5.0 (Wind...|    30|\n",
      "|      Violet Indiana|Logged In|    Colin|     M|           34| Freeman|226.87302| paid|Bakersfield, CA|   PUT|       NextSong|1538173362000|      532|              Hiding|   200|1538955151000|Mozilla/5.0 (Wind...|    30|\n",
      "|  Gilbert O'Sullivan|Logged In|    Colin|     M|           35| Freeman|218.69669| paid|Bakersfield, CA|   PUT|       NextSong|1538173362000|      532|Alone Again (Natu...|   200|1538955377000|Mozilla/5.0 (Wind...|    30|\n",
      "|            The Fray|Logged In|    Colin|     M|           36| Freeman|240.56118| paid|Bakersfield, CA|   PUT|       NextSong|1538173362000|      532|        You Found Me|   200|1538955595000|Mozilla/5.0 (Wind...|    30|\n",
      "|        Taylor Swift|Logged In|    Colin|     M|           37| Freeman|201.06404| paid|Bakersfield, CA|   PUT|       NextSong|1538173362000|      532|            Our Song|   200|1538955835000|Mozilla/5.0 (Wind...|    30|\n",
      "|         Suzi Quatro|Logged In|    Colin|     M|           38| Freeman|194.45506| paid|Bakersfield, CA|   PUT|       NextSong|1538173362000|      532|           Rock Hard|   200|1538956036000|Mozilla/5.0 (Wind...|    30|\n",
      "|      Jennifer Lopez|Logged In|    Colin|     M|           39| Freeman|245.96853| paid|Bakersfield, CA|   PUT|       NextSong|1538173362000|      532| Waiting For Tonight|   200|1538956230000|Mozilla/5.0 (Wind...|    30|\n",
      "|            Interpol|Logged In|    Colin|     M|           40| Freeman| 341.7073| paid|Bakersfield, CA|   PUT|       NextSong|1538173362000|      532|Pioneer to The Falls|   200|1538956475000|Mozilla/5.0 (Wind...|    30|\n",
      "|       Dwight Yoakam|Logged In|    Colin|     M|           41| Freeman| 239.3073| paid|Bakersfield, CA|   PUT|       NextSong|1538173362000|      532|      You're The One|   200|1538956816000|Mozilla/5.0 (Wind...|    30|\n",
      "|           Super Cat|Logged In|    Colin|     M|           42| Freeman|173.13914| paid|Bakersfield, CA|   PUT|       NextSong|1538173362000|      532|     Trash And Ready|   200|1538957055000|Mozilla/5.0 (Wind...|    30|\n",
      "|Soul II Soul Feat...|Logged In|    Colin|     M|           43| Freeman| 361.7171| paid|Bakersfield, CA|   PUT|       NextSong|1538173362000|      532|      Keep On Movin'|   200|1538957228000|Mozilla/5.0 (Wind...|    30|\n",
      "|              Cazuza|Logged In|    Colin|     M|           44| Freeman|174.10567| paid|Bakersfield, CA|   PUT|       NextSong|1538173362000|      532|    Quase Um Segundo|   200|1538957589000|Mozilla/5.0 (Wind...|    30|\n",
      "|Los Abuelos De La...|Logged In|    Colin|     M|           45| Freeman|197.90322| paid|Bakersfield, CA|   PUT|       NextSong|1538173362000|      532|Costumbres Argent...|   200|1538957763000|Mozilla/5.0 (Wind...|    30|\n",
      "|Cliff Richard & T...|Logged In|    Colin|     M|           46| Freeman|130.45506| paid|Bakersfield, CA|   PUT|       NextSong|1538173362000|      532|Nine Times Out Of...|   200|1538957960000|Mozilla/5.0 (Wind...|    30|\n",
      "|             Incubus|Logged In|    Colin|     M|           47| Freeman|297.63873| paid|Bakersfield, CA|   PUT|       NextSong|1538173362000|      532|           Bass Solo|   200|1538958090000|Mozilla/5.0 (Wind...|    30|\n",
      "|Metallica / Maria...|Logged In|    Colin|     M|           48| Freeman|279.11791| paid|Bakersfield, CA|   PUT|       NextSong|1538173362000|      532|  The Memory Remains|   200|1538958387000|Mozilla/5.0 (Wind...|    30|\n",
      "| Simian Mobile Disco|Logged In|    Colin|     M|           49| Freeman|257.35791| paid|Bakersfield, CA|   PUT|       NextSong|1538173362000|      532|               Clock|   200|1538958666000|Mozilla/5.0 (Wind...|    30|\n",
      "|         Dan Sartain|Logged In|    Colin|     M|           50| Freeman|104.95955| paid|Bakersfield, CA|   PUT|       NextSong|1538173362000|      532|I Don\u0019t Wanna Go ...|   200|1538958923000|Mozilla/5.0 (Wind...|    30|\n",
      "|  The Rolling Stones|Logged In|    Colin|     M|           51| Freeman|253.49179| paid|Bakersfield, CA|   PUT|       NextSong|1538173362000|      532|       She's So Cold|   200|1538959027000|Mozilla/5.0 (Wind...|    30|\n",
      "|         Fleet Foxes|Logged In|    Colin|     M|           52| Freeman|253.04771| paid|Bakersfield, CA|   PUT|       NextSong|1538173362000|      532|  Drops In The River|   200|1538959280000|Mozilla/5.0 (Wind...|    30|\n",
      "|          Aphex Twin|Logged In|    Colin|     M|           53| Freeman|430.18404| paid|Bakersfield, CA|   PUT|       NextSong|1538173362000|      532|          Didgeridoo|   200|1538959533000|Mozilla/5.0 (Wind...|    30|\n",
      "|             Mos Def|Logged In|    Colin|     M|           54| Freeman|250.01751| paid|Bakersfield, CA|   PUT|       NextSong|1538173362000|      532|   Sex_ Love & Money|   200|1538959963000|Mozilla/5.0 (Wind...|    30|\n",
      "|             ManÃÂ¡|Logged In|    Colin|     M|           55| Freeman|252.86485| paid|Bakersfield, CA|   PUT|       NextSong|1538173362000|      532|      Rayando el sol|   200|1538960213000|Mozilla/5.0 (Wind...|    30|\n",
      "+--------------------+---------+---------+------+-------------+--------+---------+-----+---------------+------+---------------+-------------+---------+--------------------+------+-------------+--------------------+------+\n",
      "only showing top 100 rows\n",
      "\n"
     ]
    }
   ],
   "source": [
    "#let's check for one user, how many different records are there?\n",
    "events.where(col(\"userId\") == 30).show(100)"
   ]
  },
  {
   "cell_type": "code",
   "execution_count": 7,
   "metadata": {},
   "outputs": [
    {
     "name": "stdout",
     "output_type": "stream",
     "text": [
      "root\n",
      " |-- artist: string (nullable = true)\n",
      " |-- auth: string (nullable = true)\n",
      " |-- firstName: string (nullable = true)\n",
      " |-- gender: string (nullable = true)\n",
      " |-- itemInSession: long (nullable = true)\n",
      " |-- lastName: string (nullable = true)\n",
      " |-- length: double (nullable = true)\n",
      " |-- level: string (nullable = true)\n",
      " |-- location: string (nullable = true)\n",
      " |-- method: string (nullable = true)\n",
      " |-- page: string (nullable = true)\n",
      " |-- registration: long (nullable = true)\n",
      " |-- sessionId: long (nullable = true)\n",
      " |-- song: string (nullable = true)\n",
      " |-- status: long (nullable = true)\n",
      " |-- ts: long (nullable = true)\n",
      " |-- userAgent: string (nullable = true)\n",
      " |-- userId: string (nullable = true)\n",
      "\n"
     ]
    }
   ],
   "source": [
    "#printing the column details\n",
    "events.printSchema()"
   ]
  },
  {
   "cell_type": "code",
   "execution_count": 8,
   "metadata": {},
   "outputs": [
    {
     "name": "stdout",
     "output_type": "stream",
     "text": [
      "+--------------------+\n",
      "|                page|\n",
      "+--------------------+\n",
      "|              Cancel|\n",
      "|    Submit Downgrade|\n",
      "|         Thumbs Down|\n",
      "|                Home|\n",
      "|           Downgrade|\n",
      "|         Roll Advert|\n",
      "|              Logout|\n",
      "|       Save Settings|\n",
      "|Cancellation Conf...|\n",
      "|               About|\n",
      "| Submit Registration|\n",
      "|            Settings|\n",
      "|               Login|\n",
      "|            Register|\n",
      "|     Add to Playlist|\n",
      "|          Add Friend|\n",
      "|            NextSong|\n",
      "|           Thumbs Up|\n",
      "|                Help|\n",
      "|             Upgrade|\n",
      "+--------------------+\n",
      "only showing top 20 rows\n",
      "\n"
     ]
    }
   ],
   "source": [
    "#Page column contains useful information about the user's activity\n",
    "events.select('page').distinct().show()"
   ]
  },
  {
   "cell_type": "code",
   "execution_count": 9,
   "metadata": {},
   "outputs": [
    {
     "data": {
      "text/plain": [
       "286500"
      ]
     },
     "execution_count": 9,
     "metadata": {},
     "output_type": "execute_result"
    }
   ],
   "source": [
    "#total records in the event dataset\n",
    "events.count()"
   ]
  },
  {
   "cell_type": "code",
   "execution_count": 10,
   "metadata": {},
   "outputs": [
    {
     "data": {
      "text/plain": [
       "0"
      ]
     },
     "execution_count": 10,
     "metadata": {},
     "output_type": "execute_result"
    }
   ],
   "source": [
    "#Let's check if there are any missing sessionid's or not\n",
    "events.where(col('sessionId').isNull()).count()"
   ]
  },
  {
   "cell_type": "code",
   "execution_count": 11,
   "metadata": {},
   "outputs": [
    {
     "data": {
      "text/plain": [
       "0"
      ]
     },
     "execution_count": 11,
     "metadata": {},
     "output_type": "execute_result"
    }
   ],
   "source": [
    "#Let's check if there are some missing userid's or not\n",
    "events.where(col('userId').isNull()).distinct().count()"
   ]
  },
  {
   "cell_type": "code",
   "execution_count": 12,
   "metadata": {},
   "outputs": [
    {
     "data": {
      "text/plain": [
       "8346"
      ]
     },
     "execution_count": 12,
     "metadata": {},
     "output_type": "execute_result"
    }
   ],
   "source": [
    "#Let's check if there are any userId as blank, mostly meaning guest users, so no need to keep them in our analysis.\n",
    "events.where(col('userId') == '').count()"
   ]
  },
  {
   "cell_type": "code",
   "execution_count": 13,
   "metadata": {},
   "outputs": [],
   "source": [
    "#let's convert ts to timestamp column for some exploratory data analysis and also creating a hour column\n",
    "#these below 2 user defined functions will be applied to the dataset below\n",
    "get_timestamp = udf(lambda x : datetime.datetime.fromtimestamp(x/ 1000.0).strftime(\"%Y-%m-%d %H:%M:%S\"))\n",
    "get_hour = udf(lambda x : datetime.datetime.fromtimestamp(x/ 1000.0).hour)"
   ]
  },
  {
   "cell_type": "code",
   "execution_count": 14,
   "metadata": {},
   "outputs": [
    {
     "data": {
      "text/plain": [
       "[Row(artist='Martha Tilston', auth='Logged In', firstName='Colin', gender='M', itemInSession=50, lastName='Freeman', length=277.89016, level='paid', location='Bakersfield, CA', method='PUT', page='NextSong', registration=1538173362000, sessionId=29, song='Rockpools', status=200, ts=1538352117000, userAgent='Mozilla/5.0 (Windows NT 6.1; WOW64; rv:31.0) Gecko/20100101 Firefox/31.0', userId='30', datetime='2018-10-01 00:01:57', hourofday='0'),\n",
       " Row(artist='Five Iron Frenzy', auth='Logged In', firstName='Micah', gender='M', itemInSession=79, lastName='Long', length=236.09424, level='free', location='Boston-Cambridge-Newton, MA-NH', method='PUT', page='NextSong', registration=1538331630000, sessionId=8, song='Canada', status=200, ts=1538352180000, userAgent='\"Mozilla/5.0 (Windows NT 6.1; WOW64) AppleWebKit/537.36 (KHTML, like Gecko) Chrome/37.0.2062.103 Safari/537.36\"', userId='9', datetime='2018-10-01 00:03:00', hourofday='0')]"
      ]
     },
     "execution_count": 14,
     "metadata": {},
     "output_type": "execute_result"
    }
   ],
   "source": [
    "#applying the functions and creating 2 new columns\n",
    "events  = events.withColumn(\"datetime\", get_timestamp(events.ts))\n",
    "events = events.withColumn(\"hourofday\", get_hour(events.ts))\n",
    "events.head(2)"
   ]
  },
  {
   "cell_type": "code",
   "execution_count": 15,
   "metadata": {},
   "outputs": [],
   "source": [
    "#only keeping relevant columns for the analysis\n",
    "events_subset = events.select('sessionId','userId','artist','auth','gender','length','level','location','page','song','datetime', 'hourofday')"
   ]
  },
  {
   "cell_type": "code",
   "execution_count": 16,
   "metadata": {},
   "outputs": [],
   "source": [
    "#let's remove the blank userId entries from the dataset\n",
    "valid_events = events_subset.where(col('userId') != '')"
   ]
  },
  {
   "cell_type": "code",
   "execution_count": 17,
   "metadata": {},
   "outputs": [
    {
     "data": {
      "text/plain": [
       "278154"
      ]
     },
     "execution_count": 17,
     "metadata": {},
     "output_type": "execute_result"
    }
   ],
   "source": [
    "valid_events.count()"
   ]
  },
  {
   "cell_type": "markdown",
   "metadata": {},
   "source": [
    ">We have removed the userId with ''."
   ]
  },
  {
   "cell_type": "code",
   "execution_count": 18,
   "metadata": {},
   "outputs": [
    {
     "data": {
      "text/html": [
       "<div>\n",
       "<style scoped>\n",
       "    .dataframe tbody tr th:only-of-type {\n",
       "        vertical-align: middle;\n",
       "    }\n",
       "\n",
       "    .dataframe tbody tr th {\n",
       "        vertical-align: top;\n",
       "    }\n",
       "\n",
       "    .dataframe thead th {\n",
       "        text-align: right;\n",
       "    }\n",
       "</style>\n",
       "<table border=\"1\" class=\"dataframe\">\n",
       "  <thead>\n",
       "    <tr style=\"text-align: right;\">\n",
       "      <th></th>\n",
       "      <th>sessionId</th>\n",
       "      <th>userId</th>\n",
       "      <th>artist</th>\n",
       "      <th>auth</th>\n",
       "      <th>gender</th>\n",
       "      <th>length</th>\n",
       "      <th>level</th>\n",
       "      <th>location</th>\n",
       "      <th>page</th>\n",
       "      <th>song</th>\n",
       "      <th>datetime</th>\n",
       "      <th>hourofday</th>\n",
       "    </tr>\n",
       "  </thead>\n",
       "  <tbody>\n",
       "    <tr>\n",
       "      <th>0</th>\n",
       "      <td>29</td>\n",
       "      <td>30</td>\n",
       "      <td>Martha Tilston</td>\n",
       "      <td>Logged In</td>\n",
       "      <td>M</td>\n",
       "      <td>277.89016</td>\n",
       "      <td>paid</td>\n",
       "      <td>Bakersfield, CA</td>\n",
       "      <td>NextSong</td>\n",
       "      <td>Rockpools</td>\n",
       "      <td>2018-10-01 00:01:57</td>\n",
       "      <td>0</td>\n",
       "    </tr>\n",
       "    <tr>\n",
       "      <th>1</th>\n",
       "      <td>8</td>\n",
       "      <td>9</td>\n",
       "      <td>Five Iron Frenzy</td>\n",
       "      <td>Logged In</td>\n",
       "      <td>M</td>\n",
       "      <td>236.09424</td>\n",
       "      <td>free</td>\n",
       "      <td>Boston-Cambridge-Newton, MA-NH</td>\n",
       "      <td>NextSong</td>\n",
       "      <td>Canada</td>\n",
       "      <td>2018-10-01 00:03:00</td>\n",
       "      <td>0</td>\n",
       "    </tr>\n",
       "    <tr>\n",
       "      <th>2</th>\n",
       "      <td>29</td>\n",
       "      <td>30</td>\n",
       "      <td>Adam Lambert</td>\n",
       "      <td>Logged In</td>\n",
       "      <td>M</td>\n",
       "      <td>282.82730</td>\n",
       "      <td>paid</td>\n",
       "      <td>Bakersfield, CA</td>\n",
       "      <td>NextSong</td>\n",
       "      <td>Time For Miracles</td>\n",
       "      <td>2018-10-01 00:06:34</td>\n",
       "      <td>0</td>\n",
       "    </tr>\n",
       "    <tr>\n",
       "      <th>3</th>\n",
       "      <td>8</td>\n",
       "      <td>9</td>\n",
       "      <td>Enigma</td>\n",
       "      <td>Logged In</td>\n",
       "      <td>M</td>\n",
       "      <td>262.71302</td>\n",
       "      <td>free</td>\n",
       "      <td>Boston-Cambridge-Newton, MA-NH</td>\n",
       "      <td>NextSong</td>\n",
       "      <td>Knocking On Forbidden Doors</td>\n",
       "      <td>2018-10-01 00:06:56</td>\n",
       "      <td>0</td>\n",
       "    </tr>\n",
       "    <tr>\n",
       "      <th>4</th>\n",
       "      <td>29</td>\n",
       "      <td>30</td>\n",
       "      <td>Daft Punk</td>\n",
       "      <td>Logged In</td>\n",
       "      <td>M</td>\n",
       "      <td>223.60771</td>\n",
       "      <td>paid</td>\n",
       "      <td>Bakersfield, CA</td>\n",
       "      <td>NextSong</td>\n",
       "      <td>Harder Better Faster Stronger</td>\n",
       "      <td>2018-10-01 00:11:16</td>\n",
       "      <td>0</td>\n",
       "    </tr>\n",
       "  </tbody>\n",
       "</table>\n",
       "</div>"
      ],
      "text/plain": [
       "   sessionId userId            artist       auth gender     length level  \\\n",
       "0         29     30    Martha Tilston  Logged In      M  277.89016  paid   \n",
       "1          8      9  Five Iron Frenzy  Logged In      M  236.09424  free   \n",
       "2         29     30      Adam Lambert  Logged In      M  282.82730  paid   \n",
       "3          8      9            Enigma  Logged In      M  262.71302  free   \n",
       "4         29     30         Daft Punk  Logged In      M  223.60771  paid   \n",
       "\n",
       "                         location      page                           song  \\\n",
       "0                 Bakersfield, CA  NextSong                      Rockpools   \n",
       "1  Boston-Cambridge-Newton, MA-NH  NextSong                         Canada   \n",
       "2                 Bakersfield, CA  NextSong              Time For Miracles   \n",
       "3  Boston-Cambridge-Newton, MA-NH  NextSong    Knocking On Forbidden Doors   \n",
       "4                 Bakersfield, CA  NextSong  Harder Better Faster Stronger   \n",
       "\n",
       "              datetime hourofday  \n",
       "0  2018-10-01 00:01:57         0  \n",
       "1  2018-10-01 00:03:00         0  \n",
       "2  2018-10-01 00:06:34         0  \n",
       "3  2018-10-01 00:06:56         0  \n",
       "4  2018-10-01 00:11:16         0  "
      ]
     },
     "execution_count": 18,
     "metadata": {},
     "output_type": "execute_result"
    }
   ],
   "source": [
    "#printing first 5 rows\n",
    "pd.DataFrame(valid_events.take(5), columns = valid_events.columns)"
   ]
  },
  {
   "cell_type": "markdown",
   "metadata": {},
   "source": [
    "# Exploratory Data Analysis\n",
    "When you're working with the full dataset, perform EDA by loading a small subset of the data and doing basic manipulations within Spark. In this workspace, you are already provided a small subset of data you can explore.\n",
    "\n",
    "### Define Churn\n",
    "\n",
    "Once you've done some preliminary analysis, create a column `Churn` to use as the label for your model. I suggest using the `Cancellation Confirmation` events to define your churn, which happen for both paid and free users. As a bonus task, you can also look into the `Downgrade` events.\n",
    "\n",
    "### Explore Data\n",
    "Once you've defined churn, perform some exploratory data analysis to observe the behavior for users who stayed vs users who churned. You can start by exploring aggregates on these two groups of users, observing how much of a specific action they experienced per a certain time unit or number of songs played."
   ]
  },
  {
   "cell_type": "code",
   "execution_count": 19,
   "metadata": {},
   "outputs": [
    {
     "data": {
      "text/html": [
       "<div>\n",
       "<style scoped>\n",
       "    .dataframe tbody tr th:only-of-type {\n",
       "        vertical-align: middle;\n",
       "    }\n",
       "\n",
       "    .dataframe tbody tr th {\n",
       "        vertical-align: top;\n",
       "    }\n",
       "\n",
       "    .dataframe thead th {\n",
       "        text-align: right;\n",
       "    }\n",
       "</style>\n",
       "<table border=\"1\" class=\"dataframe\">\n",
       "  <thead>\n",
       "    <tr style=\"text-align: right;\">\n",
       "      <th></th>\n",
       "      <th>sessionId</th>\n",
       "      <th>userId</th>\n",
       "      <th>artist</th>\n",
       "      <th>auth</th>\n",
       "      <th>gender</th>\n",
       "      <th>length</th>\n",
       "      <th>level</th>\n",
       "      <th>location</th>\n",
       "      <th>page</th>\n",
       "      <th>song</th>\n",
       "      <th>datetime</th>\n",
       "      <th>hourofday</th>\n",
       "    </tr>\n",
       "  </thead>\n",
       "  <tbody>\n",
       "    <tr>\n",
       "      <th>0</th>\n",
       "      <td>514</td>\n",
       "      <td>18</td>\n",
       "      <td>None</td>\n",
       "      <td>Cancelled</td>\n",
       "      <td>M</td>\n",
       "      <td>None</td>\n",
       "      <td>paid</td>\n",
       "      <td>Kansas City, MO-KS</td>\n",
       "      <td>Cancellation Confirmation</td>\n",
       "      <td>None</td>\n",
       "      <td>2018-10-07 20:26:30</td>\n",
       "      <td>20</td>\n",
       "    </tr>\n",
       "    <tr>\n",
       "      <th>1</th>\n",
       "      <td>540</td>\n",
       "      <td>32</td>\n",
       "      <td>None</td>\n",
       "      <td>Cancelled</td>\n",
       "      <td>M</td>\n",
       "      <td>None</td>\n",
       "      <td>paid</td>\n",
       "      <td>Phoenix-Mesa-Scottsdale, AZ</td>\n",
       "      <td>Cancellation Confirmation</td>\n",
       "      <td>None</td>\n",
       "      <td>2018-10-08 21:10:46</td>\n",
       "      <td>21</td>\n",
       "    </tr>\n",
       "    <tr>\n",
       "      <th>2</th>\n",
       "      <td>174</td>\n",
       "      <td>125</td>\n",
       "      <td>None</td>\n",
       "      <td>Cancelled</td>\n",
       "      <td>M</td>\n",
       "      <td>None</td>\n",
       "      <td>free</td>\n",
       "      <td>Corpus Christi, TX</td>\n",
       "      <td>Cancellation Confirmation</td>\n",
       "      <td>None</td>\n",
       "      <td>2018-10-12 04:35:18</td>\n",
       "      <td>4</td>\n",
       "    </tr>\n",
       "    <tr>\n",
       "      <th>3</th>\n",
       "      <td>508</td>\n",
       "      <td>105</td>\n",
       "      <td>None</td>\n",
       "      <td>Cancelled</td>\n",
       "      <td>M</td>\n",
       "      <td>None</td>\n",
       "      <td>paid</td>\n",
       "      <td>Indianapolis-Carmel-Anderson, IN</td>\n",
       "      <td>Cancellation Confirmation</td>\n",
       "      <td>None</td>\n",
       "      <td>2018-10-12 20:17:21</td>\n",
       "      <td>20</td>\n",
       "    </tr>\n",
       "    <tr>\n",
       "      <th>4</th>\n",
       "      <td>797</td>\n",
       "      <td>17</td>\n",
       "      <td>None</td>\n",
       "      <td>Cancelled</td>\n",
       "      <td>F</td>\n",
       "      <td>None</td>\n",
       "      <td>paid</td>\n",
       "      <td>Philadelphia-Camden-Wilmington, PA-NJ-DE-MD</td>\n",
       "      <td>Cancellation Confirmation</td>\n",
       "      <td>None</td>\n",
       "      <td>2018-10-13 21:19:44</td>\n",
       "      <td>21</td>\n",
       "    </tr>\n",
       "  </tbody>\n",
       "</table>\n",
       "</div>"
      ],
      "text/plain": [
       "   sessionId userId artist       auth gender length level  \\\n",
       "0        514     18   None  Cancelled      M   None  paid   \n",
       "1        540     32   None  Cancelled      M   None  paid   \n",
       "2        174    125   None  Cancelled      M   None  free   \n",
       "3        508    105   None  Cancelled      M   None  paid   \n",
       "4        797     17   None  Cancelled      F   None  paid   \n",
       "\n",
       "                                      location                       page  \\\n",
       "0                           Kansas City, MO-KS  Cancellation Confirmation   \n",
       "1                  Phoenix-Mesa-Scottsdale, AZ  Cancellation Confirmation   \n",
       "2                           Corpus Christi, TX  Cancellation Confirmation   \n",
       "3             Indianapolis-Carmel-Anderson, IN  Cancellation Confirmation   \n",
       "4  Philadelphia-Camden-Wilmington, PA-NJ-DE-MD  Cancellation Confirmation   \n",
       "\n",
       "   song             datetime hourofday  \n",
       "0  None  2018-10-07 20:26:30        20  \n",
       "1  None  2018-10-08 21:10:46        21  \n",
       "2  None  2018-10-12 04:35:18         4  \n",
       "3  None  2018-10-12 20:17:21        20  \n",
       "4  None  2018-10-13 21:19:44        21  "
      ]
     },
     "execution_count": 19,
     "metadata": {},
     "output_type": "execute_result"
    }
   ],
   "source": [
    "#Let's filter the dataframe with Cancellation events\n",
    "pd.DataFrame(valid_events.filter(\"page == 'Cancellation Confirmation'\").take(5), columns = valid_events.columns)"
   ]
  },
  {
   "cell_type": "code",
   "execution_count": 20,
   "metadata": {},
   "outputs": [
    {
     "data": {
      "text/plain": [
       "225"
      ]
     },
     "execution_count": 20,
     "metadata": {},
     "output_type": "execute_result"
    }
   ],
   "source": [
    "#How many records are there with active status?\n",
    "valid_events.filter(\"page != 'Cancellation Confirmation'\").select('userId').distinct().count()"
   ]
  },
  {
   "cell_type": "code",
   "execution_count": 21,
   "metadata": {},
   "outputs": [
    {
     "data": {
      "text/plain": [
       "52"
      ]
     },
     "execution_count": 21,
     "metadata": {},
     "output_type": "execute_result"
    }
   ],
   "source": [
    "#How many records are there with cancelled status?\n",
    "valid_events.filter(\"page == 'Cancellation Confirmation'\").select('userId').distinct().count()"
   ]
  },
  {
   "cell_type": "code",
   "execution_count": 22,
   "metadata": {},
   "outputs": [],
   "source": [
    "#Let's explore the churned data\n",
    "churned_events = valid_events.where('page == \"Cancellation Confirmation\"')"
   ]
  },
  {
   "cell_type": "code",
   "execution_count": 23,
   "metadata": {},
   "outputs": [
    {
     "name": "stdout",
     "output_type": "stream",
     "text": [
      "+------+------+--------------------+----+-----+-------------------+\n",
      "|userId|artist|                page|song|level|           datetime|\n",
      "+------+------+--------------------+----+-----+-------------------+\n",
      "|    18|  null|Cancellation Conf...|null| paid|2018-10-07 20:26:30|\n",
      "|    32|  null|Cancellation Conf...|null| paid|2018-10-08 21:10:46|\n",
      "|   125|  null|Cancellation Conf...|null| free|2018-10-12 04:35:18|\n",
      "|   105|  null|Cancellation Conf...|null| paid|2018-10-12 20:17:21|\n",
      "|    17|  null|Cancellation Conf...|null| paid|2018-10-13 21:19:44|\n",
      "|   143|  null|Cancellation Conf...|null| free|2018-10-15 07:34:14|\n",
      "|   101|  null|Cancellation Conf...|null| paid|2018-10-16 22:30:37|\n",
      "|   129|  null|Cancellation Conf...|null| paid|2018-10-17 00:29:21|\n",
      "|   121|  null|Cancellation Conf...|null| paid|2018-10-17 07:02:29|\n",
      "|    51|  null|Cancellation Conf...|null| paid|2018-10-17 07:39:32|\n",
      "|    87|  null|Cancellation Conf...|null| paid|2018-10-20 15:49:16|\n",
      "|   122|  null|Cancellation Conf...|null| paid|2018-10-20 19:01:08|\n",
      "|    12|  null|Cancellation Conf...|null| paid|2018-10-22 07:29:34|\n",
      "|    58|  null|Cancellation Conf...|null| paid|2018-10-22 15:43:26|\n",
      "|    73|  null|Cancellation Conf...|null| paid|2018-10-24 17:33:07|\n",
      "|     3|  null|Cancellation Conf...|null| paid|2018-10-30 04:59:03|\n",
      "|   106|  null|Cancellation Conf...|null| paid|2018-11-02 13:47:04|\n",
      "|   103|  null|Cancellation Conf...|null| paid|2018-11-04 14:01:31|\n",
      "|    28|  null|Cancellation Conf...|null| paid|2018-11-06 00:20:32|\n",
      "|    54|  null|Cancellation Conf...|null| paid|2018-11-12 19:40:08|\n",
      "+------+------+--------------------+----+-----+-------------------+\n",
      "only showing top 20 rows\n",
      "\n"
     ]
    }
   ],
   "source": [
    "churned_events.select(['userId','artist','page','song', 'level','datetime']).show()"
   ]
  },
  {
   "cell_type": "code",
   "execution_count": 24,
   "metadata": {},
   "outputs": [
    {
     "data": {
      "text/plain": [
       "[Row(userId='18', artist=None, page='Home', song=None, level='paid', datetime='2018-10-02 17:05:17'),\n",
       " Row(userId='18', artist='Mike And The Mechanics', page='NextSong', song='A Beggar On A Beach Of Gold', level='paid', datetime='2018-10-02 17:05:33'),\n",
       " Row(userId='18', artist='Taking Back Sunday', page='NextSong', song='...slowdance On The Inside (Album Version)', level='paid', datetime='2018-10-02 17:10:08'),\n",
       " Row(userId='18', artist='Beirut', page='NextSong', song='St. Apollonia', level='paid', datetime='2018-10-02 17:14:36'),\n",
       " Row(userId='18', artist='Bob Log III', page='NextSong', song='Drunk Stripper', level='paid', datetime='2018-10-02 17:17:34'),\n",
       " Row(userId='18', artist='Krisiun', page='NextSong', song='In League With Satan', level='paid', datetime='2018-10-02 17:20:42'),\n",
       " Row(userId='18', artist=None, page='Settings', song=None, level='paid', datetime='2018-10-02 17:20:56'),\n",
       " Row(userId='18', artist='HYPOCRISY', page='NextSong', song='The Quest', level='paid', datetime='2018-10-02 17:23:29'),\n",
       " Row(userId='18', artist='Bullet For My Valentine', page='NextSong', song='Waking The Demon', level='paid', datetime='2018-10-02 17:29:00'),\n",
       " Row(userId='18', artist='She & Him', page='NextSong', song='Why Do You Let Me Stay Here?', level='paid', datetime='2018-10-02 17:33:07'),\n",
       " Row(userId='18', artist='James Blunt', page='NextSong', song='High (Album Version)', level='paid', datetime='2018-10-02 17:35:40'),\n",
       " Row(userId='18', artist='Kitty Wells & Roy Drusky', page='NextSong', song=\"Remember Me_ I'm The One Who Loves You\", level='paid', datetime='2018-10-02 17:39:44'),\n",
       " Row(userId='18', artist=None, page='Settings', song=None, level='paid', datetime='2018-10-02 17:40:21'),\n",
       " Row(userId='18', artist='Mutiny On The Bounty', page='NextSong', song='Continents', level='paid', datetime='2018-10-02 17:42:04'),\n",
       " Row(userId='18', artist='Death In Vegas', page='NextSong', song='Girls', level='paid', datetime='2018-10-02 17:45:56'),\n",
       " Row(userId='18', artist='Foo Fighters', page='NextSong', song='What If I Do?', level='paid', datetime='2018-10-02 17:50:26'),\n",
       " Row(userId='18', artist='Sugar Pie DeSanto', page='NextSong', song='Soulful Dress', level='paid', datetime='2018-10-02 17:55:28'),\n",
       " Row(userId='18', artist='Sean Kingston and Justin Bieber', page='NextSong', song='Eenie Meenie', level='paid', datetime='2018-10-02 17:58:17'),\n",
       " Row(userId='18', artist='Lily Allen', page='NextSong', song='Kabul Shit', level='paid', datetime='2018-10-02 18:01:38'),\n",
       " Row(userId='18', artist='Lonnie Gordon', page='NextSong', song='Catch You Baby (Steve Pitron & Max Sanna Radio Edit)', level='paid', datetime='2018-10-02 18:05:21'),\n",
       " Row(userId='18', artist='Lykke Li', page='NextSong', song='Window Blues', level='paid', datetime='2018-10-02 18:08:22'),\n",
       " Row(userId='18', artist='Obituary', page='NextSong', song='This Life', level='paid', datetime='2018-10-02 18:12:21'),\n",
       " Row(userId='18', artist=None, page='Thumbs Up', song=None, level='paid', datetime='2018-10-02 18:12:22'),\n",
       " Row(userId='18', artist='Jens Lekman', page='NextSong', song='Into Eternity', level='paid', datetime='2018-10-02 18:16:06'),\n",
       " Row(userId='18', artist='Evangelicals', page='NextSong', song='Skeleton Man', level='paid', datetime='2018-10-02 18:19:50'),\n",
       " Row(userId='18', artist='Thomas Gold & Matthias Menck', page='NextSong', song='Everybody Be Somebody', level='paid', datetime='2018-10-02 18:24:14'),\n",
       " Row(userId='18', artist='Triptik', page='NextSong', song='Drixxxe Vs Dj Pone (feat. Dj Pone)', level='paid', datetime='2018-10-02 18:30:44'),\n",
       " Row(userId='18', artist=None, page='Thumbs Up', song=None, level='paid', datetime='2018-10-02 18:30:45'),\n",
       " Row(userId='18', artist='matchbox twenty', page='NextSong', song='Back 2 Good (LP Version)', level='paid', datetime='2018-10-02 18:31:38'),\n",
       " Row(userId='18', artist='Benabar', page='NextSong', song='Je Suis De Celles', level='paid', datetime='2018-10-02 18:37:18'),\n",
       " Row(userId='18', artist='Pat Metheny/Brad Mehldau', page='NextSong', song='Santa Cruz Slacker', level='paid', datetime='2018-10-02 18:40:46'),\n",
       " Row(userId='18', artist='Wyclef Jean featuring Melky', page='NextSong', song='MVP Kompa', level='paid', datetime='2018-10-02 18:46:55'),\n",
       " Row(userId='18', artist='Method Man', page='NextSong', song='All I Need', level='paid', datetime='2018-10-02 18:52:04'),\n",
       " Row(userId='18', artist=None, page='Logout', song=None, level='paid', datetime='2018-10-02 18:52:05'),\n",
       " Row(userId='18', artist=None, page='Home', song=None, level='paid', datetime='2018-10-02 18:54:28'),\n",
       " Row(userId='18', artist='Dispatch', page='NextSong', song='The General', level='paid', datetime='2018-10-02 18:55:19'),\n",
       " Row(userId='18', artist='Elephant Man', page='NextSong', song='Mexican Girl (Album Version)', level='paid', datetime='2018-10-02 18:59:24'),\n",
       " Row(userId='18', artist='Seventh Key', page='NextSong', song='Prisoner Of Love', level='paid', datetime='2018-10-02 19:02:36'),\n",
       " Row(userId='18', artist=None, page='Add to Playlist', song=None, level='paid', datetime='2018-10-02 19:03:09'),\n",
       " Row(userId='18', artist='Fall Out Boy', page='NextSong', song='Growing Up', level='paid', datetime='2018-10-02 19:07:52'),\n",
       " Row(userId='18', artist='JUKKA POIKA', page='NextSong', song='Sotaisa rotu', level='paid', datetime='2018-10-02 19:10:46'),\n",
       " Row(userId='18', artist='Fate', page='NextSong', song='Limbo A Go Go', level='paid', datetime='2018-10-02 19:14:04'),\n",
       " Row(userId='18', artist='Harmonia', page='NextSong', song='Sehr kosmisch', level='paid', datetime='2018-10-02 19:18:08'),\n",
       " Row(userId='18', artist='The Avett Brothers', page='NextSong', song='Walking For You', level='paid', datetime='2018-10-02 19:29:03'),\n",
       " Row(userId='18', artist='J. Holiday', page='NextSong', song='Sooner You Get To Love', level='paid', datetime='2018-10-02 19:32:48'),\n",
       " Row(userId='18', artist='Darius Rucker', page='NextSong', song='Forever Road', level='paid', datetime='2018-10-02 19:36:42'),\n",
       " Row(userId='18', artist='We The Kings', page='NextSong', song='Skyway Avenue', level='paid', datetime='2018-10-02 19:40:42'),\n",
       " Row(userId='18', artist='Sondre Lerche', page='NextSong', song='Airport Taxi Reception', level='paid', datetime='2018-10-02 19:44:07'),\n",
       " Row(userId='18', artist='Blue Highway', page='NextSong', song='This World Is Not My Home', level='paid', datetime='2018-10-02 19:46:35'),\n",
       " Row(userId='18', artist='M83', page='NextSong', song='Slight Night Shiver', level='paid', datetime='2018-10-02 19:49:21'),\n",
       " Row(userId='18', artist='Busted', page='NextSong', song='Air Hostess', level='paid', datetime='2018-10-02 19:51:25'),\n",
       " Row(userId='18', artist='The Knife', page='NextSong', song='Heartbeats (Live)', level='paid', datetime='2018-10-02 19:55:22'),\n",
       " Row(userId='18', artist='Justin Bieber', page='NextSong', song='Never Let You Go', level='paid', datetime='2018-10-02 19:59:44'),\n",
       " Row(userId='18', artist='Brand New', page='NextSong', song='Seventy Times 7', level='paid', datetime='2018-10-02 20:04:08'),\n",
       " Row(userId='18', artist='Octopus Project', page='NextSong', song='Responsible Stu', level='paid', datetime='2018-10-02 20:07:40'),\n",
       " Row(userId='18', artist=None, page='Thumbs Up', song=None, level='paid', datetime='2018-10-02 20:07:41'),\n",
       " Row(userId='18', artist='The Real McKenzies', page='NextSong', song=\"Droppin' Like Flies\", level='paid', datetime='2018-10-02 20:11:20'),\n",
       " Row(userId='18', artist='The Starting Line', page='NextSong', song='Inspired By The $', level='paid', datetime='2018-10-02 20:13:18'),\n",
       " Row(userId='18', artist=None, page='Thumbs Up', song=None, level='paid', datetime='2018-10-02 20:13:19'),\n",
       " Row(userId='18', artist='The All-American Rejects', page='NextSong', song=\"Don't Leave Me\", level='paid', datetime='2018-10-02 20:16:15'),\n",
       " Row(userId='18', artist='Hardfloor', page='NextSong', song='Murano', level='paid', datetime='2018-10-02 20:19:43'),\n",
       " Row(userId='18', artist='George Dalaras', page='NextSong', song='Bros Sto Rimagmeno Spiti (2003 Digital Remaster)', level='paid', datetime='2018-10-02 20:28:05'),\n",
       " Row(userId='18', artist=None, page='Add Friend', song=None, level='paid', datetime='2018-10-02 20:28:06'),\n",
       " Row(userId='18', artist=None, page='Add Friend', song=None, level='paid', datetime='2018-10-02 20:28:07'),\n",
       " Row(userId='18', artist='Creedence Clearwater Revival', page='NextSong', song='Sail Away', level='paid', datetime='2018-10-02 20:31:26'),\n",
       " Row(userId='18', artist=None, page='Thumbs Up', song=None, level='paid', datetime='2018-10-02 20:31:27'),\n",
       " Row(userId='18', artist='LCD Soundsystem', page='NextSong', song='Great Release', level='paid', datetime='2018-10-02 20:33:53'),\n",
       " Row(userId='18', artist='Amon Amarth', page='NextSong', song='Embrace Of The Endless Ocean', level='paid', datetime='2018-10-02 20:40:27'),\n",
       " Row(userId='18', artist='The Lemonheads', page='NextSong', song='Rockin Stroll (LP Version)', level='paid', datetime='2018-10-02 20:47:04'),\n",
       " Row(userId='18', artist='The Knife', page='NextSong', song=\"We Share Our Mothers' Health (Album Version)\", level='paid', datetime='2018-10-02 20:48:51'),\n",
       " Row(userId='18', artist='Every Time I Die', page='NextSong', song='Wanderlust', level='paid', datetime='2018-10-02 20:53:01'),\n",
       " Row(userId='18', artist='Nirvana', page='NextSong', song='The Man Who Sold The World', level='paid', datetime='2018-10-02 20:57:11'),\n",
       " Row(userId='18', artist=None, page='Thumbs Up', song=None, level='paid', datetime='2018-10-02 20:57:12'),\n",
       " Row(userId='18', artist='Presuntos Implicados', page='NextSong', song='Fallen', level='paid', datetime='2018-10-02 21:01:31'),\n",
       " Row(userId='18', artist='Crowded House', page='NextSong', song=\"Don't Dream It's Over\", level='paid', datetime='2018-10-02 21:05:42'),\n",
       " Row(userId='18', artist='Crystal', page='NextSong', song='VÃ\\x83Â\\x81NDORMADÃ\\x83Â\\x81R', level='paid', datetime='2018-10-02 21:09:37'),\n",
       " Row(userId='18', artist='Deep Dish', page='NextSong', song='Say Hello (Angello & Ingrosso Remix)', level='paid', datetime='2018-10-02 21:13:48'),\n",
       " Row(userId='18', artist='The Grass Roots', page='NextSong', song='Walking Through The Country', level='paid', datetime='2018-10-02 21:22:35'),\n",
       " Row(userId='18', artist=None, page='Thumbs Up', song=None, level='paid', datetime='2018-10-02 21:22:36'),\n",
       " Row(userId='18', artist='Blind Melon', page='NextSong', song='Three Is A Magic Number', level='paid', datetime='2018-10-02 21:26:30'),\n",
       " Row(userId='18', artist='Radiohead', page='NextSong', song='Planet Telex', level='paid', datetime='2018-10-02 21:29:45'),\n",
       " Row(userId='18', artist='Roky Erickson', page='NextSong', song='Bloody hammer', level='paid', datetime='2018-10-02 21:34:04'),\n",
       " Row(userId='18', artist='Bright Eyes', page='NextSong', song='Take It Easy (love Nothing) (Album Version)', level='paid', datetime='2018-10-02 21:41:10'),\n",
       " Row(userId='18', artist='Disturbed', page='NextSong', song='The Game (Amended Version)', level='paid', datetime='2018-10-02 21:44:30'),\n",
       " Row(userId='18', artist='The Black Keys', page='NextSong', song=\"I'll Be Your Man\", level='paid', datetime='2018-10-02 21:48:16'),\n",
       " Row(userId='18', artist='Thievery Corporation', page='NextSong', song='All That We Perceive', level='paid', datetime='2018-10-02 21:50:35'),\n",
       " Row(userId='18', artist='Edwyn Collins', page='NextSong', song=\"You'll Never Know (My Love) (Bovellian 07 Mix)\", level='paid', datetime='2018-10-02 21:54:21'),\n",
       " Row(userId='18', artist='Milczenie Owiec', page='NextSong', song='CIEÃ\\x83Â\\x91', level='paid', datetime='2018-10-02 21:57:57'),\n",
       " Row(userId='18', artist=None, page='Home', song=None, level='paid', datetime='2018-10-02 21:59:06'),\n",
       " Row(userId='18', artist='Melody Gardot', page='NextSong', song='Lover Undercover', level='paid', datetime='2018-10-02 21:59:14'),\n",
       " Row(userId='18', artist=None, page='Home', song=None, level='paid', datetime='2018-10-02 21:59:27'),\n",
       " Row(userId='18', artist='Some Girls', page='NextSong', song='I Need Drugs', level='paid', datetime='2018-10-02 22:03:38'),\n",
       " Row(userId='18', artist=None, page='Logout', song=None, level='paid', datetime='2018-10-02 22:03:39'),\n",
       " Row(userId='18', artist=None, page='Home', song=None, level='paid', datetime='2018-10-02 22:09:44'),\n",
       " Row(userId='18', artist='Beirut', page='NextSong', song='Guyamas Sonora', level='paid', datetime='2018-10-02 22:10:01'),\n",
       " Row(userId='18', artist='CKY', page='NextSong', song='Close Yet Far', level='paid', datetime='2018-10-02 22:13:32'),\n",
       " Row(userId='18', artist='Joanna Pacitti', page='NextSong', song='Watch Me Shine', level='paid', datetime='2018-10-02 22:17:24'),\n",
       " Row(userId='18', artist='Death Cab for Cutie', page='NextSong', song='A Lack Of Color (Album Version)', level='paid', datetime='2018-10-02 22:20:40'),\n",
       " Row(userId='18', artist='Enya', page='NextSong', song='Orinoco Flow', level='paid', datetime='2018-10-02 22:24:16'),\n",
       " Row(userId='18', artist='George Dalaras', page='NextSong', song='Bros Sto Rimagmeno Spiti (2003 Digital Remaster)', level='paid', datetime='2018-10-02 22:28:40'),\n",
       " Row(userId='18', artist='Jackson Browne', page='NextSong', song='Sky Blue And Black (LP Version)', level='paid', datetime='2018-10-02 22:32:01'),\n",
       " Row(userId='18', artist='Freemasons Feat. Bailey Tzuke', page='NextSong', song='Uninvited', level='paid', datetime='2018-10-02 22:38:08'),\n",
       " Row(userId='18', artist='The Pharcyde', page='NextSong', song=\"Runnin'\", level='paid', datetime='2018-10-02 22:46:02'),\n",
       " Row(userId='18', artist='Banda Eva', page='NextSong', song='Mais Do Que Preciso', level='paid', datetime='2018-10-02 22:50:58'),\n",
       " Row(userId='18', artist=None, page='Add to Playlist', song=None, level='paid', datetime='2018-10-02 22:52:27'),\n",
       " Row(userId='18', artist='Maroon 5', page='NextSong', song='Sunday Morning', level='paid', datetime='2018-10-02 22:54:38'),\n",
       " Row(userId='18', artist='Radiohead', page='NextSong', song='Thinking About You', level='paid', datetime='2018-10-02 22:58:42'),\n",
       " Row(userId='18', artist=None, page='Add to Playlist', song=None, level='paid', datetime='2018-10-02 22:58:50'),\n",
       " Row(userId='18', artist='Bebo Norman', page='NextSong', song='Pull Me Out (Key-B-Premiere Performance Plus w/o Background Vocals)', level='paid', datetime='2018-10-02 23:01:23'),\n",
       " Row(userId='18', artist='Tenacious D', page='NextSong', song='Break In-City (Storm the Gate!)', level='paid', datetime='2018-10-02 23:05:41'),\n",
       " Row(userId='18', artist='Linkin Park', page='NextSong', song='In The End (Album Version)', level='paid', datetime='2018-10-02 23:07:03'),\n",
       " Row(userId='18', artist='Jars Of Clay', page='NextSong', song='Dead Man (Carry Me)', level='paid', datetime='2018-10-02 23:10:39'),\n",
       " Row(userId='18', artist='Soltero', page='NextSong', song='Songs Of The Season', level='paid', datetime='2018-10-02 23:13:59'),\n",
       " Row(userId='18', artist='Frightened Rabbit', page='NextSong', song='Be Less Rude', level='paid', datetime='2018-10-02 23:17:01'),\n",
       " Row(userId='18', artist='Paramore', page='NextSong', song='The Only Exception (Album Version)', level='paid', datetime='2018-10-02 23:20:02'),\n",
       " Row(userId='18', artist='Ke$ha', page='NextSong', song='Backstabber', level='paid', datetime='2018-10-02 23:24:29'),\n",
       " Row(userId='18', artist='The Who', page='NextSong', song='Magic Bus', level='paid', datetime='2018-10-02 23:27:35'),\n",
       " Row(userId='18', artist='Beach House', page='NextSong', song='Lover Of Mine', level='paid', datetime='2018-10-02 23:30:55'),\n",
       " Row(userId='18', artist=None, page='Settings', song=None, level='paid', datetime='2018-10-02 23:35:19'),\n",
       " Row(userId='18', artist='Bebo Norman', page='NextSong', song=\"Perhaps She'll Wait\", level='paid', datetime='2018-10-02 23:36:00'),\n",
       " Row(userId='18', artist=None, page='Thumbs Up', song=None, level='paid', datetime='2018-10-02 23:36:01'),\n",
       " Row(userId='18', artist='Linkin Park', page='NextSong', song='Bleed It Out [Live At Milton Keynes]', level='paid', datetime='2018-10-03 06:32:45'),\n",
       " Row(userId='18', artist=\"Guns N' Roses\", page='NextSong', song='My Michelle', level='paid', datetime='2018-10-03 06:40:59'),\n",
       " Row(userId='18', artist='Paramore', page='NextSong', song='Ignorance (Album Version)', level='paid', datetime='2018-10-03 06:44:38'),\n",
       " Row(userId='18', artist='Philippe Rochard', page='NextSong', song='Crumpshit', level='paid', datetime='2018-10-03 06:48:16'),\n",
       " Row(userId='18', artist='Obie Trice', page='NextSong', song='The Setup', level='paid', datetime='2018-10-03 06:54:16'),\n",
       " Row(userId='18', artist='Jerry Lewis', page='NextSong', song='Camera Shop', level='paid', datetime='2018-10-03 06:57:31'),\n",
       " Row(userId='18', artist=None, page='Thumbs Up', song=None, level='paid', datetime='2018-10-03 06:57:32'),\n",
       " Row(userId='18', artist='Bikini Kill', page='NextSong', song='Finale', level='paid', datetime='2018-10-03 07:03:47'),\n",
       " Row(userId='18', artist='Melody Club', page='NextSong', song='Evil Thing', level='paid', datetime='2018-10-03 07:05:20'),\n",
       " Row(userId='18', artist='Alicia Keys', page='NextSong', song='Empire State Of Mind (Part II) Broken Down', level='paid', datetime='2018-10-03 07:09:29'),\n",
       " Row(userId='18', artist=None, page='Thumbs Up', song=None, level='paid', datetime='2018-10-03 07:09:30'),\n",
       " Row(userId='18', artist='Fernando Ortega', page='NextSong', song='When All Thy Mercies (LP Version)', level='paid', datetime='2018-10-03 07:13:05'),\n",
       " Row(userId='18', artist='Eminem', page='NextSong', song='Careful What You Wish For', level='paid', datetime='2018-10-03 07:15:56'),\n",
       " Row(userId='18', artist='Eric Burdon & War', page='NextSong', song='Jimbo (Album Version)', level='paid', datetime='2018-10-03 07:19:43'),\n",
       " Row(userId='18', artist='Rihanna', page='NextSong', song='Good Girl Gone Bad', level='paid', datetime='2018-10-03 07:24:24'),\n",
       " Row(userId='18', artist='Justin Bieber', page='NextSong', song='Somebody To Love', level='paid', datetime='2018-10-03 07:27:57'),\n",
       " Row(userId='18', artist='Chris Bathgate', page='NextSong', song='Coda', level='paid', datetime='2018-10-03 07:31:37'),\n",
       " Row(userId='18', artist='Victor DÃ\\x83Â©mÃ\\x83Â©', page='NextSong', song='Peuple BurkinabÃ\\x83Â¨', level='paid', datetime='2018-10-03 07:37:01'),\n",
       " Row(userId='18', artist='Kings Of Leon', page='NextSong', song='Use Somebody', level='paid', datetime='2018-10-03 07:42:16'),\n",
       " Row(userId='18', artist='The Crystal Method featuring LMFAO', page='NextSong', song='Sine Language', level='paid', datetime='2018-10-03 07:46:07'),\n",
       " Row(userId='18', artist='Band Of Horses', page='NextSong', song='The Funeral (Album Version)', level='paid', datetime='2018-10-03 07:52:21'),\n",
       " Row(userId='18', artist='Charlelie Couture', page='NextSong', song=\"L'histoire De Bernard Workers\", level='paid', datetime='2018-10-03 07:57:42'),\n",
       " Row(userId='18', artist='Hot Chip', page='NextSong', song='Hold On', level='paid', datetime='2018-10-03 08:01:17'),\n",
       " Row(userId='18', artist='Train', page='NextSong', song='Drops Of Jupiter', level='paid', datetime='2018-10-03 08:07:38'),\n",
       " Row(userId='18', artist=None, page='Logout', song=None, level='paid', datetime='2018-10-03 08:07:39'),\n",
       " Row(userId='18', artist=None, page='Home', song=None, level='paid', datetime='2018-10-03 08:09:03'),\n",
       " Row(userId='18', artist='MIKA', page='NextSong', song='Grace Kelly', level='paid', datetime='2018-10-03 08:11:57'),\n",
       " Row(userId='18', artist=None, page='Add to Playlist', song=None, level='paid', datetime='2018-10-03 08:12:40'),\n",
       " Row(userId='18', artist='Happy Mondays', page='NextSong', song='Mad Cyril (Remastered version)', level='paid', datetime='2018-10-03 08:15:05'),\n",
       " Row(userId='18', artist=None, page='Add to Playlist', song=None, level='paid', datetime='2018-10-03 08:15:25'),\n",
       " Row(userId='18', artist='U2', page='NextSong', song='Hold Me_ Thrill Me_ Kiss Me_ Kill Me', level='paid', datetime='2018-10-03 13:09:36'),\n",
       " Row(userId='18', artist='Clara Hill', page='NextSong', song='Clara meets Slope - Hard To Say', level='paid', datetime='2018-10-03 13:14:22'),\n",
       " Row(userId='18', artist='Charlotte Gainsbourg', page='NextSong', song='Tel Que Tu Es', level='paid', datetime='2018-10-03 13:18:48'),\n",
       " Row(userId='18', artist=None, page='Thumbs Up', song=None, level='paid', datetime='2018-10-03 13:18:49'),\n",
       " Row(userId='18', artist='Passion Pit', page='NextSong', song='Sleepyhead', level='paid', datetime='2018-10-03 13:21:57'),\n",
       " Row(userId='18', artist='The Cat Empire', page='NextSong', song='One Four Five', level='paid', datetime='2018-10-03 13:24:51'),\n",
       " Row(userId='18', artist='De-Phazz', page='NextSong', song='Dummes Spiel', level='paid', datetime='2018-10-03 13:28:16'),\n",
       " Row(userId='18', artist='Fischerspooner', page='NextSong', song='Wednesday', level='paid', datetime='2018-10-03 13:32:00'),\n",
       " Row(userId='18', artist='Zbigniew Preisner', page='NextSong', song='The Beginning', level='paid', datetime='2018-10-03 13:35:27'),\n",
       " Row(userId='18', artist='Maroon 5', page='NextSong', song='Harder To Breathe', level='paid', datetime='2018-10-03 13:36:44'),\n",
       " Row(userId='18', artist='She & Him', page='NextSong', song='Got Me', level='paid', datetime='2018-10-03 13:39:37'),\n",
       " Row(userId='18', artist='Methods Of Mayhem / Snoop Dogg', page='NextSong', song='Who The Hell Cares', level='paid', datetime='2018-10-03 13:42:24'),\n",
       " Row(userId='18', artist='DJ Shah', page='NextSong', song='Back To You', level='paid', datetime='2018-10-03 13:45:55'),\n",
       " Row(userId='18', artist='UMOJA', page='NextSong', song='Umoja', level='paid', datetime='2018-10-03 13:55:45'),\n",
       " Row(userId='18', artist='Fatboy Slim', page='NextSong', song='Praise You', level='paid', datetime='2018-10-03 13:59:40'),\n",
       " Row(userId='18', artist='Enrique Iglesias', page='NextSong', song='Bailamos', level='paid', datetime='2018-10-03 14:03:25'),\n",
       " Row(userId='18', artist='The Police', page='NextSong', song=\"Don't Stand So Close To Me '86\", level='paid', datetime='2018-10-03 14:06:58'),\n",
       " Row(userId='18', artist='Justin Bieber', page='NextSong', song='Somebody To Love', level='paid', datetime='2018-10-03 14:11:49'),\n",
       " Row(userId='18', artist='Antonio Carlos Jobim', page='NextSong', song='Ela E Carioca', level='paid', datetime='2018-10-03 14:15:29'),\n",
       " Row(userId='18', artist=None, page='Add to Playlist', song=None, level='paid', datetime='2018-10-03 14:16:01'),\n",
       " Row(userId='18', artist='Reality Check', page='NextSong', song='Masquerade (Reality Check Album Version)', level='paid', datetime='2018-10-03 14:18:00'),\n",
       " Row(userId='18', artist='Evanescence', page='NextSong', song='My Immortal', level='paid', datetime='2018-10-03 14:21:46'),\n",
       " Row(userId='18', artist='Sugarland', page='NextSong', song='Speed Of Life', level='paid', datetime='2018-10-03 14:26:08'),\n",
       " Row(userId='18', artist='Lit', page='NextSong', song='Four', level='paid', datetime='2018-10-03 14:30:14'),\n",
       " Row(userId='18', artist='Burning Spear', page='NextSong', song='Social Living', level='paid', datetime='2018-10-03 14:35:22'),\n",
       " Row(userId='18', artist='Lady GaGa', page='NextSong', song='Speechless', level='paid', datetime='2018-10-03 14:43:16'),\n",
       " Row(userId='18', artist='Owl City', page='NextSong', song='Dear Vienna', level='paid', datetime='2018-10-03 14:47:46'),\n",
       " Row(userId='18', artist='Katy Perry', page='NextSong', song='Waking Up In Vegas (Calvin Harris Remix Edit)', level='paid', datetime='2018-10-03 14:51:44'),\n",
       " Row(userId='18', artist='Plej', page='NextSong', song='Freaks', level='paid', datetime='2018-10-03 14:55:28'),\n",
       " Row(userId='18', artist='Between The Buried And Me', page='NextSong', song='Selkies: The Endless Obsession (Album Version)', level='paid', datetime='2018-10-03 14:58:22'),\n",
       " Row(userId='18', artist='ManÃ\\x83Â¡', page='NextSong', song='Rayando el sol', level='paid', datetime='2018-10-03 15:05:45'),\n",
       " Row(userId='18', artist='Grand Funk', page='NextSong', song=\"We're An American Band (2002 Digital Remaster)\", level='paid', datetime='2018-10-03 15:09:57'),\n",
       " Row(userId='18', artist='A Day To Remember', page='NextSong', song=\"I'm Made Of Wax_ Larry_ What Are You Made Of?\", level='paid', datetime='2018-10-03 15:13:23'),\n",
       " Row(userId='18', artist='Drowning Pool', page='NextSong', song=\"Reason I'm Alive (Explicit)\", level='paid', datetime='2018-10-03 15:16:23'),\n",
       " Row(userId='18', artist='Coldplay', page='NextSong', song='Yellow', level='paid', datetime='2018-10-03 15:20:12'),\n",
       " Row(userId='18', artist='The Postal Service', page='NextSong', song='Such Great Heights', level='paid', datetime='2018-10-03 15:24:40'),\n",
       " Row(userId='18', artist='Alicia Keys', page='NextSong', song=\"If I Ain't Got You\", level='paid', datetime='2018-10-03 15:29:06'),\n",
       " Row(userId='18', artist=None, page='Home', song=None, level='paid', datetime='2018-10-03 15:30:06'),\n",
       " Row(userId='18', artist='Phoenix', page='NextSong', song='Victim Of The Crime', level='paid', datetime='2018-10-03 15:32:55'),\n",
       " Row(userId='18', artist=None, page='Logout', song=None, level='paid', datetime='2018-10-03 15:32:56'),\n",
       " Row(userId='18', artist=None, page='Home', song=None, level='paid', datetime='2018-10-03 15:34:03'),\n",
       " Row(userId='18', artist='Eric Prydz', page='NextSong', song='Call On Me', level='paid', datetime='2018-10-03 15:37:00'),\n",
       " Row(userId='18', artist='JoÃ\\x83Â£o Gilberto', page='NextSong', song='Ave Maria No Morro', level='paid', datetime='2018-10-03 15:44:32'),\n",
       " Row(userId='18', artist=None, page='Thumbs Up', song=None, level='paid', datetime='2018-10-03 15:44:33'),\n",
       " Row(userId='18', artist='Gal Costa', page='NextSong', song='Dom De Iludir', level='paid', datetime='2018-10-03 15:48:50'),\n",
       " Row(userId='18', artist='Cocoon', page='NextSong', song='Christmas song', level='paid', datetime='2018-10-03 15:52:21'),\n",
       " Row(userId='18', artist='Regina Spektor', page='NextSong', song='The Sword & the Pen (Non-Album Track)', level='paid', datetime='2018-10-03 15:55:30'),\n",
       " Row(userId='18', artist='Four Tet', page='NextSong', song='This Is Six Minutes', level='paid', datetime='2018-10-03 15:59:18'),\n",
       " Row(userId='18', artist=None, page='Add to Playlist', song=None, level='paid', datetime='2018-10-03 16:00:02'),\n",
       " Row(userId='18', artist='Sun Kil Moon', page='NextSong', song='Duk Koo Kim', level='paid', datetime='2018-10-03 16:05:23'),\n",
       " Row(userId='18', artist='The White Stripes', page='NextSong', song='Seven Nation Army', level='paid', datetime='2018-10-03 16:19:55'),\n",
       " Row(userId='18', artist='Justin Bieber', page='NextSong', song='Somebody To Love', level='paid', datetime='2018-10-03 16:23:47'),\n",
       " Row(userId='18', artist='Escape The Fate', page='NextSong', song=\"There's No Sympathy For The Dead (Album Version)\", level='paid', datetime='2018-10-03 16:27:27'),\n",
       " Row(userId='18', artist=\"K'Naan\", page='NextSong', song=\"Wavin'  Flag\", level='paid', datetime='2018-10-03 16:32:53'),\n",
       " Row(userId='18', artist='Flogging Molly', page='NextSong', song='Float', level='paid', datetime='2018-10-03 16:36:33'),\n",
       " Row(userId='18', artist='Bohren & Der Club Of Gore', page='NextSong', song='Schwarze Biene (Black Maja)', level='paid', datetime='2018-10-03 16:41:26'),\n",
       " Row(userId='18', artist='Phoenix', page='NextSong', song='Lasso', level='paid', datetime='2018-10-03 16:49:37'),\n",
       " Row(userId='18', artist='Black Eyed Peas', page='NextSong', song='Pump It', level='paid', datetime='2018-10-03 16:52:24'),\n",
       " Row(userId='18', artist=None, page='Home', song=None, level='paid', datetime='2018-10-03 16:53:43'),\n",
       " Row(userId='18', artist='Damien Rice', page='NextSong', song='Amie', level='paid', datetime='2018-10-03 16:55:58'),\n",
       " Row(userId='18', artist='Saybia', page='NextSong', song='Still Falling', level='paid', datetime='2018-10-03 17:00:34'),\n",
       " Row(userId='18', artist='Lily Allen', page='NextSong', song='Smile (Explicit Version)', level='paid', datetime='2018-10-03 17:04:07'),\n",
       " Row(userId='18', artist='Agnostic Front', page='NextSong', song='Strength', level='paid', datetime='2018-10-03 17:07:22'),\n",
       " Row(userId='18', artist=None, page='Home', song=None, level='paid', datetime='2018-10-03 17:08:13'),\n",
       " Row(userId='18', artist=None, page='Add Friend', song=None, level='paid', datetime='2018-10-03 17:08:14'),\n",
       " Row(userId='18', artist=None, page='Add Friend', song=None, level='paid', datetime='2018-10-03 17:08:15'),\n",
       " Row(userId='18', artist='Box Car Racer', page='NextSong', song='Watch The World', level='paid', datetime='2018-10-03 17:10:01'),\n",
       " Row(userId='18', artist='Flyleaf', page='NextSong', song='Again', level='paid', datetime='2018-10-03 17:13:53'),\n",
       " Row(userId='18', artist='Peter Tosh', page='NextSong', song='Fight On (2002 Digital Remaster)', level='paid', datetime='2018-10-03 17:16:57'),\n",
       " Row(userId='18', artist='Silvio RodrÃ\\x83Â\\xadguez', page='NextSong', song='Aunque no estÃ\\x83Â© de moda', level='paid', datetime='2018-10-03 17:20:17'),\n",
       " Row(userId='18', artist='Beirut', page='NextSong', song='A Sunday Smile', level='paid', datetime='2018-10-03 17:23:52'),\n",
       " Row(userId='18', artist='Coldplay', page='NextSong', song='The Scientist', level='paid', datetime='2018-10-03 17:27:27'),\n",
       " Row(userId='18', artist='Joe Arroyo', page='NextSong', song='Yamulemau', level='paid', datetime='2018-10-03 17:32:38'),\n",
       " Row(userId='18', artist='Mae', page='NextSong', song='The Fight Song (Crash And Burn)', level='paid', datetime='2018-10-03 17:35:09'),\n",
       " Row(userId='18', artist='The Chills', page='NextSong', song='Pink Frost', level='paid', datetime='2018-10-03 17:42:15'),\n",
       " Row(userId='18', artist='King Curtis', page='NextSong', song='A Whiter Shade Of Pale (Live @ Fillmore West)', level='paid', datetime='2018-10-03 17:46:12'),\n",
       " Row(userId='18', artist='R Kelly', page='NextSong', song='I Believe I Can Fly', level='paid', datetime='2018-10-03 17:51:38'),\n",
       " Row(userId='18', artist=None, page='Add to Playlist', song=None, level='paid', datetime='2018-10-03 17:51:50'),\n",
       " Row(userId='18', artist='4 Non Blondes', page='NextSong', song=\"What's Up?\", level='paid', datetime='2018-10-03 17:56:57'),\n",
       " Row(userId='18', artist=None, page='About', song=None, level='paid', datetime='2018-10-03 17:58:36'),\n",
       " Row(userId='18', artist='Electric Light Orchestra', page='NextSong', song='Turn To Stone', level='paid', datetime='2018-10-05 05:27:50'),\n",
       " Row(userId='18', artist='Red Rider', page='NextSong', song='Crack The Sky (Breakaway)', level='paid', datetime='2018-10-05 05:31:39'),\n",
       " Row(userId='18', artist='The Cardigans', page='NextSong', song='Erase / Rewind', level='paid', datetime='2018-10-05 05:35:38'),\n",
       " Row(userId='18', artist='Gorillaz', page='NextSong', song='Demon Days', level='paid', datetime='2018-10-05 05:39:16'),\n",
       " Row(userId='18', artist='Extreme', page='NextSong', song='More Than Words', level='paid', datetime='2018-10-05 05:43:44'),\n",
       " Row(userId='18', artist='Al Jarreau', page='NextSong', song='Summertime [From Porgy and Bess] (Live 1993 Version)', level='paid', datetime='2018-10-05 05:47:42'),\n",
       " Row(userId='18', artist='Kate Ryan', page='NextSong', song='La Promesse (Radio Version)', level='paid', datetime='2018-10-05 05:53:59'),\n",
       " Row(userId='18', artist='Soulive', page='NextSong', song='Alkime', level='paid', datetime='2018-10-05 05:57:28'),\n",
       " Row(userId='18', artist='Iron Maiden', page='NextSong', song='Out Of The Shadows', level='paid', datetime='2018-10-05 06:04:27'),\n",
       " Row(userId='18', artist='Miss Pooja', page='NextSong', song='Mere Do Nain', level='paid', datetime='2018-10-05 06:10:02'),\n",
       " Row(userId='18', artist='Five Iron Frenzy', page='NextSong', song='Canada', level='paid', datetime='2018-10-05 06:14:55'),\n",
       " Row(userId='18', artist='Telepopmusik', page='NextSong', song='Breathe', level='paid', datetime='2018-10-05 06:18:51'),\n",
       " Row(userId='18', artist='Gerald Clayton', page='NextSong', song='Casiotone Pothole', level='paid', datetime='2018-10-05 06:23:33'),\n",
       " Row(userId='18', artist='Sanctus Real', page='NextSong', song='We Need Each Other', level='paid', datetime='2018-10-05 06:30:49'),\n",
       " Row(userId='18', artist='Massive Attack', page='NextSong', song='Heat Miser', level='paid', datetime='2018-10-05 06:35:04'),\n",
       " Row(userId='18', artist='Madonna', page='NextSong', song='Beautiful Stranger', level='paid', datetime='2018-10-05 06:38:43'),\n",
       " Row(userId='18', artist='Big Kuntry King', page='NextSong', song='Da Baddest [Feat. Trey Songz] (Explicit Album Version)', level='paid', datetime='2018-10-05 06:43:03'),\n",
       " Row(userId='18', artist='Virgin Prunes', page='NextSong', song='Brain Damage', level='paid', datetime='2018-10-05 06:46:55'),\n",
       " Row(userId='18', artist='Echo And The Bunnymen', page='NextSong', song='Over The Wall', level='paid', datetime='2018-10-05 06:50:39'),\n",
       " Row(userId='18', artist='Old Crow Medicine Show', page='NextSong', song='Bobcat Tracks', level='paid', datetime='2018-10-05 06:56:38'),\n",
       " Row(userId='18', artist='Younger Brother', page='NextSong', song='All I Want', level='paid', datetime='2018-10-05 06:59:41'),\n",
       " Row(userId='18', artist='Florence + The Machine', page='NextSong', song='Dog Days Are Over (Radio Edit)', level='paid', datetime='2018-10-05 07:08:45'),\n",
       " Row(userId='18', artist='Phish', page='NextSong', song='Prince Caspian', level='paid', datetime='2018-10-05 07:12:24'),\n",
       " Row(userId='18', artist='Orishas', page='NextSong', song='Mistica', level='paid', datetime='2018-10-05 07:17:43'),\n",
       " Row(userId='18', artist='Leona Lewis', page='NextSong', song='Better in time', level='paid', datetime='2018-10-05 07:22:08'),\n",
       " Row(userId='18', artist='John McEuen', page='NextSong', song=\"Miner's Night Out\", level='paid', datetime='2018-10-05 07:26:01'),\n",
       " Row(userId='18', artist='Firewind', page='NextSong', song='Maniac', level='paid', datetime='2018-10-05 07:28:49'),\n",
       " Row(userId='18', artist='Stephane Pompougnac', page='NextSong', song='Ghosts and Roses', level='paid', datetime='2018-10-05 07:33:43'),\n",
       " Row(userId='18', artist='Harmonia', page='NextSong', song='Sehr kosmisch', level='paid', datetime='2018-10-05 07:37:44'),\n",
       " Row(userId='18', artist='Eminem', page='NextSong', song='Mockingbird', level='paid', datetime='2018-10-05 07:48:39'),\n",
       " Row(userId='18', artist='Juaninacka', page='NextSong', song='La teorÃ\\x83Â\\xada del caos', level='paid', datetime='2018-10-05 07:52:49'),\n",
       " Row(userId='18', artist='Jon McLaughlin', page='NextSong', song='Human', level='paid', datetime='2018-10-05 07:56:40'),\n",
       " Row(userId='18', artist='Bad Brains', page='NextSong', song='Banned In D.C.', level='paid', datetime='2018-10-05 08:00:52'),\n",
       " Row(userId='18', artist='Drake / Kanye West / Lil Wayne / Eminem', page='NextSong', song='Forever', level='paid', datetime='2018-10-05 08:03:39'),\n",
       " Row(userId='18', artist='Muse', page='NextSong', song='Butterflies and Hurricanes', level='paid', datetime='2018-10-05 08:09:36'),\n",
       " Row(userId='18', artist='Transplants', page='NextSong', song='Diamonds And Guns (Album Version)', level='paid', datetime='2018-10-05 08:14:37'),\n",
       " Row(userId='18', artist='Lovex', page='NextSong', song='My Isolation', level='paid', datetime='2018-10-05 08:18:38'),\n",
       " Row(userId='18', artist='3 Doors Down', page='NextSong', song='Going Down In Flames', level='paid', datetime='2018-10-05 08:22:11'),\n",
       " Row(userId='18', artist='Paramore', page='NextSong', song='Ignorance (Album Version)', level='paid', datetime='2018-10-05 08:25:40'),\n",
       " Row(userId='18', artist='Florence + The Machine', page='NextSong', song='Dog Days Are Over (Radio Edit)', level='paid', datetime='2018-10-05 08:29:18'),\n",
       " Row(userId='18', artist='Copeland', page='NextSong', song='Hold Nothing Back', level='paid', datetime='2018-10-05 08:32:57'),\n",
       " Row(userId='18', artist='The Almost', page='NextSong', song=\"Call Back When I'm Honest\", level='paid', datetime='2018-10-05 08:35:53'),\n",
       " Row(userId='18', artist='Disturbed', page='NextSong', song='Numb (Album Version)', level='paid', datetime='2018-10-05 08:39:17'),\n",
       " Row(userId='18', artist='Blue October', page='NextSong', song='The End', level='paid', datetime='2018-10-05 08:43:01'),\n",
       " Row(userId='18', artist='A Day To Remember', page='NextSong', song=\"Mr. Highway's Thinking About The End\", level='paid', datetime='2018-10-05 08:48:00'),\n",
       " Row(userId='18', artist='Black Math Horseman', page='NextSong', song='Torment of the Metals', level='paid', datetime='2018-10-05 08:52:15'),\n",
       " Row(userId='18', artist=None, page='Logout', song=None, level='paid', datetime='2018-10-05 08:52:16'),\n",
       " Row(userId='18', artist=None, page='Home', song=None, level='paid', datetime='2018-10-05 08:57:42'),\n",
       " Row(userId='18', artist=None, page='Logout', song=None, level='paid', datetime='2018-10-05 08:57:43'),\n",
       " Row(userId='18', artist=None, page='Home', song=None, level='paid', datetime='2018-10-05 08:58:12'),\n",
       " Row(userId='18', artist='Fear Factory', page='NextSong', song='Digimortal (Album Version)', level='paid', datetime='2018-10-05 08:59:19'),\n",
       " Row(userId='18', artist='Nick Lowe', page='NextSong', song='So It Goes', level='paid', datetime='2018-10-05 09:02:21'),\n",
       " Row(userId='18', artist='Gloria Estefan', page='NextSong', song='Caridad', level='paid', datetime='2018-10-05 09:04:53'),\n",
       " Row(userId='18', artist='The Decemberists', page='NextSong', song='The Bachelor and the Bride', level='paid', datetime='2018-10-05 09:08:13'),\n",
       " Row(userId='18', artist='Nirvana', page='NextSong', song=\"You Know You're Right\", level='paid', datetime='2018-10-05 09:12:25'),\n",
       " Row(userId='18', artist='Mikel Erentxun', page='NextSong', song='Frases Mudas', level='paid', datetime='2018-10-05 09:16:03'),\n",
       " Row(userId='18', artist='Jamie Foxx featuring T-Pain', page='NextSong', song='Blame It', level='paid', datetime='2018-10-05 09:19:01'),\n",
       " Row(userId='18', artist='Bad Religion', page='NextSong', song='Infected', level='paid', datetime='2018-10-05 09:23:50'),\n",
       " Row(userId='18', artist='Pendulum', page='NextSong', song='The Tempest (album version)', level='paid', datetime='2018-10-05 09:27:57'),\n",
       " Row(userId='18', artist='Miami Horror', page='NextSong', song=\"Don't Be On With Her\", level='paid', datetime='2018-10-05 09:35:24'),\n",
       " Row(userId='18', artist='Verdena', page='NextSong', song='Canos', level='paid', datetime='2018-10-05 09:39:06'),\n",
       " Row(userId='18', artist='Madonna', page='NextSong', song='Beautiful Stranger', level='paid', datetime='2018-10-05 09:42:48'),\n",
       " Row(userId='18', artist='The Spencer Davis Group', page='NextSong', song=\"Gimme Some Lovin'\", level='paid', datetime='2018-10-05 09:47:08'),\n",
       " Row(userId='18', artist='The Blues Brothers', page='NextSong', song='Sweet Home Chicago', level='paid', datetime='2018-10-05 09:50:01'),\n",
       " Row(userId='18', artist='Buffalo Springfield', page='NextSong', song='Mr. Soul', level='paid', datetime='2018-10-05 09:52:46'),\n",
       " Row(userId='18', artist='Florence + The Machine', page='NextSong', song='Dog Days Are Over (Radio Edit)', level='paid', datetime='2018-10-05 09:55:37'),\n",
       " Row(userId='18', artist='Arid', page='NextSong', song='Lock & Chain', level='paid', datetime='2018-10-05 09:59:16'),\n",
       " Row(userId='18', artist='Ralph Stanley', page='NextSong', song='O Death', level='paid', datetime='2018-10-05 10:03:50'),\n",
       " Row(userId='18', artist=\"Kirk Franklin featuring Da' T.R.U.T.H.\", page='NextSong', song='I Like Me', level='paid', datetime='2018-10-05 10:07:09'),\n",
       " Row(userId='18', artist='John Mayer', page='NextSong', song='All We Ever Do Is Say Goodbye', level='paid', datetime='2018-10-05 10:10:14'),\n",
       " Row(userId='18', artist=None, page='Add to Playlist', song=None, level='paid', datetime='2018-10-05 10:10:46'),\n",
       " Row(userId='18', artist='Imogen Heap', page='NextSong', song='2-1', level='paid', datetime='2018-10-05 10:14:49'),\n",
       " Row(userId='18', artist=None, page='Add to Playlist', song=None, level='paid', datetime='2018-10-05 10:14:53'),\n",
       " Row(userId='18', artist='Michael BublÃ\\x83Â©', page='NextSong', song='Always On My Mind (Album Version)', level='paid', datetime='2018-10-05 10:19:31'),\n",
       " Row(userId='18', artist='Sea Wolf', page='NextSong', song='Ses Monuments', level='paid', datetime='2018-10-05 10:24:00'),\n",
       " Row(userId='18', artist='Vampire Weekend', page='NextSong', song='I Stand Corrected (Album)', level='paid', datetime='2018-10-05 10:28:25'),\n",
       " Row(userId='18', artist='Chicane', page='NextSong', song='Halcyon', level='paid', datetime='2018-10-05 10:31:04'),\n",
       " Row(userId='18', artist='Damien Rice', page='NextSong', song=\"Cheers Darlin'\", level='paid', datetime='2018-10-05 10:38:18'),\n",
       " Row(userId='18', artist=None, page='Add Friend', song=None, level='paid', datetime='2018-10-05 10:38:19'),\n",
       " Row(userId='18', artist='Lionel Richie', page='NextSong', song=\"I'm Missing Her\", level='paid', datetime='2018-10-05 10:44:08'),\n",
       " Row(userId='18', artist=None, page='Home', song=None, level='paid', datetime='2018-10-05 10:44:23'),\n",
       " Row(userId='18', artist='Dan Le Sac vs Scroobius Pip', page='NextSong', song='Thou Shalt Always Kill', level='paid', datetime='2018-10-05 10:48:05'),\n",
       " Row(userId='18', artist='Eva Cassidy', page='NextSong', song='Blue Eyes Crying in the Rain (Album Version)', level='paid', datetime='2018-10-05 10:53:25'),\n",
       " Row(userId='18', artist='Sauce Money Featuring Memphis Bleek', page='NextSong', song='What We Do (Explicit) (Feat. Memphis Bleek)', level='paid', datetime='2018-10-05 10:56:25'),\n",
       " Row(userId='18', artist='Extreme', page='NextSong', song='More Than Words', level='paid', datetime='2018-10-05 11:01:05'),\n",
       " Row(userId='18', artist='Moloko', page='NextSong', song='Dominoid (Panty Sniffer Mix)', level='paid', datetime='2018-10-05 11:05:03'),\n",
       " Row(userId='18', artist=\"Lady GaGa / Colby O'Donis\", page='NextSong', song='Just Dance', level='paid', datetime='2018-10-05 11:12:19'),\n",
       " Row(userId='18', artist='BjÃ\\x83Â¶rk', page='NextSong', song='Undo', level='paid', datetime='2018-10-05 11:16:17'),\n",
       " Row(userId='18', artist='Crystal Castles', page='NextSong', song='Vanished', level='paid', datetime='2018-10-05 11:22:05'),\n",
       " Row(userId='18', artist='Kings Of Leon', page='NextSong', song='Revelry', level='paid', datetime='2018-10-05 11:25:05'),\n",
       " Row(userId='18', artist='Deadmau5', page='NextSong', song=\"Ghosts 'n' Stuff (Original Instrumental Mix)\", level='paid', datetime='2018-10-05 11:28:26'),\n",
       " Row(userId='18', artist='KMC Feat. Dhany', page='NextSong', song='I Feel So Fine ', level='paid', datetime='2018-10-05 11:34:40'),\n",
       " Row(userId='18', artist='Johnny Winter', page='NextSong', song=\"It's My Own Fault\", level='paid', datetime='2018-10-05 11:42:43'),\n",
       " Row(userId='18', artist='In Flames', page='NextSong', song='December flow', level='paid', datetime='2018-10-05 11:54:37'),\n",
       " Row(userId='18', artist='Gorillaz', page='NextSong', song='Rhinestone Eyes', level='paid', datetime='2018-10-05 11:59:13'),\n",
       " Row(userId='18', artist='Bill Withers', page='NextSong', song='Make Love To Your Mind', level='paid', datetime='2018-10-05 12:02:33'),\n",
       " Row(userId='18', artist='The Killers', page='NextSong', song='Losing Touch', level='paid', datetime='2018-10-05 12:08:56'),\n",
       " Row(userId='18', artist=None, page='Add to Playlist', song=None, level='paid', datetime='2018-10-05 12:12:24'),\n",
       " Row(userId='18', artist='Freddie Jackson', page='NextSong', song='All Over You (2007 Digital Remaster)', level='paid', datetime='2018-10-05 12:13:09'),\n",
       " Row(userId='18', artist='The Police', page='NextSong', song='Walking On The Moon', level='paid', datetime='2018-10-05 12:17:37'),\n",
       " Row(userId='18', artist=None, page='Add Friend', song=None, level='paid', datetime='2018-10-05 12:17:38'),\n",
       " Row(userId='18', artist=None, page='Add Friend', song=None, level='paid', datetime='2018-10-05 12:17:39'),\n",
       " Row(userId='18', artist='Menomena', page='NextSong', song=\"Muscle'n Flo\", level='paid', datetime='2018-10-05 12:22:42'),\n",
       " Row(userId='18', artist='Kid Cudi / MGMT / Ratatat', page='NextSong', song='Pursuit Of Happiness (nightmare)', level='paid', datetime='2018-10-05 12:27:02'),\n",
       " Row(userId='18', artist='Piers Faccini', page='NextSong', song='If I', level='paid', datetime='2018-10-05 12:31:57'),\n",
       " Row(userId='18', artist='1990s', page='NextSong', song='Sparks', level='paid', datetime='2018-10-05 12:35:46'),\n",
       " Row(userId='18', artist='The Del McCoury Band', page='NextSong', song='Rain & Snow', level='paid', datetime='2018-10-05 12:39:16'),\n",
       " Row(userId='18', artist='Panic! At The Disco', page='NextSong', song=\"Build God_ Then We'll Talk (Album Version)\", level='paid', datetime='2018-10-05 12:42:15'),\n",
       " Row(userId='18', artist='Lil Wayne / Eminem', page='NextSong', song='Drop The World', level='paid', datetime='2018-10-05 12:45:55'),\n",
       " Row(userId='18', artist='Cloud Cult', page='NextSong', song='Transistor Radio', level='paid', datetime='2018-10-05 12:49:44'),\n",
       " Row(userId='18', artist='Animal Collective', page='NextSong', song='April And The Phantom', level='paid', datetime='2018-10-05 12:53:52'),\n",
       " Row(userId='18', artist=None, page='Thumbs Up', song=None, level='paid', datetime='2018-10-05 12:53:53'),\n",
       " Row(userId='18', artist='Tim Hughes', page='NextSong', song='May The Words Of My Mouth', level='paid', datetime='2018-10-05 12:59:44'),\n",
       " Row(userId='18', artist='Diorama', page='NextSong', song='PROTECTED WORLD', level='paid', datetime='2018-10-05 13:03:57'),\n",
       " Row(userId='18', artist='Radiohead', page='NextSong', song='Exit Music (For A Film)', level='paid', datetime='2018-10-05 13:08:34'),\n",
       " Row(userId='18', artist='Sigue Sigue Sputnik', page='NextSong', song='Love Missile F1-11', level='paid', datetime='2018-10-05 13:12:58'),\n",
       " Row(userId='18', artist='Jodi Benson', page='NextSong', song=\"Floatin' Safari\", level='paid', datetime='2018-10-05 13:17:46'),\n",
       " Row(userId='18', artist='Devendra Banhart', page='NextSong', song='Carmensita', level='paid', datetime='2018-10-05 13:21:15'),\n",
       " Row(userId='18', artist='Truth Hurts', page='NextSong', song='The Truth', level='paid', datetime='2018-10-05 13:26:04'),\n",
       " Row(userId='18', artist='The Rogue Element', page='NextSong', song='An Unsavoury Urge', level='paid', datetime='2018-10-05 13:29:57'),\n",
       " Row(userId='18', artist=\"Plain White T's\", page='NextSong', song='Hey There Delilah', level='paid', datetime='2018-10-05 13:33:32'),\n",
       " Row(userId='18', artist='Shriekback', page='NextSong', song='My Spine (Is The Bass Line)', level='paid', datetime='2018-10-05 13:37:24'),\n",
       " Row(userId='18', artist='Between The Buried And Me', page='NextSong', song='Selkies: The Endless Obsession (Album Version)', level='paid', datetime='2018-10-05 13:42:34'),\n",
       " Row(userId='18', artist='Evanescence', page='NextSong', song='Bring Me To Life', level='paid', datetime='2018-10-05 13:49:57'),\n",
       " Row(userId='18', artist='Boyz N Da Hood', page='NextSong', song='Everybody Know Me (Amended Album Version)', level='paid', datetime='2018-10-05 13:53:53'),\n",
       " Row(userId='18', artist=None, page='Home', song=None, level='paid', datetime='2018-10-05 13:54:09'),\n",
       " Row(userId='18', artist='Sonny James', page='NextSong', song='Only The Lonely (Know The Way I Feel)', level='paid', datetime='2018-10-05 13:58:33'),\n",
       " Row(userId='18', artist='Curtis Mayfield', page='NextSong', song='Superfly (LP Version)', level='paid', datetime='2018-10-05 14:01:13'),\n",
       " Row(userId='18', artist='Bob The Builder', page='NextSong', song='Can We Fix It ?', level='paid', datetime='2018-10-05 14:05:13'),\n",
       " Row(userId='18', artist=None, page='Thumbs Up', song=None, level='paid', datetime='2018-10-05 14:05:14'),\n",
       " Row(userId='18', artist='Bond', page='NextSong', song='Explosive', level='paid', datetime='2018-10-05 14:08:22'),\n",
       " Row(userId='18', artist='Asia 2001', page='NextSong', song='Epilogue', level='paid', datetime='2018-10-05 14:11:32'),\n",
       " Row(userId='18', artist='Aimee Mann', page='NextSong', song='Deathly', level='paid', datetime='2018-10-05 14:14:02'),\n",
       " Row(userId='18', artist='59 Times the Pain', page='NextSong', song='Found Home', level='paid', datetime='2018-10-05 14:19:38'),\n",
       " Row(userId='18', artist='Cage The Elephant', page='NextSong', song='Free Love', level='paid', datetime='2018-10-05 14:22:02'),\n",
       " Row(userId='18', artist='Flyleaf', page='NextSong', song='This Close', level='paid', datetime='2018-10-05 14:25:29'),\n",
       " Row(userId='18', artist=None, page='Downgrade', song=None, level='paid', datetime='2018-10-05 14:25:55'),\n",
       " Row(userId='18', artist='The Heavy', page='NextSong', song='How You Like Me Now?', level='paid', datetime='2018-10-05 14:28:48'),\n",
       " Row(userId='18', artist=None, page='Add Friend', song=None, level='paid', datetime='2018-10-05 14:28:49'),\n",
       " Row(userId='18', artist='Radio 4', page='NextSong', song='Absolute Affirmation', level='paid', datetime='2018-10-05 14:32:05'),\n",
       " Row(userId='18', artist='Kings Of Leon', page='NextSong', song='Revelry', level='paid', datetime='2018-10-05 14:35:36'),\n",
       " Row(userId='18', artist='Britney Spears', page='NextSong', song='Everytime', level='paid', datetime='2018-10-05 14:38:57'),\n",
       " Row(userId='18', artist='The Blues Brothers', page='NextSong', song='Jailhouse Rock', level='paid', datetime='2018-10-05 14:42:21'),\n",
       " Row(userId='18', artist=\"Mama's Jasje\", page='NextSong', song='Therapie In De Nachtlucht', level='paid', datetime='2018-10-05 14:45:46'),\n",
       " Row(userId='18', artist=\"Pickin' On Series\", page='NextSong', song='Interstate 8', level='paid', datetime='2018-10-05 14:49:25'),\n",
       " Row(userId='18', artist=None, page='Thumbs Up', song=None, level='paid', datetime='2018-10-05 14:49:26'),\n",
       " Row(userId='18', artist='Florence + The Machine', page='NextSong', song=\"You've Got The Love\", level='paid', datetime='2018-10-05 14:53:39'),\n",
       " Row(userId='18', artist='3 Doors Down', page='NextSong', song='Changes', level='paid', datetime='2018-10-05 14:56:27'),\n",
       " Row(userId='18', artist='Anahi', page='NextSong', song='Quiero', level='paid', datetime='2018-10-05 15:00:23'),\n",
       " Row(userId='18', artist='Wolfsheim', page='NextSong', song='Once In A Lifetime', level='paid', datetime='2018-10-05 15:04:08'),\n",
       " Row(userId='18', artist=None, page='Thumbs Up', song=None, level='paid', datetime='2018-10-05 15:04:09'),\n",
       " Row(userId='18', artist='Alliance Ethnik', page='NextSong', song='SinceritÃ\\x83Â© Et Jalousie', level='paid', datetime='2018-10-05 15:07:49'),\n",
       " Row(userId='18', artist=None, page='Add to Playlist', song=None, level='paid', datetime='2018-10-05 15:09:39'),\n",
       " Row(userId='18', artist='The Pharcyde', page='NextSong', song=\"Runnin'\", level='paid', datetime='2018-10-05 15:11:04'),\n",
       " Row(userId='18', artist='Lonnie Gordon', page='NextSong', song='Catch You Baby (Steve Pitron & Max Sanna Radio Edit)', level='paid', datetime='2018-10-05 15:16:00'),\n",
       " Row(userId='18', artist='Pops\" Staples', page='NextSong', song='People Get Ready', level='paid', datetime='2018-10-05 15:19:01'),\n",
       " Row(userId='18', artist=None, page='Help', song=None, level='paid', datetime='2018-10-05 15:19:43'),\n",
       " Row(userId='18', artist='Battles', page='NextSong', song='Ddiamondd', level='paid', datetime='2018-10-05 15:23:35'),\n",
       " Row(userId='18', artist=None, page='Home', song=None, level='paid', datetime='2018-10-05 15:26:03'),\n",
       " Row(userId='18', artist='Francesca Battistelli', page='NextSong', song='Blue Sky (Album)', level='paid', datetime='2018-10-05 15:26:08'),\n",
       " Row(userId='18', artist='Travie McCoy', page='NextSong', song='Billionaire [feat. Bruno Mars]  (Explicit Album Version)', level='paid', datetime='2018-10-05 15:30:03'),\n",
       " Row(userId='18', artist='Lyrics Born', page='NextSong', song=\"Is It The Skin I'm In?\", level='paid', datetime='2018-10-05 15:33:34'),\n",
       " Row(userId='18', artist='Blues Traveler', page='NextSong', song='The Mountains Win Again', level='paid', datetime='2018-10-05 15:37:27'),\n",
       " Row(userId='18', artist='Queen Latifah', page='NextSong', song='I Want A Little Sugar In My Bowl', level='paid', datetime='2018-10-05 15:42:35'),\n",
       " Row(userId='18', artist='Che Sudaka', page='NextSong', song='Ona Kasuita', level='paid', datetime='2018-10-05 15:45:40'),\n",
       " Row(userId='18', artist='Laura Marling', page='NextSong', song='I Speak Because I Can', level='paid', datetime='2018-10-05 15:47:49'),\n",
       " Row(userId='18', artist='Machine Head', page='NextSong', song='Bulldozer (Hellalive) (Album Version)', level='paid', datetime='2018-10-05 15:51:48'),\n",
       " Row(userId='18', artist=None, page='Thumbs Up', song=None, level='paid', datetime='2018-10-05 15:51:49'),\n",
       " Row(userId='18', artist='Drop Dead_ Gorgeous', page='NextSong', song='Dressed For Friend Requests (Album Version)', level='paid', datetime='2018-10-05 15:56:49'),\n",
       " Row(userId='18', artist='Blue October / Imogen Heap', page='NextSong', song='Congratulations', level='paid', datetime='2018-10-05 15:59:25'),\n",
       " Row(userId='18', artist='Pulp', page='NextSong', song='Dogs Are Everywhere', level='paid', datetime='2018-10-05 16:03:26'),\n",
       " Row(userId='18', artist='Modest Mouse', page='NextSong', song='Bukowski', level='paid', datetime='2018-10-05 16:08:19'),\n",
       " Row(userId='18', artist='Inner City', page='NextSong', song='Good Life', level='paid', datetime='2018-10-05 16:12:33'),\n",
       " Row(userId='18', artist='Fanfarlo', page='NextSong', song='Sand & Ice (Bonus Track)', level='paid', datetime='2018-10-05 16:16:28'),\n",
       " Row(userId='18', artist='John Legend featuring The Stephens Family', page='NextSong', song=\"It Don't Have To Change\", level='paid', datetime='2018-10-05 16:20:46'),\n",
       " Row(userId='18', artist='Manchester Orchestra', page='NextSong', song='I Can Feel A Hot One', level='paid', datetime='2018-10-05 16:24:09'),\n",
       " Row(userId='18', artist='Edward Sharpe & The Magnetic Zeros', page='NextSong', song='Home', level='paid', datetime='2018-10-05 16:28:28'),\n",
       " Row(userId='18', artist='Sarah McLachlan', page='NextSong', song='Black & White', level='paid', datetime='2018-10-05 16:33:34'),\n",
       " Row(userId='18', artist='The White Stripes', page='NextSong', song='The Hardest Button To Button', level='paid', datetime='2018-10-05 16:38:36'),\n",
       " Row(userId='18', artist=None, page='Home', song=None, level='paid', datetime='2018-10-05 16:38:46'),\n",
       " Row(userId='18', artist='Alicia Keys', page='NextSong', song=\"Tell You Something (Nana's Reprise)\", level='paid', datetime='2018-10-07 14:41:14'),\n",
       " Row(userId='18', artist='Man Man', page='NextSong', song='Against The Peruvian Monster', level='paid', datetime='2018-10-07 14:45:42'),\n",
       " Row(userId='18', artist='Two Door Cinema Club', page='NextSong', song='Costume Party', level='paid', datetime='2018-10-07 14:48:33'),\n",
       " Row(userId='18', artist=None, page='Thumbs Up', song=None, level='paid', datetime='2018-10-07 14:48:34'),\n",
       " Row(userId='18', artist='Ayabie', page='NextSong', song='0010', level='paid', datetime='2018-10-07 14:52:00'),\n",
       " Row(userId='18', artist=None, page='Add to Playlist', song=None, level='paid', datetime='2018-10-07 14:52:00'),\n",
       " Row(userId='18', artist='Madonna', page='NextSong', song='Beautiful Stranger', level='paid', datetime='2018-10-07 14:56:04'),\n",
       " Row(userId='18', artist='matchbox twenty', page='NextSong', song='Bent (LP Version)', level='paid', datetime='2018-10-07 15:00:24'),\n",
       " Row(userId='18', artist='Mondo Marcio', page='NextSong', song='Purple Weed', level='paid', datetime='2018-10-07 15:04:43'),\n",
       " Row(userId='18', artist='Musiq', page='NextSong', song='Womanopoly', level='paid', datetime='2018-10-07 15:09:06'),\n",
       " Row(userId='18', artist='PANTyRAiD', page='NextSong', song='Beba', level='paid', datetime='2018-10-07 15:14:00'),\n",
       " Row(userId='18', artist='The Black Keys', page='NextSong', song='Run Me Down', level='paid', datetime='2018-10-07 15:17:51'),\n",
       " Row(userId='18', artist='K.I.Z.', page='NextSong', song='Tanz', level='paid', datetime='2018-10-07 15:20:16'),\n",
       " Row(userId='18', artist='Third Eye Blind', page='NextSong', song='Wake For Young Souls', level='paid', datetime='2018-10-07 15:23:55'),\n",
       " Row(userId='18', artist='Marina And The Diamonds', page='NextSong', song='I Am Not a Robot', level='paid', datetime='2018-10-07 15:28:32'),\n",
       " Row(userId='18', artist='Cobra Starship', page='NextSong', song=\"Prostitution Is The World's Oldest Profession [and I_ Dear Madame_ Am A Professional] (Album Version)\", level='paid', datetime='2018-10-07 15:32:54'),\n",
       " Row(userId='18', artist='The All-American Rejects', page='NextSong', song='Real World', level='paid', datetime='2018-10-07 15:35:32'),\n",
       " Row(userId='18', artist=None, page='Settings', song=None, level='paid', datetime='2018-10-07 15:35:51'),\n",
       " Row(userId='18', artist=None, page='Save Settings', song=None, level='paid', datetime='2018-10-07 15:35:52'),\n",
       " Row(userId='18', artist=None, page='Home', song=None, level='paid', datetime='2018-10-07 15:38:12'),\n",
       " Row(userId='18', artist=None, page='Add Friend', song=None, level='paid', datetime='2018-10-07 15:38:13'),\n",
       " Row(userId='18', artist='Hem', page='NextSong', song='The Golden Day Is Dying', level='paid', datetime='2018-10-07 15:39:27'),\n",
       " Row(userId='18', artist='Deftones', page='NextSong', song='Do You Believe', level='paid', datetime='2018-10-07 15:42:13'),\n",
       " Row(userId='18', artist='Sean Paul', page='NextSong', song='Baby Boy [feat. Beyonce]', level='paid', datetime='2018-10-07 15:45:41'),\n",
       " Row(userId='18', artist='Nada Surf', page='NextSong', song='Bad Best Friend', level='paid', datetime='2018-10-07 15:49:46'),\n",
       " Row(userId='18', artist='Chingo Bling w/ Flatline', page='NextSong', song='Reppin Da Soufside (w/Flatline) (Chopped & Screwed Version)', level='paid', datetime='2018-10-07 15:53:55'),\n",
       " Row(userId='18', artist='Dar Williams', page='NextSong', song='The Hudson', level='paid', datetime='2018-10-07 15:57:40'),\n",
       " Row(userId='18', artist=None, page='Add to Playlist', song=None, level='paid', datetime='2018-10-07 15:57:46'),\n",
       " Row(userId='18', artist='The Cure', page='NextSong', song='Where The Birds Always Sing', level='paid', datetime='2018-10-07 16:02:20'),\n",
       " Row(userId='18', artist='The Smiths', page='NextSong', song='Some Girls Are Bigger Than Others', level='paid', datetime='2018-10-07 16:08:05'),\n",
       " Row(userId='18', artist='Godsmack', page='NextSong', song='I Stand Alone', level='paid', datetime='2018-10-07 16:11:20'),\n",
       " Row(userId='18', artist='Mastodon', page='NextSong', song='Hunters Of The Sky (Album Version)', level='paid', datetime='2018-10-07 16:15:23'),\n",
       " Row(userId='18', artist='Xtreme', page='NextSong', song='Te ExtraÃ\\x83Â±o', level='paid', datetime='2018-10-07 16:19:15'),\n",
       " Row(userId='18', artist='Passion Pit', page='NextSong', song='Sleepyhead', level='paid', datetime='2018-10-07 16:22:48'),\n",
       " Row(userId='18', artist='Liane Foly', page='NextSong', song='Au fur et Ã\\x83Â\\xa0 mesure (live)', level='paid', datetime='2018-10-07 16:25:42'),\n",
       " Row(userId='18', artist='U2', page='NextSong', song='Hold Me_ Thrill Me_ Kiss Me_ Kill Me', level='paid', datetime='2018-10-07 16:30:42'),\n",
       " Row(userId='18', artist=None, page='Thumbs Down', song=None, level='paid', datetime='2018-10-07 16:30:43'),\n",
       " Row(userId='18', artist='Daft Punk', page='NextSong', song='Face To Face', level='paid', datetime='2018-10-07 16:35:28'),\n",
       " Row(userId='18', artist='Mayday Parade', page='NextSong', song=\"When I Get Home You're So Dead (New Version) (Album)\", level='paid', datetime='2018-10-07 16:39:27'),\n",
       " Row(userId='18', artist='Boys Noize', page='NextSong', song='Shine Shine', level='paid', datetime='2018-10-07 16:42:40'),\n",
       " Row(userId='18', artist='The Pussycat Dolls', page='NextSong', song=\"I Don't Need A Man\", level='paid', datetime='2018-10-07 16:49:32'),\n",
       " Row(userId='18', artist='Third World', page='NextSong', song='Satta Amasa Gana', level='paid', datetime='2018-10-07 16:53:11'),\n",
       " Row(userId='18', artist='Great White', page='NextSong', song='House Of Broken Love', level='paid', datetime='2018-10-07 16:57:07'),\n",
       " Row(userId='18', artist='Eminem / Dr. Dre / 50 Cent', page='NextSong', song='Crack A Bottle', level='paid', datetime='2018-10-07 17:03:04'),\n",
       " Row(userId='18', artist='Hans Zimmer_ James Newton Howard', page='NextSong', song='Corynorhinus', level='paid', datetime='2018-10-07 17:08:01'),\n",
       " Row(userId='18', artist='Hybrid', page='NextSong', song='Finished Symphony', level='paid', datetime='2018-10-07 17:13:05'),\n",
       " Row(userId='18', artist=None, page='Thumbs Up', song=None, level='paid', datetime='2018-10-07 17:13:06'),\n",
       " Row(userId='18', artist='Elliott Smith', page='NextSong', song='Lets Get Lost', level='paid', datetime='2018-10-07 17:22:42'),\n",
       " Row(userId='18', artist=None, page='Settings', song=None, level='paid', datetime='2018-10-07 17:23:42'),\n",
       " Row(userId='18', artist='John Frusciante', page='NextSong', song='Murderers (Album Version)', level='paid', datetime='2018-10-07 17:25:11'),\n",
       " Row(userId='18', artist='Basshunter', page='NextSong', song='All I Ever Wanted', level='paid', datetime='2018-10-07 17:27:51'),\n",
       " Row(userId='18', artist='Mariah', page='NextSong', song='My All', level='paid', datetime='2018-10-07 17:33:23'),\n",
       " Row(userId='18', artist='The Kooks', page='NextSong', song='Naive', level='paid', datetime='2018-10-07 17:40:35'),\n",
       " Row(userId='18', artist='Genesis', page='NextSong', song='Land Of Confusion', level='paid', datetime='2018-10-07 17:43:58'),\n",
       " Row(userId='18', artist='Radney Foster', page='NextSong', song='Drunk On Love', level='paid', datetime='2018-10-07 17:48:42'),\n",
       " Row(userId='18', artist='The Black Keys', page='NextSong', song='Tighten Up', level='paid', datetime='2018-10-07 17:53:51'),\n",
       " Row(userId='18', artist='Yndio', page='NextSong', song='Que Triste Es Decir Adios', level='paid', datetime='2018-10-07 17:57:22'),\n",
       " Row(userId='18', artist='Immolation', page='NextSong', song=\"At Mourning's Twilight\", level='paid', datetime='2018-10-07 18:00:16'),\n",
       " Row(userId='18', artist=None, page='Downgrade', song=None, level='paid', datetime='2018-10-07 18:00:53'),\n",
       " Row(userId='18', artist=None, page='Logout', song=None, level='paid', datetime='2018-10-07 18:00:54'),\n",
       " Row(userId='18', artist=None, page='Home', song=None, level='paid', datetime='2018-10-07 18:02:58'),\n",
       " Row(userId='18', artist='Insane Clown Posse', page='NextSong', song='Superballs', level='paid', datetime='2018-10-07 18:08:03'),\n",
       " Row(userId='18', artist='Sam Cooke', page='NextSong', song=\"Ain't Misbehavin\", level='paid', datetime='2018-10-07 18:11:15'),\n",
       " Row(userId='18', artist='Escape The Fate', page='NextSong', song='This War Is Ours (The Guillotine II)', level='paid', datetime='2018-10-07 18:13:17'),\n",
       " Row(userId='18', artist='Aerosmith', page='NextSong', song='Sweet Emotion', level='paid', datetime='2018-10-07 18:17:43'),\n",
       " Row(userId='18', artist='Live', page='NextSong', song='We Deal In Dreams', level='paid', datetime='2018-10-07 18:22:17'),\n",
       " Row(userId='18', artist='Hans Zimmer_ James Newton Howard', page='NextSong', song='Corynorhinus', level='paid', datetime='2018-10-07 18:26:10'),\n",
       " Row(userId='18', artist='Tarkan', page='NextSong', song='Simarik', level='paid', datetime='2018-10-07 18:31:14'),\n",
       " Row(userId='18', artist='The Pussycat Dolls', page='NextSong', song='Hush Hush', level='paid', datetime='2018-10-07 18:34:28'),\n",
       " Row(userId='18', artist='Era', page='NextSong', song='Cathar Rhythm', level='paid', datetime='2018-10-07 18:38:17'),\n",
       " Row(userId='18', artist=None, page='Home', song=None, level='paid', datetime='2018-10-07 18:39:13'),\n",
       " Row(userId='18', artist='The Brian Jonestown Massacre', page='NextSong', song='Stars', level='paid', datetime='2018-10-07 18:41:37'),\n",
       " Row(userId='18', artist='R.L. Burnside', page='NextSong', song=\"Walkin' Blues\", level='paid', datetime='2018-10-07 18:44:51'),\n",
       " Row(userId='18', artist='Mangataot', page='NextSong', song='Kalidafun Parts 1&2', level='paid', datetime='2018-10-07 18:48:16'),\n",
       " Row(userId='18', artist='Nine Inch Nails', page='NextSong', song='The Fragile', level='paid', datetime='2018-10-07 18:54:12'),\n",
       " Row(userId='18', artist='Dwight Yoakam', page='NextSong', song=\"You're The One\", level='paid', datetime='2018-10-07 18:58:47'),\n",
       " Row(userId='18', artist=None, page='Add Friend', song=None, level='paid', datetime='2018-10-07 18:58:48'),\n",
       " Row(userId='18', artist='The Black Keys', page='NextSong', song='Next Girl', level='paid', datetime='2018-10-07 19:02:46'),\n",
       " Row(userId='18', artist='Bon Jovi', page='NextSong', song='You Give Love A Bad Name', level='paid', datetime='2018-10-07 19:06:04'),\n",
       " Row(userId='18', artist='Rihanna / J-Status', page='NextSong', song='Here I Go Again', level='paid', datetime='2018-10-07 19:09:46'),\n",
       " Row(userId='18', artist=None, page='Thumbs Up', song=None, level='paid', datetime='2018-10-07 19:09:47'),\n",
       " Row(userId='18', artist='Red Hot Chili Peppers', page='NextSong', song=\"True Men Don't Kill Coyotes (24-Bit Digitally Remastered 02)\", level='paid', datetime='2018-10-07 19:13:57'),\n",
       " Row(userId='18', artist='The Offspring', page='NextSong', song='Killboy Powerhead', level='paid', datetime='2018-10-07 19:17:36'),\n",
       " Row(userId='18', artist='Alien Ant Farm', page='NextSong', song='Calico', level='paid', datetime='2018-10-07 19:19:38'),\n",
       " Row(userId='18', artist='Brisa RochÃ\\x83Â©', page='NextSong', song='Intermission 1', level='paid', datetime='2018-10-07 19:23:51'),\n",
       " Row(userId='18', artist='OutKast', page='NextSong', song='Ms. Jackson', level='paid', datetime='2018-10-07 19:24:39'),\n",
       " Row(userId='18', artist='Sheryl Crow', page='NextSong', song='Picture', level='paid', datetime='2018-10-07 19:28:38'),\n",
       " Row(userId='18', artist='Ane Brun', page='NextSong', song='The Fight Song', level='paid', datetime='2018-10-07 19:33:36'),\n",
       " Row(userId='18', artist='FM Static', page='NextSong', song='Take Me As I Am', level='paid', datetime='2018-10-07 19:38:05'),\n",
       " Row(userId='18', artist=\"Martin O'Donnell And Michael Salvatori\", page='NextSong', song='Reclaimer', level='paid', datetime='2018-10-07 19:41:37'),\n",
       " Row(userId='18', artist='Air', page='NextSong', song='Playground Love', level='paid', datetime='2018-10-07 19:44:42'),\n",
       " Row(userId='18', artist='Miles Davis', page='NextSong', song='Blue In Green', level='paid', datetime='2018-10-07 19:48:14'),\n",
       " Row(userId='18', artist='Usher featuring will.i.am', page='NextSong', song='OMG', level='paid', datetime='2018-10-07 19:53:50'),\n",
       " Row(userId='18', artist='Nickelback', page='NextSong', song='Far Away (Album Version)', level='paid', datetime='2018-10-07 20:00:25'),\n",
       " Row(userId='18', artist='Tonic', page='NextSong', song='Liar', level='paid', datetime='2018-10-07 20:04:23'),\n",
       " Row(userId='18', artist='Arch Enemy', page='NextSong', song='Blood On Your Hands', level='paid', datetime='2018-10-07 20:07:17'),\n",
       " Row(userId='18', artist='Les Ogres De Barback', page='NextSong', song='Pas bien', level='paid', datetime='2018-10-07 20:11:57'),\n",
       " Row(userId='18', artist='The Notorious B.I.G.', page='NextSong', song='Nasty Girl (Featuring Diddy_ Nelly_ Jagged Edge and Avery Storm) (Explicit Album Version)', level='paid', datetime='2018-10-07 20:17:20'),\n",
       " Row(userId='18', artist='Nickelback', page='NextSong', song='Someday', level='paid', datetime='2018-10-07 20:22:06'),\n",
       " Row(userId='18', artist=None, page='Downgrade', song=None, level='paid', datetime='2018-10-07 20:22:19'),\n",
       " Row(userId='18', artist=None, page='Cancel', song=None, level='paid', datetime='2018-10-07 20:22:20'),\n",
       " Row(userId='18', artist=None, page='Cancellation Confirmation', song=None, level='paid', datetime='2018-10-07 20:26:30')]"
      ]
     },
     "execution_count": 24,
     "metadata": {},
     "output_type": "execute_result"
    }
   ],
   "source": [
    "#let's see the detailed data for 1 user\n",
    "valid_events.where(\"userId == 18\").select(['userId','artist','page','song', 'level','datetime']).collect()"
   ]
  },
  {
   "cell_type": "markdown",
   "metadata": {},
   "source": [
    ">As we can see this particular user, spends quite some time in the system as a Paid user before ultimately ending his subscription.\n",
    "Even in some cases, they continue to use the services as a free user. Our goal will be to predict this event of cancelling or\n",
    "ending the subscription."
   ]
  },
  {
   "cell_type": "code",
   "execution_count": 25,
   "metadata": {},
   "outputs": [],
   "source": [
    "#let's create a churn flag column, where some user has already cancelled the services. In order to do the same we will first\n",
    "#need to find out the users who churned from the system.\n",
    "users_who_churned = valid_events.where(valid_events.auth==\"Cancelled\").select(\"userId\").distinct()\n",
    "\n",
    "#creating a list of users who churned\n",
    "churned_users_list = [(row['userId']) for row in users_who_churned.collect()]\n",
    "\n",
    "#assigning 1 to the event of churn, 0 otherwise.\n",
    "valid_events_withchurn = valid_events.withColumn(\"churned\", when(col(\"userId\").isin(churned_users_list),1).otherwise(0))"
   ]
  },
  {
   "cell_type": "code",
   "execution_count": 26,
   "metadata": {},
   "outputs": [
    {
     "data": {
      "text/plain": [
       "278154"
      ]
     },
     "execution_count": 26,
     "metadata": {},
     "output_type": "execute_result"
    }
   ],
   "source": [
    "valid_events_withchurn.count()"
   ]
  },
  {
   "cell_type": "code",
   "execution_count": 27,
   "metadata": {},
   "outputs": [
    {
     "name": "stdout",
     "output_type": "stream",
     "text": [
      "root\n",
      " |-- sessionId: long (nullable = true)\n",
      " |-- userId: string (nullable = true)\n",
      " |-- artist: string (nullable = true)\n",
      " |-- auth: string (nullable = true)\n",
      " |-- gender: string (nullable = true)\n",
      " |-- length: double (nullable = true)\n",
      " |-- level: string (nullable = true)\n",
      " |-- location: string (nullable = true)\n",
      " |-- page: string (nullable = true)\n",
      " |-- song: string (nullable = true)\n",
      " |-- datetime: string (nullable = true)\n",
      " |-- hourofday: string (nullable = true)\n",
      " |-- churned: integer (nullable = false)\n",
      "\n"
     ]
    }
   ],
   "source": [
    "#see the columns available in the dataset after adding the churn column\n",
    "valid_events_withchurn.printSchema()"
   ]
  },
  {
   "cell_type": "code",
   "execution_count": 28,
   "metadata": {},
   "outputs": [
    {
     "name": "stdout",
     "output_type": "stream",
     "text": [
      "+-------+-----+\n",
      "|churned|count|\n",
      "+-------+-----+\n",
      "|      1|   52|\n",
      "|      0|  173|\n",
      "+-------+-----+\n",
      "\n"
     ]
    }
   ],
   "source": [
    "#checking count of users churned/ non-churned\n",
    "valid_events_withchurn.select(['userId','churned']).distinct().groupBy('churned').count().show()"
   ]
  },
  {
   "cell_type": "markdown",
   "metadata": {},
   "source": [
    ">As we can see, we have successfully added the churned column to the dataset. The churned column takes 0,1 as values, and as \n",
    "the source data suggest, one user might have both the stautus. Hence we will look towards creating some features for our analysis. Before that, we will do some EDA on the dataset. "
   ]
  },
  {
   "cell_type": "markdown",
   "metadata": {},
   "source": [
    "**Songs played per hour irrespective of churned**"
   ]
  },
  {
   "cell_type": "code",
   "execution_count": 29,
   "metadata": {},
   "outputs": [],
   "source": [
    "songs_played_hour = valid_events_withchurn.filter(\"page == 'NextSong'\").groupBy(\"hourofday\").count().orderBy(valid_events_withchurn.hourofday.cast(\"float\"))"
   ]
  },
  {
   "cell_type": "code",
   "execution_count": 30,
   "metadata": {},
   "outputs": [
    {
     "name": "stdout",
     "output_type": "stream",
     "text": [
      "+---------+-----+\n",
      "|hourofday|count|\n",
      "+---------+-----+\n",
      "|        0| 9062|\n",
      "|        1| 8388|\n",
      "|        2| 8336|\n",
      "|        3| 8355|\n",
      "|        4| 8147|\n",
      "|        5| 8178|\n",
      "|        6| 8054|\n",
      "|        7| 8091|\n",
      "|        8| 8253|\n",
      "|        9| 8498|\n",
      "|       10| 8882|\n",
      "|       11| 8830|\n",
      "|       12| 9326|\n",
      "|       13| 9644|\n",
      "|       14|10494|\n",
      "|       15|11354|\n",
      "|       16|11636|\n",
      "|       17|11460|\n",
      "|       18|11124|\n",
      "|       19|10930|\n",
      "+---------+-----+\n",
      "only showing top 20 rows\n",
      "\n"
     ]
    }
   ],
   "source": [
    "songs_played_hour.show()"
   ]
  },
  {
   "cell_type": "code",
   "execution_count": 31,
   "metadata": {},
   "outputs": [
    {
     "data": {
      "text/html": [
       "<div>\n",
       "<style scoped>\n",
       "    .dataframe tbody tr th:only-of-type {\n",
       "        vertical-align: middle;\n",
       "    }\n",
       "\n",
       "    .dataframe tbody tr th {\n",
       "        vertical-align: top;\n",
       "    }\n",
       "\n",
       "    .dataframe thead th {\n",
       "        text-align: right;\n",
       "    }\n",
       "</style>\n",
       "<table border=\"1\" class=\"dataframe\">\n",
       "  <thead>\n",
       "    <tr style=\"text-align: right;\">\n",
       "      <th></th>\n",
       "      <th>hourofday</th>\n",
       "      <th>count</th>\n",
       "    </tr>\n",
       "  </thead>\n",
       "  <tbody>\n",
       "    <tr>\n",
       "      <th>0</th>\n",
       "      <td>0</td>\n",
       "      <td>9062</td>\n",
       "    </tr>\n",
       "    <tr>\n",
       "      <th>1</th>\n",
       "      <td>1</td>\n",
       "      <td>8388</td>\n",
       "    </tr>\n",
       "    <tr>\n",
       "      <th>2</th>\n",
       "      <td>2</td>\n",
       "      <td>8336</td>\n",
       "    </tr>\n",
       "    <tr>\n",
       "      <th>3</th>\n",
       "      <td>3</td>\n",
       "      <td>8355</td>\n",
       "    </tr>\n",
       "    <tr>\n",
       "      <th>4</th>\n",
       "      <td>4</td>\n",
       "      <td>8147</td>\n",
       "    </tr>\n",
       "    <tr>\n",
       "      <th>5</th>\n",
       "      <td>5</td>\n",
       "      <td>8178</td>\n",
       "    </tr>\n",
       "    <tr>\n",
       "      <th>6</th>\n",
       "      <td>6</td>\n",
       "      <td>8054</td>\n",
       "    </tr>\n",
       "    <tr>\n",
       "      <th>7</th>\n",
       "      <td>7</td>\n",
       "      <td>8091</td>\n",
       "    </tr>\n",
       "    <tr>\n",
       "      <th>8</th>\n",
       "      <td>8</td>\n",
       "      <td>8253</td>\n",
       "    </tr>\n",
       "    <tr>\n",
       "      <th>9</th>\n",
       "      <td>9</td>\n",
       "      <td>8498</td>\n",
       "    </tr>\n",
       "    <tr>\n",
       "      <th>10</th>\n",
       "      <td>10</td>\n",
       "      <td>8882</td>\n",
       "    </tr>\n",
       "    <tr>\n",
       "      <th>11</th>\n",
       "      <td>11</td>\n",
       "      <td>8830</td>\n",
       "    </tr>\n",
       "    <tr>\n",
       "      <th>12</th>\n",
       "      <td>12</td>\n",
       "      <td>9326</td>\n",
       "    </tr>\n",
       "    <tr>\n",
       "      <th>13</th>\n",
       "      <td>13</td>\n",
       "      <td>9644</td>\n",
       "    </tr>\n",
       "    <tr>\n",
       "      <th>14</th>\n",
       "      <td>14</td>\n",
       "      <td>10494</td>\n",
       "    </tr>\n",
       "    <tr>\n",
       "      <th>15</th>\n",
       "      <td>15</td>\n",
       "      <td>11354</td>\n",
       "    </tr>\n",
       "    <tr>\n",
       "      <th>16</th>\n",
       "      <td>16</td>\n",
       "      <td>11636</td>\n",
       "    </tr>\n",
       "    <tr>\n",
       "      <th>17</th>\n",
       "      <td>17</td>\n",
       "      <td>11460</td>\n",
       "    </tr>\n",
       "    <tr>\n",
       "      <th>18</th>\n",
       "      <td>18</td>\n",
       "      <td>11124</td>\n",
       "    </tr>\n",
       "    <tr>\n",
       "      <th>19</th>\n",
       "      <td>19</td>\n",
       "      <td>10930</td>\n",
       "    </tr>\n",
       "    <tr>\n",
       "      <th>20</th>\n",
       "      <td>20</td>\n",
       "      <td>10856</td>\n",
       "    </tr>\n",
       "    <tr>\n",
       "      <th>21</th>\n",
       "      <td>21</td>\n",
       "      <td>10458</td>\n",
       "    </tr>\n",
       "    <tr>\n",
       "      <th>22</th>\n",
       "      <td>22</td>\n",
       "      <td>10122</td>\n",
       "    </tr>\n",
       "    <tr>\n",
       "      <th>23</th>\n",
       "      <td>23</td>\n",
       "      <td>9630</td>\n",
       "    </tr>\n",
       "  </tbody>\n",
       "</table>\n",
       "</div>"
      ],
      "text/plain": [
       "   hourofday  count\n",
       "0          0   9062\n",
       "1          1   8388\n",
       "2          2   8336\n",
       "3          3   8355\n",
       "4          4   8147\n",
       "5          5   8178\n",
       "6          6   8054\n",
       "7          7   8091\n",
       "8          8   8253\n",
       "9          9   8498\n",
       "10        10   8882\n",
       "11        11   8830\n",
       "12        12   9326\n",
       "13        13   9644\n",
       "14        14  10494\n",
       "15        15  11354\n",
       "16        16  11636\n",
       "17        17  11460\n",
       "18        18  11124\n",
       "19        19  10930\n",
       "20        20  10856\n",
       "21        21  10458\n",
       "22        22  10122\n",
       "23        23   9630"
      ]
     },
     "execution_count": 31,
     "metadata": {},
     "output_type": "execute_result"
    }
   ],
   "source": [
    "#converting to pandas for plotting\n",
    "songs_played_hour = songs_played_hour.toPandas()\n",
    "songs_played_hour"
   ]
  },
  {
   "cell_type": "code",
   "execution_count": 32,
   "metadata": {},
   "outputs": [
    {
     "data": {
      "image/png": "[encoded data removed]",
      "text/plain": [
       "<matplotlib.figure.Figure at 0x7fa3b18179e8>"
      ]
     },
     "metadata": {
      "needs_background": "light"
     },
     "output_type": "display_data"
    }
   ],
   "source": [
    "songs_played_hour.plot(kind = \"line\", figsize= (10,5))\n",
    "plt.xticks(np.arange(0,24,1))\n",
    "plt.xlabel(\"Hours of Day\")\n",
    "plt.ylabel(\"Number of Songs Played\")\n",
    "plt.title(\"Number of Songs Played per Hour\")\n",
    "plt.show()"
   ]
  },
  {
   "cell_type": "markdown",
   "metadata": {},
   "source": [
    "> This trend shows the count of songs played in different hours of the day. And it is maximum between 4 to 5 P.M."
   ]
  },
  {
   "cell_type": "markdown",
   "metadata": {},
   "source": [
    "<h4>EDA using Churned column </h4>"
   ]
  },
  {
   "cell_type": "markdown",
   "metadata": {},
   "source": [
    "**Average Length per session**"
   ]
  },
  {
   "cell_type": "code",
   "execution_count": 33,
   "metadata": {},
   "outputs": [
    {
     "name": "stdout",
     "output_type": "stream",
     "text": [
      "+-------+------------------+\n",
      "|churned|       avg(length)|\n",
      "+-------+------------------+\n",
      "|      1|248.63279564406366|\n",
      "|      0|249.20913538881427|\n",
      "+-------+------------------+\n",
      "\n"
     ]
    }
   ],
   "source": [
    "valid_events_withchurn.groupBy('churned').avg('length').show()"
   ]
  },
  {
   "cell_type": "markdown",
   "metadata": {},
   "source": [
    "> We can not see much difference between average length of sessions for both set of users."
   ]
  },
  {
   "cell_type": "markdown",
   "metadata": {},
   "source": [
    "**Churned by Gender**"
   ]
  },
  {
   "cell_type": "code",
   "execution_count": 34,
   "metadata": {},
   "outputs": [
    {
     "name": "stdout",
     "output_type": "stream",
     "text": [
      "+-------+------+-----+\n",
      "|churned|gender|count|\n",
      "+-------+------+-----+\n",
      "|      0|     M|   89|\n",
      "|      0|     F|   84|\n",
      "|      1|     F|   20|\n",
      "|      1|     M|   32|\n",
      "+-------+------+-----+\n",
      "\n"
     ]
    }
   ],
   "source": [
    "valid_events_withchurn.select(['userId', 'gender', 'churned']).distinct().groupBy(['churned','gender']).count().sort('churned').show()"
   ]
  },
  {
   "cell_type": "code",
   "execution_count": 35,
   "metadata": {},
   "outputs": [],
   "source": [
    "#we can plot the above graph to see the results\n",
    "churned_gender = valid_events_withchurn.select(['userId', 'gender', 'churned']).distinct().groupBy(['churned','gender']).count().sort('churned').toPandas()"
   ]
  },
  {
   "cell_type": "code",
   "execution_count": 36,
   "metadata": {},
   "outputs": [
    {
     "data": {
      "image/png": "[encoded data removed]",
      "text/plain": [
       "<matplotlib.figure.Figure at 0x7fa3b076ecc0>"
      ]
     },
     "metadata": {},
     "output_type": "display_data"
    }
   ],
   "source": [
    "sns.set(style=\"ticks\", color_codes=True)\n",
    "sns.barplot(x=\"gender\", y=\"count\", hue=\"churned\", data=churned_gender);"
   ]
  },
  {
   "cell_type": "markdown",
   "metadata": {},
   "source": [
    "**Checking the count of churned users per level**"
   ]
  },
  {
   "cell_type": "code",
   "execution_count": 37,
   "metadata": {},
   "outputs": [
    {
     "name": "stdout",
     "output_type": "stream",
     "text": [
      "+-----+\n",
      "|level|\n",
      "+-----+\n",
      "| free|\n",
      "| paid|\n",
      "+-----+\n",
      "\n"
     ]
    }
   ],
   "source": [
    "#we know there are 2 distinct levels for users\n",
    "valid_events_withchurn.select('level').distinct().show()"
   ]
  },
  {
   "cell_type": "code",
   "execution_count": 38,
   "metadata": {},
   "outputs": [
    {
     "name": "stdout",
     "output_type": "stream",
     "text": [
      "+-------+-----+-----+\n",
      "|churned|level|count|\n",
      "+-------+-----+-----+\n",
      "|      0| free|  149|\n",
      "|      0| paid|  129|\n",
      "|      1| paid|   36|\n",
      "|      1| free|   46|\n",
      "+-------+-----+-----+\n",
      "\n"
     ]
    }
   ],
   "source": [
    "#checking the count for 2 different types\n",
    "valid_events_withchurn.select(['userId', 'level', 'churned']).distinct().groupBy(['churned','level']).count().sort('churned').show()"
   ]
  },
  {
   "cell_type": "code",
   "execution_count": 39,
   "metadata": {},
   "outputs": [],
   "source": [
    "#converting into a pandas dataframe\n",
    "churned_levels= valid_events_withchurn.select(['userId', 'level', 'churned']).distinct().groupBy(['churned','level']).count().sort('churned').toPandas()"
   ]
  },
  {
   "cell_type": "code",
   "execution_count": 40,
   "metadata": {},
   "outputs": [
    {
     "data": {
      "image/png": "[encoded data removed]",
      "text/plain": [
       "<matplotlib.figure.Figure at 0x7fa3b064ecc0>"
      ]
     },
     "metadata": {},
     "output_type": "display_data"
    }
   ],
   "source": [
    "#plotting with seaborn\n",
    "sns.set(style=\"ticks\", color_codes=True)\n",
    "sns.barplot(x=\"level\", y=\"count\", hue=\"churned\", data=churned_levels);"
   ]
  },
  {
   "cell_type": "markdown",
   "metadata": {},
   "source": [
    "**Session Activity**"
   ]
  },
  {
   "cell_type": "code",
   "execution_count": 41,
   "metadata": {},
   "outputs": [
    {
     "data": {
      "text/html": [
       "<div>\n",
       "<style scoped>\n",
       "    .dataframe tbody tr th:only-of-type {\n",
       "        vertical-align: middle;\n",
       "    }\n",
       "\n",
       "    .dataframe tbody tr th {\n",
       "        vertical-align: top;\n",
       "    }\n",
       "\n",
       "    .dataframe thead th {\n",
       "        text-align: right;\n",
       "    }\n",
       "</style>\n",
       "<table border=\"1\" class=\"dataframe\">\n",
       "  <thead>\n",
       "    <tr style=\"text-align: right;\">\n",
       "      <th></th>\n",
       "      <th>churned</th>\n",
       "      <th>count</th>\n",
       "    </tr>\n",
       "  </thead>\n",
       "  <tbody>\n",
       "    <tr>\n",
       "      <th>0</th>\n",
       "      <td>0</td>\n",
       "      <td>2639</td>\n",
       "    </tr>\n",
       "    <tr>\n",
       "      <th>1</th>\n",
       "      <td>1</td>\n",
       "      <td>537</td>\n",
       "    </tr>\n",
       "  </tbody>\n",
       "</table>\n",
       "</div>"
      ],
      "text/plain": [
       "   churned  count\n",
       "0        0   2639\n",
       "1        1    537"
      ]
     },
     "execution_count": 41,
     "metadata": {},
     "output_type": "execute_result"
    }
   ],
   "source": [
    "#converting into a pandas dataframe\n",
    "activity= valid_events_withchurn.select(['userId', 'sessionId', 'churned']).distinct().groupBy('churned').count().sort('churned').toPandas()\n",
    "activity"
   ]
  },
  {
   "cell_type": "code",
   "execution_count": 42,
   "metadata": {},
   "outputs": [
    {
     "data": {
      "image/png": "[encoded data removed]",
      "text/plain": [
       "<matplotlib.figure.Figure at 0x7fa3b067cba8>"
      ]
     },
     "metadata": {},
     "output_type": "display_data"
    }
   ],
   "source": [
    "activity.plot(kind=\"bar\", legend=False);\n",
    "plt.xlabel(\"Churned\")\n",
    "plt.ylabel(\"Number of Sessions\")\n",
    "plt.show()"
   ]
  },
  {
   "cell_type": "markdown",
   "metadata": {},
   "source": [
    "**Number of songs played**"
   ]
  },
  {
   "cell_type": "code",
   "execution_count": 43,
   "metadata": {},
   "outputs": [
    {
     "name": "stdout",
     "output_type": "stream",
     "text": [
      "+-------+-----+\n",
      "|churned|count|\n",
      "+-------+-----+\n",
      "|      1|   52|\n",
      "|      0|  173|\n",
      "+-------+-----+\n",
      "\n"
     ]
    }
   ],
   "source": [
    "valid_events_withchurn.where('page=\"NextSong\"').select(['userId', 'churned']).distinct().groupBy('churned').count().show()"
   ]
  },
  {
   "cell_type": "markdown",
   "metadata": {},
   "source": [
    ">We explored many interesting data trends in the above section, and looked at the relationship between churned and active users. Now, in order to build our churn prediction model, we need to define certain features for our dataset, which we would\n",
    "be doing next."
   ]
  },
  {
   "cell_type": "markdown",
   "metadata": {},
   "source": [
    "# Feature Engineering\n",
    "Once you've familiarized yourself with the data, build out the features you find promising to train your model on. To work with the full dataset, you can follow the following steps.\n",
    "- Write a script to extract the necessary features from the smaller subset of data\n",
    "- Ensure that your script is scalable, using the best practices discussed in Lesson 3\n",
    "- Try your script on the full data set, debugging your script if necessary\n",
    "\n",
    "If you are working in the classroom workspace, you can just extract features based on the small subset of data contained here. Be sure to transfer over this work to the larger dataset when you work on your Spark cluster."
   ]
  },
  {
   "cell_type": "markdown",
   "metadata": {},
   "source": [
    "**Total number of songs played**"
   ]
  },
  {
   "cell_type": "code",
   "execution_count": 44,
   "metadata": {},
   "outputs": [
    {
     "name": "stdout",
     "output_type": "stream",
     "text": [
      "+------+------------------+\n",
      "|userId|total_songs_played|\n",
      "+------+------------------+\n",
      "|100010|               275|\n",
      "|200002|               387|\n",
      "|   125|                 8|\n",
      "|    51|              2111|\n",
      "|   124|              4079|\n",
      "|     7|               150|\n",
      "|    54|              2841|\n",
      "|    15|              1914|\n",
      "|   155|               820|\n",
      "|   132|              1928|\n",
      "|   154|                84|\n",
      "|100014|               257|\n",
      "|   101|              1797|\n",
      "|    11|               647|\n",
      "|   138|              2070|\n",
      "|300017|              3632|\n",
      "|    29|              3028|\n",
      "|    69|              1125|\n",
      "|100021|               230|\n",
      "|    42|              3573|\n",
      "+------+------------------+\n",
      "only showing top 20 rows\n",
      "\n"
     ]
    }
   ],
   "source": [
    "total_songs_played = valid_events_withchurn.filter(\"page == 'NextSong'\").groupBy(\"userId\").count()\n",
    "total_songs_played = total_songs_played.withColumnRenamed('count', 'total_songs_played')\n",
    "total_songs_played.show()"
   ]
  },
  {
   "cell_type": "markdown",
   "metadata": {},
   "source": [
    "**Total number of days in the system**"
   ]
  },
  {
   "cell_type": "code",
   "execution_count": 45,
   "metadata": {},
   "outputs": [
    {
     "name": "stdout",
     "output_type": "stream",
     "text": [
      "+------+-------------------+-------------------+\n",
      "|userID|           min_date|           max_date|\n",
      "+------+-------------------+-------------------+\n",
      "|100010|2018-10-08 12:58:54|2018-11-21 18:12:32|\n",
      "|200002|2018-10-01 11:30:30|2018-11-15 23:25:54|\n",
      "|   125|2018-10-12 04:05:44|2018-10-12 04:35:18|\n",
      "|   124|2018-10-01 15:17:10|2018-11-30 15:12:46|\n",
      "|    51|2018-10-01 12:57:12|2018-10-17 07:39:32|\n",
      "|     7|2018-10-03 11:57:49|2018-11-23 06:46:51|\n",
      "|    15|2018-10-01 10:23:35|2018-11-25 04:56:58|\n",
      "|    54|2018-10-01 00:32:10|2018-11-12 19:40:08|\n",
      "|   155|2018-11-02 15:56:25|2018-11-28 11:48:30|\n",
      "|100014|2018-10-10 13:12:16|2018-11-20 19:04:09|\n",
      "|   132|2018-10-02 08:59:56|2018-11-21 20:56:12|\n",
      "|   154|2018-11-02 15:15:35|2018-11-27 14:56:05|\n",
      "|   101|2018-10-01 01:50:05|2018-10-16 22:30:37|\n",
      "|    11|2018-10-05 03:20:29|2018-11-27 09:08:22|\n",
      "|   138|2018-10-05 22:08:54|2018-11-30 23:59:25|\n",
      "|300017|2018-10-01 13:14:06|2018-11-29 15:58:07|\n",
      "|100021|2018-10-11 00:04:35|2018-11-25 11:03:02|\n",
      "|    29|2018-10-01 23:55:03|2018-11-14 07:37:11|\n",
      "|    69|2018-10-03 18:06:39|2018-11-23 17:47:11|\n",
      "|   112|2018-10-04 17:45:33|2018-11-30 14:50:52|\n",
      "+------+-------------------+-------------------+\n",
      "only showing top 20 rows\n",
      "\n"
     ]
    }
   ],
   "source": [
    "#First calculated the min_date and max_date for an user in the system\n",
    "date_user = valid_events_withchurn.select(['userId','datetime']).groupBy('userID').agg(\n",
    "    min(col(\"datetime\")).alias(\"min_date\"), max(col(\"datetime\")).alias(\"max_date\") )\n",
    "date_user.show()"
   ]
  },
  {
   "cell_type": "code",
   "execution_count": 46,
   "metadata": {},
   "outputs": [
    {
     "name": "stdout",
     "output_type": "stream",
     "text": [
      "+------+-------------------+-------------------+--------------------+\n",
      "|userID|           min_date|           max_date|total_number_of_days|\n",
      "+------+-------------------+-------------------+--------------------+\n",
      "|300011|2018-10-01 21:48:13|2018-12-01 00:00:11|                  61|\n",
      "|     9|2018-10-01 00:03:00|2018-11-30 14:19:12|                  60|\n",
      "|200023|2018-10-01 11:37:50|2018-11-30 22:35:49|                  60|\n",
      "|    81|2018-10-01 16:41:46|2018-11-30 23:56:13|                  60|\n",
      "|    93|2018-10-01 15:48:39|2018-11-30 23:43:25|                  60|\n",
      "|    38|2018-10-01 20:18:36|2018-11-30 19:33:21|                  60|\n",
      "|   140|2018-10-01 15:02:07|2018-11-30 19:33:12|                  60|\n",
      "|    92|2018-10-01 12:41:10|2018-11-30 23:34:25|                  60|\n",
      "|300015|2018-10-01 19:17:53|2018-11-30 16:53:06|                  60|\n",
      "|   120|2018-10-01 11:29:39|2018-11-30 01:08:23|                  60|\n",
      "|    95|2018-10-01 04:21:42|2018-11-30 15:27:24|                  60|\n",
      "|    30|2018-10-01 00:01:57|2018-11-30 23:58:40|                  60|\n",
      "|   113|2018-10-01 17:03:27|2018-11-30 16:08:27|                  60|\n",
      "|    42|2018-10-01 18:36:22|2018-11-30 20:43:27|                  60|\n",
      "|   126|2018-10-01 09:43:24|2018-11-30 15:41:16|                  60|\n",
      "|    78|2018-10-01 01:59:41|2018-11-30 00:54:45|                  60|\n",
      "|   131|2018-10-01 08:59:15|2018-11-30 03:21:23|                  60|\n",
      "|    98|2018-10-01 17:05:13|2018-11-30 03:23:49|                  60|\n",
      "|   146|2018-10-01 10:00:15|2018-11-30 18:49:40|                  60|\n",
      "|   124|2018-10-01 15:17:10|2018-11-30 15:12:46|                  60|\n",
      "+------+-------------------+-------------------+--------------------+\n",
      "only showing top 20 rows\n",
      "\n"
     ]
    }
   ],
   "source": [
    "#Then calculated the date difference between the two dates in Day's\n",
    "date_user = date_user.withColumn(\"total_number_of_days\", F.datediff(col(\"max_date\"), col(\"min_date\")))\n",
    "date_user.sort(\"total_number_of_days\", ascending=False).show()"
   ]
  },
  {
   "cell_type": "code",
   "execution_count": 47,
   "metadata": {
    "scrolled": true
   },
   "outputs": [
    {
     "name": "stdout",
     "output_type": "stream",
     "text": [
      "+------+------------------+--------------------+\n",
      "|userId|total_songs_played|total_number_of_days|\n",
      "+------+------------------+--------------------+\n",
      "|100010|               275|                  44|\n",
      "|200002|               387|                  45|\n",
      "|   125|                 8|                   0|\n",
      "|    51|              2111|                  16|\n",
      "|   124|              4079|                  60|\n",
      "|     7|               150|                  51|\n",
      "|    54|              2841|                  42|\n",
      "|    15|              1914|                  55|\n",
      "|   155|               820|                  26|\n",
      "|   132|              1928|                  50|\n",
      "|   154|                84|                  25|\n",
      "|100014|               257|                  41|\n",
      "|   101|              1797|                  15|\n",
      "|    11|               647|                  53|\n",
      "|   138|              2070|                  56|\n",
      "|300017|              3632|                  59|\n",
      "|    29|              3028|                  44|\n",
      "|    69|              1125|                  51|\n",
      "|100021|               230|                  45|\n",
      "|    42|              3573|                  60|\n",
      "+------+------------------+--------------------+\n",
      "only showing top 20 rows\n",
      "\n"
     ]
    }
   ],
   "source": [
    "#Joing the two features together to build our final features dataframe\n",
    "features = total_songs_played.join(date_user.select(['userId','total_number_of_days']),on = 'userId', how = 'inner')\n",
    "features.show()"
   ]
  },
  {
   "cell_type": "markdown",
   "metadata": {},
   "source": [
    "**Average Session length**"
   ]
  },
  {
   "cell_type": "code",
   "execution_count": 48,
   "metadata": {},
   "outputs": [
    {
     "name": "stdout",
     "output_type": "stream",
     "text": [
      "+------+------------------+\n",
      "|userId|avg_session_length|\n",
      "+------+------------------+\n",
      "|100010|243.28376220149258|\n",
      "|200002| 243.8535182037533|\n",
      "|   125|261.13913750000006|\n",
      "|   124| 250.7709492796006|\n",
      "|    51|247.92487476446036|\n",
      "|     7| 251.1926630405405|\n",
      "|    15|251.10429575776783|\n",
      "|    54|  251.978400607917|\n",
      "|   155|240.49622712737127|\n",
      "|   132|251.74449363344056|\n",
      "|100014| 261.8860570661157|\n",
      "|   154|247.27114390243895|\n",
      "|   101|248.88575961643838|\n",
      "|    11| 246.2084100000001|\n",
      "|   138|249.05871161486903|\n",
      "|300017| 249.7192652406623|\n",
      "|    29|251.21818720248686|\n",
      "|    69|253.56698054192233|\n",
      "|100021|250.64712642857143|\n",
      "|    42|248.87731689601864|\n",
      "+------+------------------+\n",
      "only showing top 20 rows\n",
      "\n"
     ]
    }
   ],
   "source": [
    "avg_session_length_df = valid_events_withchurn.select(['userId', 'length']).distinct().groupBy(\"userId\") \\\n",
    ".agg(avg(\"length\").alias(\"avg_session_length\"))\n",
    "avg_session_length_df.show()"
   ]
  },
  {
   "cell_type": "code",
   "execution_count": 49,
   "metadata": {},
   "outputs": [
    {
     "name": "stdout",
     "output_type": "stream",
     "text": [
      "+------+------------------+--------------------+------------------+\n",
      "|userId|total_songs_played|total_number_of_days|avg_session_length|\n",
      "+------+------------------+--------------------+------------------+\n",
      "|100010|               275|                  44|243.28376220149258|\n",
      "|200002|               387|                  45| 243.8535182037533|\n",
      "|   125|                 8|                   0|261.13913750000006|\n",
      "|   124|              4079|                  60| 250.7709492796006|\n",
      "|    51|              2111|                  16|247.92487476446036|\n",
      "|     7|               150|                  51| 251.1926630405405|\n",
      "|    15|              1914|                  55|251.10429575776783|\n",
      "|    54|              2841|                  42|  251.978400607917|\n",
      "|   155|               820|                  26|240.49622712737127|\n",
      "|100014|               257|                  41| 261.8860570661157|\n",
      "|   132|              1928|                  50|251.74449363344056|\n",
      "|   154|                84|                  25|247.27114390243895|\n",
      "|   101|              1797|                  15|248.88575961643838|\n",
      "|    11|               647|                  53| 246.2084100000001|\n",
      "|   138|              2070|                  56|249.05871161486903|\n",
      "|300017|              3632|                  59| 249.7192652406623|\n",
      "|100021|               230|                  45|250.64712642857143|\n",
      "|    29|              3028|                  44|251.21818720248686|\n",
      "|    69|              1125|                  51|253.56698054192233|\n",
      "|   112|               215|                  57|248.54336257281554|\n",
      "+------+------------------+--------------------+------------------+\n",
      "only showing top 20 rows\n",
      "\n"
     ]
    }
   ],
   "source": [
    "#joining with features dataset\n",
    "features = features.join(avg_session_length_df.select(['userId','avg_session_length']),on = 'userId', how = 'inner')\n",
    "features.show()"
   ]
  },
  {
   "cell_type": "markdown",
   "metadata": {},
   "source": [
    "**Average number of songs per session**"
   ]
  },
  {
   "cell_type": "code",
   "execution_count": 50,
   "metadata": {},
   "outputs": [],
   "source": [
    "user_session_songs = valid_events_withchurn.where(valid_events_withchurn.page==\"NextSong\").groupby(\"userId\", \"sessionId\").count()\n",
    "avg_session_songs_user_df = user_session_songs.groupby(\"userId\").agg(avg(user_session_songs[\"count\"]).alias(\"avg_session_songs_user\"))"
   ]
  },
  {
   "cell_type": "code",
   "execution_count": 51,
   "metadata": {},
   "outputs": [
    {
     "name": "stdout",
     "output_type": "stream",
     "text": [
      "+------+----------------------+\n",
      "|userId|avg_session_songs_user|\n",
      "+------+----------------------+\n",
      "|100010|    39.285714285714285|\n",
      "|200002|                  64.5|\n",
      "|   125|                   8.0|\n",
      "|    51|                 211.1|\n",
      "|   124|    145.67857142857142|\n",
      "|     7|    21.428571428571427|\n",
      "|    54|     81.17142857142858|\n",
      "|    15|    136.71428571428572|\n",
      "|   155|    136.66666666666666|\n",
      "|100014|    42.833333333333336|\n",
      "|   132|                 120.5|\n",
      "|   154|                  28.0|\n",
      "|   101|                 179.7|\n",
      "|    11|               40.4375|\n",
      "|300017|    59.540983606557376|\n",
      "|   138|                 138.0|\n",
      "|    29|     89.05882352941177|\n",
      "|    69|                 125.0|\n",
      "|100021|                  46.0|\n",
      "|    42|     87.14634146341463|\n",
      "+------+----------------------+\n",
      "only showing top 20 rows\n",
      "\n"
     ]
    }
   ],
   "source": [
    "avg_session_songs_user_df.show()"
   ]
  },
  {
   "cell_type": "code",
   "execution_count": 52,
   "metadata": {},
   "outputs": [
    {
     "name": "stdout",
     "output_type": "stream",
     "text": [
      "+------+------------------+--------------------+------------------+----------------------+\n",
      "|userId|total_songs_played|total_number_of_days|avg_session_length|avg_session_songs_user|\n",
      "+------+------------------+--------------------+------------------+----------------------+\n",
      "|100010|               275|                  44|243.28376220149258|    39.285714285714285|\n",
      "|200002|               387|                  45| 243.8535182037533|                  64.5|\n",
      "|   125|                 8|                   0|261.13913750000006|                   8.0|\n",
      "|   124|              4079|                  60| 250.7709492796006|    145.67857142857142|\n",
      "|    51|              2111|                  16|247.92487476446036|                 211.1|\n",
      "|     7|               150|                  51| 251.1926630405405|    21.428571428571427|\n",
      "|    15|              1914|                  55|251.10429575776783|    136.71428571428572|\n",
      "|    54|              2841|                  42|  251.978400607917|     81.17142857142858|\n",
      "|   155|               820|                  26|240.49622712737127|    136.66666666666666|\n",
      "|100014|               257|                  41| 261.8860570661157|    42.833333333333336|\n",
      "|   132|              1928|                  50|251.74449363344056|                 120.5|\n",
      "|   154|                84|                  25|247.27114390243895|                  28.0|\n",
      "|   101|              1797|                  15|248.88575961643838|                 179.7|\n",
      "|    11|               647|                  53| 246.2084100000001|               40.4375|\n",
      "|   138|              2070|                  56|249.05871161486903|                 138.0|\n",
      "|300017|              3632|                  59| 249.7192652406623|    59.540983606557376|\n",
      "|100021|               230|                  45|250.64712642857143|                  46.0|\n",
      "|    29|              3028|                  44|251.21818720248686|     89.05882352941177|\n",
      "|    69|              1125|                  51|253.56698054192233|                 125.0|\n",
      "|   112|               215|                  57|248.54336257281554|     23.88888888888889|\n",
      "+------+------------------+--------------------+------------------+----------------------+\n",
      "only showing top 20 rows\n",
      "\n"
     ]
    }
   ],
   "source": [
    "#joining with features dataset\n",
    "features = features.join(avg_session_songs_user_df.select(['userId','avg_session_songs_user']),on = 'userId', how = 'inner')\n",
    "features.show()"
   ]
  },
  {
   "cell_type": "markdown",
   "metadata": {},
   "source": [
    "**Number of Thumbs up and Number of Thumbs down**"
   ]
  },
  {
   "cell_type": "code",
   "execution_count": 53,
   "metadata": {},
   "outputs": [
    {
     "name": "stdout",
     "output_type": "stream",
     "text": [
      "+------+---------------------+------------------------+\n",
      "|userId|total_number_of_likes|total_number_of_dislikes|\n",
      "+------+---------------------+------------------------+\n",
      "|100010|                   17|                       5|\n",
      "|200002|                   21|                       6|\n",
      "|   124|                  171|                      41|\n",
      "|    51|                  100|                      21|\n",
      "|     7|                    7|                       1|\n",
      "|    15|                   81|                      14|\n",
      "|    54|                  163|                      29|\n",
      "|   155|                   58|                       3|\n",
      "|100014|                   17|                       3|\n",
      "|   132|                   96|                      17|\n",
      "|   101|                   86|                      16|\n",
      "|    11|                   40|                       9|\n",
      "|   138|                   95|                      24|\n",
      "|300017|                  303|                      28|\n",
      "|100021|                   11|                       5|\n",
      "|    29|                  154|                      22|\n",
      "|    69|                   72|                       9|\n",
      "|   112|                    9|                       3|\n",
      "|    42|                  166|                      25|\n",
      "|    73|                   14|                       7|\n",
      "+------+---------------------+------------------------+\n",
      "only showing top 20 rows\n",
      "\n"
     ]
    }
   ],
   "source": [
    "like_activity_df = valid_events_withchurn.where(valid_events_withchurn.page==\"Thumbs Up\").groupby(\"userId\").count()\n",
    "like_activity_df = like_activity_df.withColumnRenamed('count', 'total_number_of_likes')\n",
    "dislike_activity_df = valid_events_withchurn.where(valid_events_withchurn.page==\"Thumbs Down\").groupby(\"userId\").count()\n",
    "dislike_activity_df = dislike_activity_df.withColumnRenamed('count', 'total_number_of_dislikes')\n",
    "activities = like_activity_df.join(dislike_activity_df, on ='userId', how = 'inner')\n",
    "activities.show()"
   ]
  },
  {
   "cell_type": "code",
   "execution_count": 54,
   "metadata": {},
   "outputs": [
    {
     "name": "stdout",
     "output_type": "stream",
     "text": [
      "+------+------------------+--------------------+------------------+----------------------+---------------------+------------------------+\n",
      "|userId|total_songs_played|total_number_of_days|avg_session_length|avg_session_songs_user|total_number_of_likes|total_number_of_dislikes|\n",
      "+------+------------------+--------------------+------------------+----------------------+---------------------+------------------------+\n",
      "|100010|               275|                  44|243.28376220149258|    39.285714285714285|                   17|                       5|\n",
      "|200002|               387|                  45| 243.8535182037533|                  64.5|                   21|                       6|\n",
      "|   124|              4079|                  60| 250.7709492796006|    145.67857142857142|                  171|                      41|\n",
      "|    51|              2111|                  16|247.92487476446036|                 211.1|                  100|                      21|\n",
      "|     7|               150|                  51| 251.1926630405405|    21.428571428571427|                    7|                       1|\n",
      "|    15|              1914|                  55|251.10429575776783|    136.71428571428572|                   81|                      14|\n",
      "|    54|              2841|                  42|  251.978400607917|     81.17142857142858|                  163|                      29|\n",
      "|   155|               820|                  26|240.49622712737127|    136.66666666666666|                   58|                       3|\n",
      "|100014|               257|                  41| 261.8860570661157|    42.833333333333336|                   17|                       3|\n",
      "|   132|              1928|                  50|251.74449363344056|                 120.5|                   96|                      17|\n",
      "|   101|              1797|                  15|248.88575961643838|                 179.7|                   86|                      16|\n",
      "|    11|               647|                  53| 246.2084100000001|               40.4375|                   40|                       9|\n",
      "|   138|              2070|                  56|249.05871161486903|                 138.0|                   95|                      24|\n",
      "|300017|              3632|                  59| 249.7192652406623|    59.540983606557376|                  303|                      28|\n",
      "|100021|               230|                  45|250.64712642857143|                  46.0|                   11|                       5|\n",
      "|    29|              3028|                  44|251.21818720248686|     89.05882352941177|                  154|                      22|\n",
      "|    69|              1125|                  51|253.56698054192233|                 125.0|                   72|                       9|\n",
      "|   112|               215|                  57|248.54336257281554|     23.88888888888889|                    9|                       3|\n",
      "|    42|              3573|                  60|248.87731689601864|     87.14634146341463|                  166|                      25|\n",
      "|    73|               377|                  21|251.70702643258429|    62.833333333333336|                   14|                       7|\n",
      "+------+------------------+--------------------+------------------+----------------------+---------------------+------------------------+\n",
      "only showing top 20 rows\n",
      "\n"
     ]
    }
   ],
   "source": [
    "#joining with features dataset\n",
    "features = features.join(activities.select(['userId', 'total_number_of_likes', 'total_number_of_dislikes']), on ='userId', how='inner')\n",
    "features.show()"
   ]
  },
  {
   "cell_type": "markdown",
   "metadata": {},
   "source": [
    "**Added to playlist**"
   ]
  },
  {
   "cell_type": "code",
   "execution_count": 55,
   "metadata": {},
   "outputs": [
    {
     "name": "stdout",
     "output_type": "stream",
     "text": [
      "+------+-----------------------------+\n",
      "|userId|total_songs_added_to_playlist|\n",
      "+------+-----------------------------+\n",
      "|100010|                            7|\n",
      "|200002|                            8|\n",
      "|    51|                           52|\n",
      "|   124|                          118|\n",
      "|     7|                            5|\n",
      "|    15|                           59|\n",
      "|    54|                           72|\n",
      "|   155|                           24|\n",
      "|   132|                           38|\n",
      "|   154|                            1|\n",
      "|100014|                            7|\n",
      "|   101|                           61|\n",
      "|    11|                           20|\n",
      "|   138|                           67|\n",
      "|300017|                          113|\n",
      "|    29|                           89|\n",
      "|    69|                           33|\n",
      "|100021|                            7|\n",
      "|    42|                          104|\n",
      "|   112|                            7|\n",
      "+------+-----------------------------+\n",
      "only showing top 20 rows\n",
      "\n"
     ]
    }
   ],
   "source": [
    "added_to_playlist_df = valid_events_withchurn.where(valid_events_withchurn.page==\"Add to Playlist\").groupby(\"userId\").count()\n",
    "added_to_playlist_df = added_to_playlist_df.withColumnRenamed('count', 'total_songs_added_to_playlist')\n",
    "added_to_playlist_df.show()"
   ]
  },
  {
   "cell_type": "code",
   "execution_count": 56,
   "metadata": {},
   "outputs": [
    {
     "name": "stdout",
     "output_type": "stream",
     "text": [
      "+------+------------------+--------------------+------------------+----------------------+---------------------+------------------------+-----------------------------+\n",
      "|userId|total_songs_played|total_number_of_days|avg_session_length|avg_session_songs_user|total_number_of_likes|total_number_of_dislikes|total_songs_added_to_playlist|\n",
      "+------+------------------+--------------------+------------------+----------------------+---------------------+------------------------+-----------------------------+\n",
      "|100010|               275|                  44|243.28376220149258|    39.285714285714285|                   17|                       5|                            7|\n",
      "|200002|               387|                  45| 243.8535182037533|                  64.5|                   21|                       6|                            8|\n",
      "|   124|              4079|                  60| 250.7709492796006|    145.67857142857142|                  171|                      41|                          118|\n",
      "|    51|              2111|                  16|247.92487476446036|                 211.1|                  100|                      21|                           52|\n",
      "|     7|               150|                  51| 251.1926630405405|    21.428571428571427|                    7|                       1|                            5|\n",
      "|    15|              1914|                  55|251.10429575776783|    136.71428571428572|                   81|                      14|                           59|\n",
      "|    54|              2841|                  42|  251.978400607917|     81.17142857142858|                  163|                      29|                           72|\n",
      "|   155|               820|                  26|240.49622712737127|    136.66666666666666|                   58|                       3|                           24|\n",
      "|100014|               257|                  41| 261.8860570661157|    42.833333333333336|                   17|                       3|                            7|\n",
      "|   132|              1928|                  50|251.74449363344056|                 120.5|                   96|                      17|                           38|\n",
      "|   101|              1797|                  15|248.88575961643838|                 179.7|                   86|                      16|                           61|\n",
      "|    11|               647|                  53| 246.2084100000001|               40.4375|                   40|                       9|                           20|\n",
      "|   138|              2070|                  56|249.05871161486903|                 138.0|                   95|                      24|                           67|\n",
      "|300017|              3632|                  59| 249.7192652406623|    59.540983606557376|                  303|                      28|                          113|\n",
      "|100021|               230|                  45|250.64712642857143|                  46.0|                   11|                       5|                            7|\n",
      "|    29|              3028|                  44|251.21818720248686|     89.05882352941177|                  154|                      22|                           89|\n",
      "|    69|              1125|                  51|253.56698054192233|                 125.0|                   72|                       9|                           33|\n",
      "|   112|               215|                  57|248.54336257281554|     23.88888888888889|                    9|                       3|                            7|\n",
      "|    42|              3573|                  60|248.87731689601864|     87.14634146341463|                  166|                      25|                          104|\n",
      "|    73|               377|                  21|251.70702643258429|    62.833333333333336|                   14|                       7|                           11|\n",
      "+------+------------------+--------------------+------------------+----------------------+---------------------+------------------------+-----------------------------+\n",
      "only showing top 20 rows\n",
      "\n"
     ]
    }
   ],
   "source": [
    "#joining with features dataset\n",
    "features = features.join(added_to_playlist_df.select(['userId','total_songs_added_to_playlist']),on = 'userId', how = 'inner')\n",
    "features.show()"
   ]
  },
  {
   "cell_type": "code",
   "execution_count": 57,
   "metadata": {},
   "outputs": [
    {
     "name": "stdout",
     "output_type": "stream",
     "text": [
      "+------+-------+\n",
      "|userId|churned|\n",
      "+------+-------+\n",
      "|    19|      0|\n",
      "|100005|      1|\n",
      "|200007|      0|\n",
      "|300007|      1|\n",
      "|    50|      0|\n",
      "|200002|      0|\n",
      "|    30|      0|\n",
      "|     8|      0|\n",
      "|100011|      1|\n",
      "|100012|      1|\n",
      "|     4|      0|\n",
      "|    65|      0|\n",
      "|   101|      1|\n",
      "|    13|      0|\n",
      "|   153|      0|\n",
      "|    42|      0|\n",
      "|100014|      1|\n",
      "|    94|      0|\n",
      "|    62|      0|\n",
      "|   114|      0|\n",
      "+------+-------+\n",
      "only showing top 20 rows\n",
      "\n"
     ]
    }
   ],
   "source": [
    "#we will add the churned label to the features now\n",
    "df_churned = valid_events_withchurn.select(['userId', 'churned']).distinct()\n",
    "df_churned.show()"
   ]
  },
  {
   "cell_type": "code",
   "execution_count": 58,
   "metadata": {},
   "outputs": [
    {
     "name": "stdout",
     "output_type": "stream",
     "text": [
      "+------+------------------+--------------------+------------------+----------------------+---------------------+------------------------+-----------------------------+-------+\n",
      "|userId|total_songs_played|total_number_of_days|avg_session_length|avg_session_songs_user|total_number_of_likes|total_number_of_dislikes|total_songs_added_to_playlist|churned|\n",
      "+------+------------------+--------------------+------------------+----------------------+---------------------+------------------------+-----------------------------+-------+\n",
      "|100010|               275|                  44|243.28376220149258|    39.285714285714285|                   17|                       5|                            7|      0|\n",
      "|200002|               387|                  45| 243.8535182037533|                  64.5|                   21|                       6|                            8|      0|\n",
      "|   124|              4079|                  60| 250.7709492796006|    145.67857142857142|                  171|                      41|                          118|      0|\n",
      "|    51|              2111|                  16|247.92487476446036|                 211.1|                  100|                      21|                           52|      1|\n",
      "|     7|               150|                  51| 251.1926630405405|    21.428571428571427|                    7|                       1|                            5|      0|\n",
      "|    15|              1914|                  55|251.10429575776783|    136.71428571428572|                   81|                      14|                           59|      0|\n",
      "|    54|              2841|                  42|  251.978400607917|     81.17142857142858|                  163|                      29|                           72|      1|\n",
      "|   155|               820|                  26|240.49622712737127|    136.66666666666666|                   58|                       3|                           24|      0|\n",
      "|100014|               257|                  41| 261.8860570661157|    42.833333333333336|                   17|                       3|                            7|      1|\n",
      "|   132|              1928|                  50|251.74449363344056|                 120.5|                   96|                      17|                           38|      0|\n",
      "|   101|              1797|                  15|248.88575961643838|                 179.7|                   86|                      16|                           61|      1|\n",
      "|    11|               647|                  53| 246.2084100000001|               40.4375|                   40|                       9|                           20|      0|\n",
      "|   138|              2070|                  56|249.05871161486903|                 138.0|                   95|                      24|                           67|      0|\n",
      "|300017|              3632|                  59| 249.7192652406623|    59.540983606557376|                  303|                      28|                          113|      0|\n",
      "|100021|               230|                  45|250.64712642857143|                  46.0|                   11|                       5|                            7|      1|\n",
      "|    29|              3028|                  44|251.21818720248686|     89.05882352941177|                  154|                      22|                           89|      1|\n",
      "|    69|              1125|                  51|253.56698054192233|                 125.0|                   72|                       9|                           33|      0|\n",
      "|   112|               215|                  57|248.54336257281554|     23.88888888888889|                    9|                       3|                            7|      0|\n",
      "|    42|              3573|                  60|248.87731689601864|     87.14634146341463|                  166|                      25|                          104|      0|\n",
      "|    73|               377|                  21|251.70702643258429|    62.833333333333336|                   14|                       7|                           11|      1|\n",
      "+------+------------------+--------------------+------------------+----------------------+---------------------+------------------------+-----------------------------+-------+\n",
      "only showing top 20 rows\n",
      "\n"
     ]
    }
   ],
   "source": [
    "#adding with the features dataset\n",
    "features_with_label = features.join(df_churned, on ='userId', how ='inner')\n",
    "features_with_label.show()"
   ]
  },
  {
   "cell_type": "code",
   "execution_count": 59,
   "metadata": {},
   "outputs": [],
   "source": [
    "#In this case, our all current features are numeric, so we will convert \n",
    "#convert all our features to Float type. Following function will do that.\n",
    "\n",
    "def convertColumn(df, names, newType):\n",
    "    for name in names:\n",
    "        df = df.withColumn(name, df[name].cast(newType))\n",
    "    return df \n",
    "\n",
    "# Assign all column names to `columns`\n",
    "columns = features_with_label.columns[1:]\n",
    "\n",
    "# Conver the `df` columns to `FloatType()`\n",
    "features_with_label = convertColumn(features_with_label, columns, FloatType())"
   ]
  },
  {
   "cell_type": "code",
   "execution_count": 60,
   "metadata": {},
   "outputs": [
    {
     "name": "stdout",
     "output_type": "stream",
     "text": [
      "+------+------------------+--------------------+------------------+----------------------+---------------------+------------------------+-----------------------------+-------+\n",
      "|userId|total_songs_played|total_number_of_days|avg_session_length|avg_session_songs_user|total_number_of_likes|total_number_of_dislikes|total_songs_added_to_playlist|churned|\n",
      "+------+------------------+--------------------+------------------+----------------------+---------------------+------------------------+-----------------------------+-------+\n",
      "|100010|             275.0|                44.0|         243.28377|             39.285713|                 17.0|                     5.0|                          7.0|    0.0|\n",
      "|200002|             387.0|                45.0|         243.85352|                  64.5|                 21.0|                     6.0|                          8.0|    0.0|\n",
      "|   124|            4079.0|                60.0|         250.77095|             145.67857|                171.0|                    41.0|                        118.0|    0.0|\n",
      "|    51|            2111.0|                16.0|         247.92488|                 211.1|                100.0|                    21.0|                         52.0|    1.0|\n",
      "|     7|             150.0|                51.0|         251.19266|             21.428572|                  7.0|                     1.0|                          5.0|    0.0|\n",
      "|    15|            1914.0|                55.0|          251.1043|             136.71428|                 81.0|                    14.0|                         59.0|    0.0|\n",
      "|    54|            2841.0|                42.0|          251.9784|             81.171425|                163.0|                    29.0|                         72.0|    1.0|\n",
      "|   155|             820.0|                26.0|         240.49623|             136.66667|                 58.0|                     3.0|                         24.0|    0.0|\n",
      "|100014|             257.0|                41.0|         261.88605|             42.833332|                 17.0|                     3.0|                          7.0|    1.0|\n",
      "|   132|            1928.0|                50.0|         251.74449|                 120.5|                 96.0|                    17.0|                         38.0|    0.0|\n",
      "|   101|            1797.0|                15.0|         248.88576|                 179.7|                 86.0|                    16.0|                         61.0|    1.0|\n",
      "|    11|             647.0|                53.0|          246.2084|               40.4375|                 40.0|                     9.0|                         20.0|    0.0|\n",
      "|   138|            2070.0|                56.0|         249.05872|                 138.0|                 95.0|                    24.0|                         67.0|    0.0|\n",
      "|300017|            3632.0|                59.0|         249.71927|             59.540985|                303.0|                    28.0|                        113.0|    0.0|\n",
      "|100021|             230.0|                45.0|         250.64713|                  46.0|                 11.0|                     5.0|                          7.0|    1.0|\n",
      "|    29|            3028.0|                44.0|         251.21819|              89.05882|                154.0|                    22.0|                         89.0|    1.0|\n",
      "|    69|            1125.0|                51.0|         253.56699|                 125.0|                 72.0|                     9.0|                         33.0|    0.0|\n",
      "|   112|             215.0|                57.0|         248.54337|              23.88889|                  9.0|                     3.0|                          7.0|    0.0|\n",
      "|    42|            3573.0|                60.0|         248.87732|              87.14634|                166.0|                    25.0|                        104.0|    0.0|\n",
      "|    73|             377.0|                21.0|         251.70703|             62.833332|                 14.0|                     7.0|                         11.0|    1.0|\n",
      "+------+------------------+--------------------+------------------+----------------------+---------------------+------------------------+-----------------------------+-------+\n",
      "only showing top 20 rows\n",
      "\n"
     ]
    }
   ],
   "source": [
    "features_with_label.show()"
   ]
  },
  {
   "cell_type": "code",
   "execution_count": 61,
   "metadata": {},
   "outputs": [
    {
     "name": "stdout",
     "output_type": "stream",
     "text": [
      "root\n",
      " |-- userId: string (nullable = true)\n",
      " |-- total_songs_played: float (nullable = false)\n",
      " |-- total_number_of_days: float (nullable = true)\n",
      " |-- avg_session_length: float (nullable = true)\n",
      " |-- avg_session_songs_user: float (nullable = true)\n",
      " |-- total_number_of_likes: float (nullable = false)\n",
      " |-- total_number_of_dislikes: float (nullable = false)\n",
      " |-- total_songs_added_to_playlist: float (nullable = false)\n",
      " |-- churned: float (nullable = false)\n",
      "\n"
     ]
    }
   ],
   "source": [
    "features_with_label.printSchema()"
   ]
  },
  {
   "cell_type": "markdown",
   "metadata": {},
   "source": [
    ">Let's see how the features are distributed in our data. This is really important to see the distribution in order to\n",
    "understand what kind of pre-processing needs to be done in our dataset, before feeding it into a machine learning model."
   ]
  },
  {
   "cell_type": "code",
   "execution_count": 62,
   "metadata": {},
   "outputs": [],
   "source": [
    "list_features = features_with_label.columns[1:]"
   ]
  },
  {
   "cell_type": "code",
   "execution_count": 63,
   "metadata": {},
   "outputs": [],
   "source": [
    "features_df = features_with_label.select(list_features).toPandas()"
   ]
  },
  {
   "cell_type": "code",
   "execution_count": 64,
   "metadata": {},
   "outputs": [],
   "source": [
    "def distribution(data, list_features):\n",
    "    \"\"\"\n",
    "    Visualization code for displaying distributions of features\n",
    "    \"\"\"\n",
    "    \n",
    "    # Create figure\n",
    "    fig = plt.figure(figsize = (12,16));\n",
    "\n",
    "    # Skewed feature plotting\n",
    "    for i, feature in enumerate(list_features):\n",
    "        ax = fig.add_subplot(4, 2, i+1)\n",
    "        ax.hist(data[feature], bins = 25, color = '#00A0A0')\n",
    "        ax.set_title(\"'%s' Feature Distribution\"%(feature), fontsize = 14)\n",
    "        ax.set_xlabel(\"Value\")\n",
    "        ax.set_ylabel(\"Number of Records\")\n",
    "\n",
    "    # Plot aesthetics\n",
    "    fig.suptitle(\"Distributions of Continuous  Data Features\", \\\n",
    "            fontsize = 16, y = 1.03)\n",
    "\n",
    "    fig.tight_layout()\n",
    "    fig.show()"
   ]
  },
  {
   "cell_type": "code",
   "execution_count": 65,
   "metadata": {},
   "outputs": [
    {
     "data": {
      "image/png": "[encoded data removed]",
      "text/plain": [
       "<matplotlib.figure.Figure at 0x7fa3b05a4dd8>"
      ]
     },
     "metadata": {},
     "output_type": "display_data"
    }
   ],
   "source": [
    "distribution(features_df, list_features)"
   ]
  },
  {
   "cell_type": "markdown",
   "metadata": {},
   "source": [
    "> We can nicely see all our distributions here. Many of them are distributed right skewed, wheres average length pe session follows a symmetrical distribution. We know the impact of having skewed data in our model. We will need to normalize the dataset in order to nullify the impact of larger values over smaller values.\n",
    "\n",
    ">Above, we have built our aggregated view of users containing several important features. Also, we have appended the churned label which will be our target variable. Now, that we are done with feature extraction, we will use this dataset for our\n",
    "machine leanring problem of predicting the churn."
   ]
  },
  {
   "cell_type": "markdown",
   "metadata": {},
   "source": [
    "# Modeling\n",
    "Split the full dataset into train, test, and validation sets. Test out several of the machine learning methods you learned. Evaluate the accuracy of the various models, tuning parameters as necessary. Determine your winning model based on test accuracy and report results on the validation set. Since the churned users are a fairly small subset, I suggest using F1 score as the metric to optimize."
   ]
  },
  {
   "cell_type": "markdown",
   "metadata": {},
   "source": [
    "> In Spark, we have two dominant machine learning module. Spark Mlib and Spark ML. Spark Mlib is extensively used as of now, but with future releases of Spark, Spark ML is slowly becoming the most powerful library."
   ]
  },
  {
   "cell_type": "code",
   "execution_count": 66,
   "metadata": {},
   "outputs": [],
   "source": [
    "#we will define our feature columns next\n",
    "features_col = [\"total_songs_played\", \"total_number_of_days\", \"avg_session_length\", \"avg_session_songs_user\", \"total_number_of_likes\", \\\n",
    "                \"total_number_of_dislikes\", \"total_songs_added_to_playlist\"]"
   ]
  },
  {
   "cell_type": "code",
   "execution_count": 67,
   "metadata": {},
   "outputs": [],
   "source": [
    "def feature_transform(data):\n",
    "    '''\n",
    "        This function will take the input data with continuous features, and first will apply VectorAssembler and then\n",
    "        will apply StandardScaler to normalize the data set. \n",
    "        Function will return the dataframe with new column added as scaledFeatures as a vector.\n",
    "    '''\n",
    "    #initializing the assembler and transforming the data\n",
    "    assembler = VectorAssembler(inputCols=features_col, outputCol=\"features_vector\")\n",
    "    \n",
    "    #VectorAssembler will assemble all our features into a vector, and we will pass\n",
    "    #that vector to our model for making prediction.\n",
    "    features_vectored = assembler.transform(features_with_label)\n",
    "    \n",
    "    #initializing the standardscaler and then transforming data and creating a new column, scaledFeatures\n",
    "    scaler = StandardScaler(inputCol=\"features_vector\", outputCol=\"scaledFeatures\",\n",
    "                        withStd=True, withMean=False)\n",
    "    scalerModel = scaler.fit(features_vectored)\n",
    "    df_scaled = scalerModel.transform(features_vectored)\n",
    "    print(\"Transformed dataframe\")\n",
    "    df_scaled.printSchema()\n",
    "    \n",
    "    return df_scaled\n",
    "    "
   ]
  },
  {
   "cell_type": "code",
   "execution_count": 68,
   "metadata": {},
   "outputs": [
    {
     "name": "stdout",
     "output_type": "stream",
     "text": [
      "Transformed dataframe\n",
      "root\n",
      " |-- userId: string (nullable = true)\n",
      " |-- total_songs_played: float (nullable = false)\n",
      " |-- total_number_of_days: float (nullable = true)\n",
      " |-- avg_session_length: float (nullable = true)\n",
      " |-- avg_session_songs_user: float (nullable = true)\n",
      " |-- total_number_of_likes: float (nullable = false)\n",
      " |-- total_number_of_dislikes: float (nullable = false)\n",
      " |-- total_songs_added_to_playlist: float (nullable = false)\n",
      " |-- churned: float (nullable = false)\n",
      " |-- features_vector: vector (nullable = true)\n",
      " |-- scaledFeatures: vector (nullable = true)\n",
      "\n"
     ]
    }
   ],
   "source": [
    "df_scaled = feature_transform(features_with_label)"
   ]
  },
  {
   "cell_type": "markdown",
   "metadata": {},
   "source": [
    ">We can see features_vector, scaledFeatures is added at the end, as a vector. Let's check some data ."
   ]
  },
  {
   "cell_type": "code",
   "execution_count": 69,
   "metadata": {},
   "outputs": [
    {
     "data": {
      "text/plain": [
       "[Row(userId='100010', total_songs_played=275.0, total_number_of_days=44.0, avg_session_length=243.2837677001953, avg_session_songs_user=39.28571319580078, total_number_of_likes=17.0, total_number_of_dislikes=5.0, total_songs_added_to_playlist=7.0, churned=0.0, features_vector=DenseVector([275.0, 44.0, 243.2838, 39.2857, 17.0, 5.0, 7.0]), scaledFeatures=DenseVector([0.2463, 2.5782, 45.1153, 0.9502, 0.2552, 0.3781, 0.211]))]"
      ]
     },
     "execution_count": 69,
     "metadata": {},
     "output_type": "execute_result"
    }
   ],
   "source": [
    "df_scaled.head(1)"
   ]
  },
  {
   "cell_type": "code",
   "execution_count": 70,
   "metadata": {},
   "outputs": [
    {
     "name": "stdout",
     "output_type": "stream",
     "text": [
      "+--------------------+--------------------+\n",
      "|     features_vector|      scaledFeatures|\n",
      "+--------------------+--------------------+\n",
      "|[275.0,44.0,243.2...|[0.24625383230211...|\n",
      "|[387.0,45.0,243.8...|[0.34654630218515...|\n",
      "|[4079.0,60.0,250....|[3.65261593440120...|\n",
      "|[2111.0,16.0,247....|[1.89033396359915...|\n",
      "|[150.0,51.0,251.1...|[0.13432027216479...|\n",
      "|[1914.0,55.0,251....|[1.71392667282272...|\n",
      "|[2841.0,42.0,251....|[2.54402595480113...|\n",
      "|[820.0,26.0,240.4...|[0.73428415450085...|\n",
      "|[257.0,41.0,261.8...|[0.23013539964234...|\n",
      "|[1928.0,50.0,251....|[1.72646323155810...|\n",
      "|[1797.0,15.0,248....|[1.60915686053419...|\n",
      "|[647.0,53.0,246.2...|[0.57936810727079...|\n",
      "|[2070.0,56.0,249....|[1.85361975587411...|\n",
      "|[3632.0,59.0,249....|[3.25234152335013...|\n",
      "|[230.0,45.0,250.6...|[0.20595775065267...|\n",
      "|[3028.0,44.0,251....|[2.71147856076657...|\n",
      "|[1125.0,51.0,253....|[1.00740204123592...|\n",
      "|[215.0,57.0,248.5...|[0.19252572343619...|\n",
      "|[3573.0,60.0,248....|[3.19950888296531...|\n",
      "|[377.0,21.0,251.7...|[0.33759161737417...|\n",
      "+--------------------+--------------------+\n",
      "only showing top 20 rows\n",
      "\n"
     ]
    }
   ],
   "source": [
    "df_scaled.select(['features_vector', 'scaledFeatures']).show()"
   ]
  },
  {
   "cell_type": "code",
   "execution_count": null,
   "metadata": {},
   "outputs": [],
   "source": [
    "#we will use \"scaledFeatures\" as our input data and \"churned\" as our label for our model.\n",
    "df_final = df_scaled.select(['scaledFeatures', 'churned'])"
   ]
  },
  {
   "cell_type": "code",
   "execution_count": null,
   "metadata": {},
   "outputs": [],
   "source": [
    "df_final.printSchema()"
   ]
  },
  {
   "cell_type": "code",
   "execution_count": 72,
   "metadata": {},
   "outputs": [
    {
     "data": {
      "text/plain": [
       "[Row(userId='100010', total_songs_played=275.0, total_number_of_days=44.0, avg_session_length=243.2837677001953, avg_session_songs_user=39.28571319580078, total_number_of_likes=17.0, total_number_of_dislikes=5.0, total_songs_added_to_playlist=7.0, churned=0.0, features_vector=DenseVector([275.0, 44.0, 243.2838, 39.2857, 17.0, 5.0, 7.0]), scaledFeatures=DenseVector([0.2463, 2.5782, 45.1153, 0.9502, 0.2552, 0.3781, 0.211]))]"
      ]
     },
     "execution_count": 72,
     "metadata": {},
     "output_type": "execute_result"
    }
   ],
   "source": [
    "#splitting the data into train and test using random split\n",
    "train_data , test_data = df_scaled.randomSplit([0.8,0.2], seed = 42)\n",
    "train_data.head(1)"
   ]
  },
  {
   "cell_type": "code",
   "execution_count": 73,
   "metadata": {},
   "outputs": [],
   "source": [
    "def train(classifier, train_data=train_data):\n",
    "    ''' function will take as input the classifier name and return the trained model, results, along with training time \n",
    "        lr : LogisticRegression()\n",
    "        rf : RandomForestClassifier()\n",
    "        dt : DecisionTreeClassifier()\n",
    "    \n",
    "    '''\n",
    "    if classifier == 'lr':\n",
    "        #initializing logistic Regression for classification.\n",
    "        print(\"Training the Logistic Regression Model...\")\n",
    "        start_time = time.time()\n",
    "        lr = LogisticRegression(featuresCol ='scaledFeatures', labelCol = 'churned')\n",
    "        \n",
    "        #fitting the model\n",
    "        model = lr.fit(train_data)\n",
    "        \n",
    "        training_time = (time.time() - start_time)\n",
    "        print(\"That took %s seconds.\" % (time.time() - start_time))\n",
    "        \n",
    "    elif classifier == 'rf':\n",
    "        #initializing the Random Forest Classifier\n",
    "        print(\"Training the Random Forest Model...\")\n",
    "        start_time = time.time()\n",
    "        rf = RandomForestClassifier(featuresCol = 'scaledFeatures', labelCol = 'churned')\n",
    "        \n",
    "        #fitting the model\n",
    "        model = rf.fit(train_data)\n",
    "        \n",
    "        training_time = (time.time() - start_time)\n",
    "        print(\"That took %s seconds.\" % (time.time() - start_time))\n",
    "        \n",
    "    elif classifier == 'dt':\n",
    "        #initializing the Decision Tree Classifier\n",
    "        print(\"Training the Decision Tree Model...\")\n",
    "        start_time = time.time()\n",
    "        dt = DecisionTreeClassifier(featuresCol = 'scaledFeatures', labelCol = 'churned')\n",
    "        \n",
    "        #fitting the model\n",
    "        model = dt.fit(train_data)\n",
    "\n",
    "        training_time = (time.time() - start_time)\n",
    "        print(\"That took %s seconds.\" % (time.time() - start_time))\n",
    "        \n",
    "    elif classifier == 'gbt':\n",
    "        #initializing the Gradient Boosted Tree Classifier\n",
    "        print(\"Training the GBTClassifier Model...\")\n",
    "        start_time = time.time()\n",
    "        dt = GBTClassifier(featuresCol = 'scaledFeatures', labelCol = 'churned')\n",
    "        \n",
    "        #fitting the model\n",
    "        model = dt.fit(train_data)\n",
    "\n",
    "        training_time = (time.time() - start_time)\n",
    "        print(\"That took %s seconds.\" % (time.time() - start_time))\n",
    "    \n",
    "    else:\n",
    "        print(\"Classifier not found. Please enter rf, lr, dt or gbt\")\n",
    "        \n",
    "        \n",
    "    return model, training_time"
   ]
  },
  {
   "cell_type": "code",
   "execution_count": 74,
   "metadata": {},
   "outputs": [],
   "source": [
    "def test(model, test_data = test_data):\n",
    "    '''\n",
    "        This function will take as input the trained model, and do some predictions on the data, and return the \n",
    "        accuracy, areaUnderROC\n",
    "    \n",
    "    '''\n",
    "    print(\"Testing model....\")\n",
    "    print(\"Statistics for model: {} \".format(model.featuresCol.parent.split('_')[0]))\n",
    "    predictions = model.transform(test_data)\n",
    "    \n",
    "    #getting the area under ROC\n",
    "    evaluator_areaUnderROC = BinaryClassificationEvaluator(rawPredictionCol='prediction', labelCol='churned', metricName='areaUnderROC')\n",
    "    areaUnderROC = evaluator_areaUnderROC.evaluate(predictions)\n",
    "    print(\"Test Area Under ROC: \" + str(areaUnderROC))\n",
    "    print(\"Test Error = %g\" % (1.0 - areaUnderROC))\n",
    "    \n",
    "    return predictions, areaUnderROC\n",
    "   \n",
    "    "
   ]
  },
  {
   "cell_type": "markdown",
   "metadata": {},
   "source": [
    "# Model Selection & Evaluation"
   ]
  },
  {
   "cell_type": "markdown",
   "metadata": {},
   "source": [
    "We will be training 3 popular machine learning algorithms for selecting the best model.\n",
    "\n",
    "    1. LogisticRegression\n",
    "    2. DecisionTreeClassifier\n",
    "    3. RandomForestClassifier\n",
    "    4. GradientBoostedTreeClassifier\n",
    "\n",
    "As we have a binary label(churned), we can use ``BinaryClassificationEvaluator`` to evaluate our model. We can set the required column names in rawPredictionCol and labelCol Param and the metric in metricName Param. The default metric for this Evaluator is ``areaUnderROC``. \n",
    "\n",
    "Area Under The Curve ROC(Reciever Operating Characteristics) is area under the probability curve. It measures the degree of\n",
    "separability. It tells how much model is capable of distinguishing between classes. Higher the AUC, better the model is at predicting 0s as 0s and 1s as 1s. ROC curve is plotted with TPR against the FPR where TPR is on y-axis and FPR is on the\n",
    "x-axis.\n",
    "\n",
    "TPR(Recall) = TP/ (TP+FP)\n",
    "\n",
    "FPR(Precision) = TN/ (TN+FP)"
   ]
  },
  {
   "cell_type": "markdown",
   "metadata": {},
   "source": [
    "<h4> Logistic Regression </h4>"
   ]
  },
  {
   "cell_type": "code",
   "execution_count": 75,
   "metadata": {},
   "outputs": [
    {
     "name": "stdout",
     "output_type": "stream",
     "text": [
      "Training the Logistic Regression Model...\n",
      "That took 305.2978277206421 seconds.\n"
     ]
    }
   ],
   "source": [
    "#training the Logistic Regression Model\n",
    "model_lr, train_time = train('lr')"
   ]
  },
  {
   "cell_type": "code",
   "execution_count": 76,
   "metadata": {},
   "outputs": [
    {
     "data": {
      "image/png": "[encoded data removed]",
      "text/plain": [
       "<matplotlib.figure.Figure at 0x7fa3b0618160>"
      ]
     },
     "metadata": {},
     "output_type": "display_data"
    },
    {
     "name": "stdout",
     "output_type": "stream",
     "text": [
      "Training set areaUnderROC: 0.8923013923013933\n"
     ]
    }
   ],
   "source": [
    "#plotting the area under curve ROC for logistic regression. The roc is available in training summary.\n",
    "training_summary = model_lr.summary\n",
    "roc = training_summary.roc.toPandas()\n",
    "plt.plot(roc['FPR'],roc['TPR'])\n",
    "plt.ylabel('False Positive Rate')\n",
    "plt.xlabel('True Positive Rate')\n",
    "plt.title('ROC Curve')\n",
    "plt.show()\n",
    "print('Training set areaUnderROC: ' + str(training_summary.areaUnderROC))"
   ]
  },
  {
   "cell_type": "code",
   "execution_count": 77,
   "metadata": {},
   "outputs": [
    {
     "name": "stdout",
     "output_type": "stream",
     "text": [
      "Testing model....\n",
      "Statistics for model: LogisticRegression \n",
      "Test Area Under ROC: 0.75\n",
      "Test Error = 0.25\n"
     ]
    }
   ],
   "source": [
    "#testing and finding statistics about the models\n",
    "predictions, areaUnderROC = test(model_lr)"
   ]
  },
  {
   "cell_type": "code",
   "execution_count": 78,
   "metadata": {},
   "outputs": [
    {
     "name": "stdout",
     "output_type": "stream",
     "text": [
      "root\n",
      " |-- userId: string (nullable = true)\n",
      " |-- total_songs_played: float (nullable = false)\n",
      " |-- total_number_of_days: float (nullable = true)\n",
      " |-- avg_session_length: float (nullable = true)\n",
      " |-- avg_session_songs_user: float (nullable = true)\n",
      " |-- total_number_of_likes: float (nullable = false)\n",
      " |-- total_number_of_dislikes: float (nullable = false)\n",
      " |-- total_songs_added_to_playlist: float (nullable = false)\n",
      " |-- churned: float (nullable = false)\n",
      " |-- features_vector: vector (nullable = true)\n",
      " |-- scaledFeatures: vector (nullable = true)\n",
      " |-- rawPrediction: vector (nullable = true)\n",
      " |-- probability: vector (nullable = true)\n",
      " |-- prediction: double (nullable = false)\n",
      "\n"
     ]
    }
   ],
   "source": [
    "predictions.printSchema()"
   ]
  },
  {
   "cell_type": "code",
   "execution_count": 79,
   "metadata": {},
   "outputs": [
    {
     "data": {
      "image/png": "[encoded data removed]",
      "text/plain": [
       "<matplotlib.figure.Figure at 0x7fa3b02c2198>"
      ]
     },
     "metadata": {},
     "output_type": "display_data"
    },
    {
     "name": "stdout",
     "output_type": "stream",
     "text": [
      "Testing set areaUnderROC: 0.75\n"
     ]
    }
   ],
   "source": [
    "#plotting the AUC\n",
    "fpr = dict()\n",
    "tpr = dict()\n",
    "roc_auc = dict()\n",
    "\n",
    "# View model's predictions and probabilities of each prediction class\n",
    "results = predictions.select(['probability', 'churned'])\n",
    "#prepare score - label set\n",
    "results_collect = results.collect()\n",
    "results_list = [ (float(row[0][0]),1.0 - float(row[1]) ) for row in results_collect]\n",
    "\n",
    "y_test = [i[1] for i in results_list]\n",
    "y_score = [i[0] for i in results_list]\n",
    "\n",
    "fpr, tpr , _ = roc_curve(y_test, y_score)\n",
    "roc_auc = auc(fpr, tpr)\n",
    "\n",
    "plt.plot(fpr,tpr)\n",
    "plt.ylabel('False Positive Rate')\n",
    "plt.xlabel('True Positive Rate')\n",
    "plt.title('ROC Curve')\n",
    "plt.show()\n",
    "print('Testing set areaUnderROC: ' + str(areaUnderROC))"
   ]
  },
  {
   "cell_type": "markdown",
   "metadata": {},
   "source": [
    "<h4>Decision Tree Classifier </h4>"
   ]
  },
  {
   "cell_type": "code",
   "execution_count": 80,
   "metadata": {},
   "outputs": [
    {
     "name": "stdout",
     "output_type": "stream",
     "text": [
      "Training the Decision Tree Model...\n",
      "That took 108.65027976036072 seconds.\n"
     ]
    }
   ],
   "source": [
    "#training the decision tree classifier\n",
    "model_dt, train_time = train('dt')"
   ]
  },
  {
   "cell_type": "code",
   "execution_count": 81,
   "metadata": {},
   "outputs": [
    {
     "name": "stdout",
     "output_type": "stream",
     "text": [
      "Testing model....\n",
      "Statistics for model: DecisionTreeClassifier \n",
      "Test Area Under ROC: 0.7761904761904761\n",
      "Test Error = 0.22381\n"
     ]
    }
   ],
   "source": [
    "#testing and finding statistics about the models\n",
    "predictions, areaUnderROC = test(model_dt)"
   ]
  },
  {
   "cell_type": "code",
   "execution_count": 82,
   "metadata": {},
   "outputs": [
    {
     "data": {
      "image/png": "[encoded data removed]",
      "text/plain": [
       "<matplotlib.figure.Figure at 0x7fa3b0756978>"
      ]
     },
     "metadata": {},
     "output_type": "display_data"
    },
    {
     "name": "stdout",
     "output_type": "stream",
     "text": [
      "Testing set areaUnderROC: 0.7761904761904761\n"
     ]
    }
   ],
   "source": [
    "#plotting the AUC\n",
    "fpr = dict()\n",
    "tpr = dict()\n",
    "roc_auc = dict()\n",
    "\n",
    "# View model's predictions and probabilities of each prediction class\n",
    "results = predictions.select(['probability', 'churned'])\n",
    "#prepare score - label set\n",
    "results_collect = results.collect()\n",
    "results_list = [ (float(row[0][0]),1.0 - float(row[1]) ) for row in results_collect]\n",
    "\n",
    "y_test = [i[1] for i in results_list]\n",
    "y_score = [i[0] for i in results_list]\n",
    "\n",
    "fpr, tpr , _ = roc_curve(y_test, y_score)\n",
    "roc_auc = auc(fpr, tpr)\n",
    "\n",
    "plt.plot(fpr,tpr)\n",
    "plt.ylabel('False Positive Rate')\n",
    "plt.xlabel('True Positive Rate')\n",
    "plt.title('ROC Curve fo Decision Tree Classifier')\n",
    "plt.show()\n",
    "print('Testing set areaUnderROC: ' + str(areaUnderROC))"
   ]
  },
  {
   "cell_type": "markdown",
   "metadata": {},
   "source": [
    "<h4>Random Forest Classifier </h4>"
   ]
  },
  {
   "cell_type": "code",
   "execution_count": 83,
   "metadata": {},
   "outputs": [
    {
     "name": "stdout",
     "output_type": "stream",
     "text": [
      "Training the Random Forest Model...\n",
      "That took 123.3595883846283 seconds.\n"
     ]
    }
   ],
   "source": [
    "#training the random forest classifier\n",
    "model_rf, train_time = train('rf')"
   ]
  },
  {
   "cell_type": "code",
   "execution_count": null,
   "metadata": {},
   "outputs": [],
   "source": [
    "#saving the model\n",
    "model_rf.save('models/model_rf_2.model')"
   ]
  },
  {
   "cell_type": "code",
   "execution_count": 84,
   "metadata": {},
   "outputs": [
    {
     "name": "stdout",
     "output_type": "stream",
     "text": [
      "Testing model....\n",
      "Statistics for model: RandomForestClassifier \n",
      "Test Area Under ROC: 0.7761904761904761\n",
      "Test Error = 0.22381\n"
     ]
    }
   ],
   "source": [
    "#testing and finding statistics about the models\n",
    "predictions, areaUnderROC = test(model_rf)"
   ]
  },
  {
   "cell_type": "code",
   "execution_count": 85,
   "metadata": {},
   "outputs": [
    {
     "data": {
      "image/png": "[encoded data removed]",
      "text/plain": [
       "<matplotlib.figure.Figure at 0x7fa3b075ccc0>"
      ]
     },
     "metadata": {},
     "output_type": "display_data"
    },
    {
     "name": "stdout",
     "output_type": "stream",
     "text": [
      "Testing set areaUnderROC: 0.7761904761904761\n"
     ]
    }
   ],
   "source": [
    "#plotting the AUC\n",
    "fpr = dict()\n",
    "tpr = dict()\n",
    "roc_auc = dict()\n",
    "\n",
    "# View model's predictions and probabilities of each prediction class\n",
    "results = predictions.select(['probability', 'churned'])\n",
    "#prepare score - label set\n",
    "results_collect = results.collect()\n",
    "results_list = [ (float(row[0][0]),1.0 - float(row[1]) ) for row in results_collect]\n",
    "\n",
    "y_test = [i[1] for i in results_list]\n",
    "y_score = [i[0] for i in results_list]\n",
    "\n",
    "fpr, tpr , _ = roc_curve(y_test, y_score)\n",
    "roc_auc = auc(fpr, tpr)\n",
    "\n",
    "plt.plot(fpr,tpr)\n",
    "plt.ylabel('False Positive Rate')\n",
    "plt.xlabel('True Positive Rate')\n",
    "plt.title('ROC Curve for RandomForest Classifier')\n",
    "plt.show()\n",
    "print('Testing set areaUnderROC: ' + str(areaUnderROC))"
   ]
  },
  {
   "cell_type": "markdown",
   "metadata": {},
   "source": [
    "**GradientBoostedTreeClassifier**"
   ]
  },
  {
   "cell_type": "code",
   "execution_count": 86,
   "metadata": {},
   "outputs": [
    {
     "name": "stdout",
     "output_type": "stream",
     "text": [
      "Training the GBTClassifier Model...\n",
      "That took 383.97645020484924 seconds.\n"
     ]
    }
   ],
   "source": [
    "#training the gradient boosting classifier\n",
    "model_gbt, train_time = train('gbt')"
   ]
  },
  {
   "cell_type": "code",
   "execution_count": 87,
   "metadata": {},
   "outputs": [
    {
     "name": "stdout",
     "output_type": "stream",
     "text": [
      "Testing model....\n",
      "Statistics for model: GBTClassifier \n",
      "Test Area Under ROC: 0.7761904761904761\n",
      "Test Error = 0.22381\n"
     ]
    }
   ],
   "source": [
    "#testing and finding statistics about the models\n",
    "predictions, areaUnderROC = test(model_gbt)"
   ]
  },
  {
   "cell_type": "code",
   "execution_count": 88,
   "metadata": {},
   "outputs": [
    {
     "data": {
      "image/png": "[encoded data removed]",
      "text/plain": [
       "<matplotlib.figure.Figure at 0x7fa3b069dac8>"
      ]
     },
     "metadata": {},
     "output_type": "display_data"
    },
    {
     "name": "stdout",
     "output_type": "stream",
     "text": [
      "Testing set areaUnderROC: 0.7761904761904761\n"
     ]
    }
   ],
   "source": [
    "#plotting the AUC\n",
    "fpr = dict()\n",
    "tpr = dict()\n",
    "roc_auc = dict()\n",
    "\n",
    "# View model's predictions and probabilities of each prediction class\n",
    "results = predictions.select(['probability', 'churned'])\n",
    "#prepare score - label set\n",
    "results_collect = results.collect()\n",
    "results_list = [ (float(row[0][0]),1.0 - float(row[1]) ) for row in results_collect]\n",
    "\n",
    "y_test = [i[1] for i in results_list]\n",
    "y_score = [i[0] for i in results_list]\n",
    "\n",
    "fpr, tpr , _ = roc_curve(y_test, y_score)\n",
    "roc_auc = auc(fpr, tpr)\n",
    "\n",
    "plt.plot(fpr,tpr)\n",
    "plt.ylabel('False Positive Rate')\n",
    "plt.xlabel('True Positive Rate')\n",
    "plt.title('ROC Curve for GradientBoostedTree Classifier')\n",
    "plt.show()\n",
    "print('Testing set areaUnderROC: ' + str(areaUnderROC))"
   ]
  },
  {
   "cell_type": "code",
   "execution_count": 108,
   "metadata": {},
   "outputs": [
    {
     "data": {
      "text/plain": [
       "array([1, 0, 6, 5, 3, 4, 2])"
      ]
     },
     "execution_count": 108,
     "metadata": {},
     "output_type": "execute_result"
    }
   ],
   "source": [
    "importantecs = model_rf.featureImportances"
   ]
  },
  {
   "cell_type": "code",
   "execution_count": 101,
   "metadata": {},
   "outputs": [
    {
     "data": {
      "text/plain": [
       "array([1, 0, 6, 5, 3, 4, 2])"
      ]
     },
     "execution_count": 101,
     "metadata": {},
     "output_type": "execute_result"
    }
   ],
   "source": [
    "indices = np.argsort(importantecs)[::-1]"
   ]
  },
  {
   "cell_type": "code",
   "execution_count": 121,
   "metadata": {},
   "outputs": [
    {
     "name": "stdout",
     "output_type": "stream",
     "text": [
      "1 total_songs_played\n",
      "2 total_number_of_days\n",
      "3 avg_session_length\n",
      "4 avg_session_songs_user\n",
      "5 total_number_of_likes\n",
      "6 total_number_of_dislikes\n"
     ]
    }
   ],
   "source": [
    "#the feature importance is\n",
    "for i, c in enumerate(np.array(train_data.columns)):\n",
    "    if i in indices and i > 0:\n",
    "        print(i,c)"
   ]
  },
  {
   "cell_type": "markdown",
   "metadata": {},
   "source": [
    "# Model Tuning"
   ]
  },
  {
   "cell_type": "markdown",
   "metadata": {},
   "source": [
    "> From above analysis, we could clearly see GradientBoostedTree is performing best compared to LogisticRegression, RandomForest and DecisionTree.\n",
    "For, Logistic Regression the training time is significantly huge as well. Decision Tree without any parameters outperformed RandomForestClassifier.\n",
    "GradientBoosted Tree classifier uses an ensemble of decision trees. In terms of performance and accuracy, this model is best one we will select for further tuning.\n",
    "\n",
    ">We will use RandomForest and GBT to perform cross-validation.\n",
    "\n",
    ">cross-validation over a grid of parameters is expensive. E.g., the parameter grid has 2 values for numTrees and 4 values for rf.maxDepth, and CrossValidator uses 3 folds. This multiplies out to (2×4)×3=24 different models being trained. In realistic settings, it can be common to try many more parameters and use more folds. In other words, using CrossValidator can be very expensive. However, it is also a well-established method for choosing parameters which is more statistically sound than heuristic hand-tuning."
   ]
  },
  {
   "cell_type": "code",
   "execution_count": 122,
   "metadata": {},
   "outputs": [],
   "source": [
    "#in order to use in cross validation, we need to rename our target and features to a label, features. Same for test set.\n",
    "train_data_cv = train_data.withColumnRenamed(\"churned\", \"label\").withColumnRenamed(\"scaledFeatures\", 'features')"
   ]
  },
  {
   "cell_type": "code",
   "execution_count": 123,
   "metadata": {},
   "outputs": [],
   "source": [
    "test_data_cv = test_data.withColumnRenamed(\"churned\", \"label\").withColumnRenamed(\"scaledFeatures\", 'features')"
   ]
  },
  {
   "cell_type": "code",
   "execution_count": 124,
   "metadata": {},
   "outputs": [
    {
     "name": "stdout",
     "output_type": "stream",
     "text": [
      "Training the RF over crossval...\n",
      "training complete\n",
      "That took 774.6989688873291 seconds.\n"
     ]
    }
   ],
   "source": [
    "#Random Forest Classifier\n",
    "#we will now create a pipeline for estimator wrapping it in a CrossValidator instance.\n",
    "# This will allow us to jointly choose parameters for all Pipeline stages.\n",
    "# A CrossValidator requires an Estimator, a set of Estimator ParamMaps, and an Evaluator.\n",
    "# We use a ParamGridBuilder to construct a grid of parameters to search over.\n",
    "# With 3 values for rf.numTrees and 4 values for rf.maxDepth,\n",
    "# this grid will have 2 x 3 = 8 parameter settings for CrossValidator to choose from for 3 folds.\n",
    "\n",
    "numFolds = 3\n",
    "\n",
    "rf = RandomForestClassifier()\n",
    "evaluator = BinaryClassificationEvaluator()  \n",
    "\n",
    "paramGrid = (ParamGridBuilder() \\\n",
    "    .addGrid(rf.numTrees, [10, 20])\\\n",
    "    .addGrid(rf.maxDepth, [2, 4, 6])  \\\n",
    "    .build())\n",
    "\n",
    "crossval = CrossValidator(\n",
    "    estimator=rf,\n",
    "    estimatorParamMaps=paramGrid,\n",
    "    evaluator=evaluator,\n",
    "    numFolds=numFolds)\n",
    "\n",
    "print(\"Training the RF over crossval...\")\n",
    "start_time = time.time()\n",
    "\n",
    "model_rf_cv = crossval.fit(train_data_cv)\n",
    "\n",
    "print(\"training complete\")\n",
    "print(\"That took %s seconds.\" % (time.time() - start_time))"
   ]
  },
  {
   "cell_type": "code",
   "execution_count": 131,
   "metadata": {},
   "outputs": [],
   "source": [
    "def cross_val_test(model, test_data = test_data_cv):\n",
    "    '''\n",
    "        This function will take as input the trained model, and do some predictions on the data, and return the \n",
    "        accuracy, areaUnderROC\n",
    "    \n",
    "    '''\n",
    "    print(\"Testing model for cross validation....\")\n",
    "    predictions = model.transform(test_data_cv)\n",
    "    \n",
    "    #getting the area under ROC\n",
    "    evaluator_areaUnderROC = BinaryClassificationEvaluator(rawPredictionCol='prediction', labelCol='label', metricName='areaUnderROC')\n",
    "    areaUnderROC = evaluator_areaUnderROC.evaluate(predictions)\n",
    "    print(\"Test Area Under ROC: \" + str(areaUnderROC))\n",
    "    print(\"Test Error = %g\" % (1.0 - areaUnderROC))\n",
    "    \n",
    "    return predictions, areaUnderROC"
   ]
  },
  {
   "cell_type": "code",
   "execution_count": 132,
   "metadata": {},
   "outputs": [
    {
     "name": "stdout",
     "output_type": "stream",
     "text": [
      "Testing model for cross validation....\n",
      "Test Area Under ROC: 0.726190476190476\n",
      "Test Error = 0.27381\n"
     ]
    }
   ],
   "source": [
    "# Make predictions on test documents. cvModel uses the best model found (lrModel).\n",
    "prediction, areaUnderROC = cross_val_test(model_rf_cv)"
   ]
  },
  {
   "cell_type": "code",
   "execution_count": 133,
   "metadata": {},
   "outputs": [
    {
     "data": {
      "text/plain": [
       "RandomForestClassificationModel (uid=RandomForestClassifier_c38b8cd5a43c) with 10 trees"
      ]
     },
     "execution_count": 133,
     "metadata": {},
     "output_type": "execute_result"
    }
   ],
   "source": [
    "model_rf_cv.bestModel"
   ]
  },
  {
   "cell_type": "code",
   "execution_count": 135,
   "metadata": {},
   "outputs": [
    {
     "data": {
      "image/png": "[encoded data removed]",
      "text/plain": [
       "<matplotlib.figure.Figure at 0x7fa3b054c048>"
      ]
     },
     "metadata": {},
     "output_type": "display_data"
    },
    {
     "name": "stdout",
     "output_type": "stream",
     "text": [
      "Testing set areaUnderROC: 0.726190476190476\n"
     ]
    }
   ],
   "source": [
    "#plotting the AUC\n",
    "fpr = dict()\n",
    "tpr = dict()\n",
    "roc_auc = dict()\n",
    "\n",
    "# View model's predictions and probabilities of each prediction class\n",
    "results = prediction.select(['probability', 'label'])\n",
    "#prepare score - label set\n",
    "results_collect = results.collect()\n",
    "results_list = [ (float(row[0][0]),1.0 - float(row[1]) ) for row in results_collect]\n",
    "\n",
    "y_test = [i[1] for i in results_list]\n",
    "y_score = [i[0] for i in results_list]\n",
    "\n",
    "fpr, tpr , _ = roc_curve(y_test, y_score)\n",
    "roc_auc = auc(fpr, tpr)\n",
    "\n",
    "plt.plot(fpr,tpr)\n",
    "plt.ylabel('False Positive Rate')\n",
    "plt.xlabel('True Positive Rate')\n",
    "plt.title('ROC Curve for CV RandomForest Classifier')\n",
    "plt.show()\n",
    "print('Testing set areaUnderROC: ' + str(areaUnderROC))"
   ]
  },
  {
   "cell_type": "markdown",
   "metadata": {},
   "source": [
    ">Even after many tries, the cross-validation could not improve the model. Similar operation was performed on GradientBoosted Tree, but that operation took more than 2 hrs and the result could not improve either.\n",
    "\n",
    ">In this scenario, we would go with our best model as the default RandomForestClassifier."
   ]
  },
  {
   "cell_type": "markdown",
   "metadata": {},
   "source": [
    "# Conclusion"
   ]
  },
  {
   "cell_type": "markdown",
   "metadata": {},
   "source": [
    ">We performed several ML models on our event log data and plotted the AUCROC curve for each of the models. \n",
    "We found out, the Random Tree Classifier to be the most efficient model out of all. We also performed cross-validation for \n",
    "model tuning. Finally, I wrote a blog post with my findings in medium.com."
   ]
  }
 ],
 "metadata": {
  "kernelspec": {
   "display_name": "Python 3",
   "language": "python",
   "name": "python3"
  },
  "language_info": {
   "codemirror_mode": {
    "name": "ipython",
    "version": 3
   },
   "file_extension": ".py",
   "mimetype": "text/x-python",
   "name": "python",
   "nbconvert_exporter": "python",
   "pygments_lexer": "ipython3",
   "version": "3.6.3"
  }
 },
 "nbformat": 4,
 "nbformat_minor": 2
}
